{
  "nbformat": 4,
  "nbformat_minor": 0,
  "metadata": {
    "colab": {
      "provenance": [],
      "include_colab_link": true
    },
    "kernelspec": {
      "name": "python3",
      "display_name": "Python 3"
    },
    "language_info": {
      "name": "python"
    }
  },
  "cells": [
    {
      "cell_type": "markdown",
      "metadata": {
        "id": "view-in-github",
        "colab_type": "text"
      },
      "source": [
        "<a href=\"https://colab.research.google.com/github/luigiantonelli/DeepLearning-Project/blob/main/Deep_Learning_Project_Antonelli_Cuconasu_Gaudenzi.ipynb\" target=\"_parent\"><img src=\"https://colab.research.google.com/assets/colab-badge.svg\" alt=\"Open In Colab\"/></a>"
      ]
    },
    {
      "cell_type": "markdown",
      "source": [
        "# Installations and imports"
      ],
      "metadata": {
        "id": "_0HXoR9RpcO9"
      }
    },
    {
      "cell_type": "code",
      "execution_count": 58,
      "metadata": {
        "id": "fxGf0hOgnsPD"
      },
      "outputs": [],
      "source": [
        "!pip install pytorch-lightning --quiet\n",
        "!pip install torchmetrics --quiet\n",
        "!pip install gdown==4.5.4 --no-cache-dir --quiet"
      ]
    },
    {
      "cell_type": "code",
      "source": [
        "import torch\n",
        "import torch.nn as nn\n",
        "import torch.nn.functional as F\n",
        "from torch.autograd import Variable\n",
        "from torch.utils.data import Dataset, DataLoader, random_split\n",
        "import torchmetrics\n",
        "import matplotlib.pyplot as plt\n",
        "import numpy as np\n",
        "import os\n",
        "import pickle as pkl\n",
        "from tqdm.notebook import tqdm\n",
        "import pytorch_lightning as pl \n",
        "import math\n",
        "from math import sqrt\n",
        "import pickle\n",
        "from typing import *\n",
        "import gdown"
      ],
      "metadata": {
        "id": "DobcczcWqek-"
      },
      "execution_count": 59,
      "outputs": []
    },
    {
      "cell_type": "markdown",
      "source": [
        "# Dataset"
      ],
      "metadata": {
        "id": "P4AfeDpYq3dL"
      }
    },
    {
      "cell_type": "code",
      "source": [
        "\"\"\"\n",
        "url = \"https://drive.google.com/drive/folders/1-6MRkFoSSRJqeKgcMXm3PeA159KzHuB_?usp=sharing\"\n",
        "gdown.download_folder(url = url, quiet = True, use_cookies = False, remaining_ok=True)\n",
        "\"\"\"\n",
        "\n",
        "from google.colab import drive\n",
        "drive.mount('/content/drive')\n"
      ],
      "metadata": {
        "colab": {
          "base_uri": "https://localhost:8080/"
        },
        "id": "xVNGXDrHt71Y",
        "outputId": "0f2c0409-b5ad-42e0-88ba-a1681c4676ce"
      },
      "execution_count": 3,
      "outputs": [
        {
          "output_type": "stream",
          "name": "stdout",
          "text": [
            "Mounted at /content/drive\n"
          ]
        }
      ]
    },
    {
      "cell_type": "code",
      "source": [
        "#dataset_folder_path = \"/content/drive/MyDrive/Colab Notebooks/Deep Learning/DeepLearningProject-Shared\"\n",
        "dataset_folder_path = \"/content/drive/MyDrive/Deep_Learning_Project\"\n",
        "os.chdir(dataset_folder_path)"
      ],
      "metadata": {
        "id": "gDIk7qc1uP4g"
      },
      "execution_count": 4,
      "outputs": []
    },
    {
      "cell_type": "code",
      "source": [
        "!ls"
      ],
      "metadata": {
        "colab": {
          "base_uri": "https://localhost:8080/"
        },
        "id": "MmbglL0Yt7yu",
        "outputId": "59a1a7f8-77d8-4fcd-9841-86367c7098cd"
      },
      "execution_count": null,
      "outputs": [
        {
          "output_type": "stream",
          "name": "stdout",
          "text": [
            "algebra__linear_1d  datasets  mathematics_dataset-v1.0\tmodules.txt\n"
          ]
        }
      ]
    },
    {
      "cell_type": "code",
      "source": [],
      "metadata": {
        "id": "Ve_GZkJh8TAs"
      },
      "execution_count": null,
      "outputs": []
    },
    {
      "cell_type": "code",
      "source": [
        "def read_dataset(text_path: str, lowercase: bool=True) -> Tuple[List[str], List[str]]:\n",
        "    questions = []\n",
        "    answers = []\n",
        "\n",
        "    with open(text_path) as f:\n",
        "        for idx, line in enumerate(f):\n",
        "            if lowercase:\n",
        "                if idx % 2 == 0: # Questions\n",
        "                    questions.append(line.rstrip().lower()) \n",
        "                else:\n",
        "                    answers.append(line.rstrip().lower())\n",
        "\n",
        "    return questions, answers"
      ],
      "metadata": {
        "id": "8v1Y18AQt7wF"
      },
      "execution_count": null,
      "outputs": []
    },
    {
      "cell_type": "code",
      "source": [
        "def get_vocabulary(lists_of_texts: List[List[str]]):\n",
        "    unified_text = []\n",
        "    \n",
        "    for l in lists_of_texts:\n",
        "        unified_text += l\n",
        "\n",
        "    return Counter(\" \".join(unified_text)).keys()"
      ],
      "metadata": {
        "id": "lYe9h3nL2ef0"
      },
      "execution_count": null,
      "outputs": []
    },
    {
      "cell_type": "code",
      "source": [
        "import glob\n",
        "# Get all files\n",
        "folders = ['extrapolate', 'interpolate', 'train-easy', 'train-medium', 'train-hard']\n",
        "files = []\n",
        "\n",
        "for fold in folders:\n",
        "    files += glob.glob(f\"./mathematics_dataset-v1.0/{fold}/*.txt\")"
      ],
      "metadata": {
        "id": "0dvxsrOv8jev"
      },
      "execution_count": null,
      "outputs": []
    },
    {
      "cell_type": "code",
      "source": [
        "files[:5]"
      ],
      "metadata": {
        "colab": {
          "base_uri": "https://localhost:8080/"
        },
        "id": "EJ8XDzZhDqiy",
        "outputId": "f71095af-44fa-49e3-8990-5653475f42d3"
      },
      "execution_count": null,
      "outputs": [
        {
          "output_type": "execute_result",
          "data": {
            "text/plain": [
              "['./mathematics_dataset-v1.0/extrapolate/arithmetic__add_sub_multiple_longer.txt',\n",
              " './mathematics_dataset-v1.0/extrapolate/algebra__polynomial_roots_big.txt',\n",
              " './mathematics_dataset-v1.0/extrapolate/arithmetic__add_or_sub_big.txt',\n",
              " './mathematics_dataset-v1.0/extrapolate/arithmetic__div_big.txt',\n",
              " './mathematics_dataset-v1.0/extrapolate/arithmetic__mul_div_multiple_longer.txt']"
            ]
          },
          "metadata": {},
          "execution_count": 10
        }
      ]
    },
    {
      "cell_type": "code",
      "source": [
        "vocabulary = {}\n",
        "all_lists = []"
      ],
      "metadata": {
        "id": "6STsKEUWF3Lb"
      },
      "execution_count": null,
      "outputs": []
    },
    {
      "cell_type": "code",
      "source": [
        "i = 0\n",
        "for f in files:\n",
        "    train, test = read_dataset(f)\n",
        "    all_lists += train\n",
        "    all_lists += test\n",
        "\n",
        "    vocabulary = vocabulary | get_vocabulary(all_lists)\n",
        "    all_lists = []\n",
        "\n",
        "    if i % 10 == 0:\n",
        "        with open('./datasets/vocabulary.pkl', 'wb') as f:\n",
        "            pickle.dump(vocabulary, f)"
      ],
      "metadata": {
        "id": "FUejIWdZGnPL"
      },
      "execution_count": null,
      "outputs": []
    },
    {
      "cell_type": "code",
      "source": [
        "vocabulary"
      ],
      "metadata": {
        "id": "BQ2P_Vw3HKkq"
      },
      "execution_count": null,
      "outputs": []
    },
    {
      "cell_type": "code",
      "source": [
        "with open('./datasets/vocabulary.pkl', 'rb') as f:\n",
        "    vo = pickle.load(f)"
      ],
      "metadata": {
        "id": "jM-I-ODQOcUw"
      },
      "execution_count": 5,
      "outputs": []
    },
    {
      "cell_type": "code",
      "source": [
        "vocabulary = vo"
      ],
      "metadata": {
        "id": "A9Hzt8oUOjBS"
      },
      "execution_count": 6,
      "outputs": []
    },
    {
      "cell_type": "code",
      "source": [
        "len(vocabulary)"
      ],
      "metadata": {
        "colab": {
          "base_uri": "https://localhost:8080/"
        },
        "id": "2SWv7XaOEGqJ",
        "outputId": "0cc57f55-9b72-42a5-ee3f-c12ec6cbd679"
      },
      "execution_count": null,
      "outputs": [
        {
          "output_type": "execute_result",
          "data": {
            "text/plain": [
              "54"
            ]
          },
          "metadata": {},
          "execution_count": 9
        }
      ]
    },
    {
      "cell_type": "code",
      "source": [
        "len(all_lists)"
      ],
      "metadata": {
        "colab": {
          "base_uri": "https://localhost:8080/"
        },
        "id": "xr-Lz5ndDvTW",
        "outputId": "63ec9f4a-a2bc-4074-d2e6-6693b8b0fdc7"
      },
      "execution_count": null,
      "outputs": [
        {
          "output_type": "execute_result",
          "data": {
            "text/plain": [
              "20000"
            ]
          },
          "metadata": {},
          "execution_count": 12
        }
      ]
    },
    {
      "cell_type": "code",
      "source": [
        "!ls ./mathematics_dataset-v1.0/train-easy"
      ],
      "metadata": {
        "colab": {
          "base_uri": "https://localhost:8080/"
        },
        "id": "xPQ2uETGBBB_",
        "outputId": "6cad7cc8-3798-426d-db01-34e5ee633989"
      },
      "execution_count": null,
      "outputs": [
        {
          "output_type": "stream",
          "name": "stdout",
          "text": [
            "algebra__linear_1d_composed.txt\n",
            "algebra__linear_1d.txt\n",
            "algebra__linear_2d_composed.txt\n",
            "algebra__linear_2d.txt\n",
            "algebra__polynomial_roots_composed.txt\n",
            "algebra__polynomial_roots.txt\n",
            "algebra__sequence_next_term.txt\n",
            "algebra__sequence_nth_term.txt\n",
            "arithmetic__add_or_sub_in_base.txt\n",
            "arithmetic__add_or_sub.txt\n",
            "arithmetic__add_sub_multiple.txt\n",
            "arithmetic__div.txt\n",
            "arithmetic__mixed.txt\n",
            "arithmetic__mul_div_multiple.txt\n",
            "arithmetic__mul.txt\n",
            "arithmetic__nearest_integer_root.txt\n",
            "arithmetic__simplify_surd.txt\n",
            "calculus__differentiate_composed.txt\n",
            "calculus__differentiate.txt\n",
            "comparison__closest_composed.txt\n",
            "comparison__closest.txt\n",
            "comparison__kth_biggest_composed.txt\n",
            "comparison__kth_biggest.txt\n",
            "comparison__pair_composed.txt\n",
            "comparison__pair.txt\n",
            "comparison__sort_composed.txt\n",
            "comparison__sort.txt\n",
            "measurement__conversion.txt\n",
            "measurement__time.txt\n",
            "numbers__base_conversion.txt\n",
            "numbers__div_remainder_composed.txt\n",
            "numbers__div_remainder.txt\n",
            "numbers__gcd_composed.txt\n",
            "numbers__gcd.txt\n",
            "numbers__is_factor_composed.txt\n",
            "numbers__is_factor.txt\n",
            "numbers__is_prime_composed.txt\n",
            "numbers__is_prime.txt\n",
            "numbers__lcm_composed.txt\n",
            "numbers__lcm.txt\n",
            "numbers__list_prime_factors_composed.txt\n",
            "numbers__list_prime_factors.txt\n",
            "numbers__place_value_composed.txt\n",
            "numbers__place_value.txt\n",
            "numbers__round_number_composed.txt\n",
            "numbers__round_number.txt\n",
            "polynomials__add.txt\n",
            "polynomials__coefficient_named.txt\n",
            "polynomials__collect.txt\n",
            "polynomials__compose.txt\n",
            "polynomials__evaluate_composed.txt\n",
            "polynomials__evaluate.txt\n",
            "polynomials__expand.txt\n",
            "polynomials__simplify_power.txt\n",
            "probability__swr_p_level_set.txt\n",
            "probability__swr_p_sequence.txt\n"
          ]
        }
      ]
    },
    {
      "cell_type": "code",
      "source": [
        "algebra_path = \"./mathematics_dataset-v1.0/train-easy/algebra__linear_1d.txt\"\n",
        "probability_path = \"./mathematics_dataset-v1.0/train-easy/probability__swr_p_level_set.txt\"\n",
        "prime_path = \"./mathematics_dataset-v1.0/train-easy/numbers__is_prime.txt\""
      ],
      "metadata": {
        "id": "NubFUsQo0TM2"
      },
      "execution_count": null,
      "outputs": []
    },
    {
      "cell_type": "code",
      "source": [
        "questions_easy_algebra, answers_easy_algebra = read_dataset(algebra_path)\n",
        "questions_easy_probability, answers_easy_probability = read_dataset(probability_path)\n",
        "questions_easy_prime, answers_easy_prime = read_dataset(prime_path)"
      ],
      "metadata": {
        "id": "qfOfAYIh08FD"
      },
      "execution_count": null,
      "outputs": []
    },
    {
      "cell_type": "code",
      "source": [
        "from collections import Counter\n",
        "lis = \" \".join(questions_easy_prime)\n",
        "Counter(lis)"
      ],
      "metadata": {
        "id": "vkIbTIzAyPQK"
      },
      "execution_count": null,
      "outputs": []
    },
    {
      "cell_type": "code",
      "source": [
        "t = []\n",
        "a = questions_easy_algebra + answers_easy_algebra"
      ],
      "metadata": {
        "id": "WFzzrWrL3Fx_"
      },
      "execution_count": null,
      "outputs": []
    },
    {
      "cell_type": "code",
      "source": [
        "a[-4]"
      ],
      "metadata": {
        "colab": {
          "base_uri": "https://localhost:8080/",
          "height": 36
        },
        "id": "9i8rzuUO3K3q",
        "outputId": "b8c6eca7-b149-4d88-9c32-565731fccabb"
      },
      "execution_count": null,
      "outputs": [
        {
          "output_type": "execute_result",
          "data": {
            "text/plain": [
              "'-7'"
            ],
            "application/vnd.google.colaboratory.intrinsic+json": {
              "type": "string"
            }
          },
          "metadata": {},
          "execution_count": 70
        }
      ]
    },
    {
      "cell_type": "code",
      "source": [
        "a = get_vocabulary([questions_easy_algebra, answers_easy_algebra])"
      ],
      "metadata": {
        "id": "qLdQ5Ub64D19"
      },
      "execution_count": null,
      "outputs": []
    },
    {
      "cell_type": "code",
      "source": [
        "a"
      ],
      "metadata": {
        "colab": {
          "base_uri": "https://localhost:8080/"
        },
        "id": "t8-fBTK96BjC",
        "outputId": "9dc23cc9-c6e4-44a5-b933-7b4688e05e57"
      },
      "execution_count": null,
      "outputs": [
        {
          "output_type": "execute_result",
          "data": {
            "text/plain": [
              "dict_keys(['s', 'o', 'l', 'v', 'e', ' ', '0', '=', '4', '*', 'b', '+', '1', '5', 'f', 'r', '.', '-', '3', 'd', 'h', '9', '2', 'm', '8', '7', 'a', '6', 'w', 'c', 'z', 'j', 'n', 'y', 'x', 'u', 'g', 'k', 'q', 'i', 'p', 't'])"
            ]
          },
          "metadata": {},
          "execution_count": 97
        }
      ]
    },
    {
      "cell_type": "code",
      "source": [
        "import string\n",
        "a = string.printable"
      ],
      "metadata": {
        "id": "ReFssKsb4S9q"
      },
      "execution_count": null,
      "outputs": []
    },
    {
      "cell_type": "code",
      "source": [
        "string.ascii_uppercase"
      ],
      "metadata": {
        "colab": {
          "base_uri": "https://localhost:8080/",
          "height": 36
        },
        "id": "SrE81tMC6X0Y",
        "outputId": "761502c0-830e-4d62-f4d3-381212fbbe6f"
      },
      "execution_count": null,
      "outputs": [
        {
          "output_type": "execute_result",
          "data": {
            "text/plain": [
              "'ABCDEFGHIJKLMNOPQRSTUVWXYZ'"
            ],
            "application/vnd.google.colaboratory.intrinsic+json": {
              "type": "string"
            }
          },
          "metadata": {},
          "execution_count": 98
        }
      ]
    },
    {
      "cell_type": "code",
      "source": [
        "len(string.ascii_lowercase) + 10 + ['%', '&', '(', ')', ]"
      ],
      "metadata": {
        "colab": {
          "base_uri": "https://localhost:8080/"
        },
        "id": "uo7cY2Ch5uV2",
        "outputId": "80982439-bc49-49af-fa11-3c980f9ee57d"
      },
      "execution_count": null,
      "outputs": [
        {
          "output_type": "execute_result",
          "data": {
            "text/plain": [
              "26"
            ]
          },
          "metadata": {},
          "execution_count": 95
        }
      ]
    },
    {
      "cell_type": "code",
      "source": [
        "a"
      ],
      "metadata": {
        "colab": {
          "base_uri": "https://localhost:8080/",
          "height": 36
        },
        "id": "NsdZzFFW5Igb",
        "outputId": "6f14df05-e5b5-4e75-e032-8492f69c2072"
      },
      "execution_count": null,
      "outputs": [
        {
          "output_type": "execute_result",
          "data": {
            "text/plain": [
              "'0123456789abcdefghijklmnopqrstuvwxyzABCDEFGHIJKLMNOPQRSTUVWXYZ!\"#$%&\\'()*+,-./:;<=>?@[\\\\]^_`{|}~ \\t\\n\\r\\x0b\\x0c'"
            ],
            "application/vnd.google.colaboratory.intrinsic+json": {
              "type": "string"
            }
          },
          "metadata": {},
          "execution_count": 88
        }
      ]
    },
    {
      "cell_type": "code",
      "source": [],
      "metadata": {
        "colab": {
          "base_uri": "https://localhost:8080/",
          "height": 36
        },
        "id": "8tMm3aIe5ESf",
        "outputId": "085ad29a-775b-42e4-9f6b-5b99233a2752"
      },
      "execution_count": null,
      "outputs": [
        {
          "output_type": "execute_result",
          "data": {
            "text/plain": [
              "'0123456789abcdefghijklmnopqrstuvwxyzABCDEFGHIJKLMNOPQRSTUVWXYZ!\"#$%&\\'()*+,-./:;<=>?@[\\\\]^_`{|}~'"
            ],
            "application/vnd.google.colaboratory.intrinsic+json": {
              "type": "string"
            }
          },
          "metadata": {},
          "execution_count": 92
        }
      ]
    },
    {
      "cell_type": "code",
      "source": [
        "len(a[:-6]) - len(string.ascii_uppercase)"
      ],
      "metadata": {
        "colab": {
          "base_uri": "https://localhost:8080/"
        },
        "id": "L1V_7Duz4JiO",
        "outputId": "9b6d470c-d176-4b66-b1af-57e02a9d2e3a"
      },
      "execution_count": null,
      "outputs": [
        {
          "output_type": "execute_result",
          "data": {
            "text/plain": [
              "68"
            ]
          },
          "metadata": {},
          "execution_count": 93
        }
      ]
    },
    {
      "cell_type": "code",
      "source": [
        "\"\"\"\n",
        "#insert <bos>, <eos> and <pad>\n",
        "it = 0\n",
        "questions, answers = [], []\n",
        "seq_len = 256\n",
        "answer_len = 50\n",
        "for qa in train:\n",
        "    q = qa['question']\n",
        "    a = qa['answer']\n",
        "    question = ['<bos>']\n",
        "    answer = ['<bos>']\n",
        "    for i in range(1, len(q) - 1):\n",
        "        question.append(q[i])\n",
        "    while i < seq_len - 1:\n",
        "        question.append('<pad>')\n",
        "        i += 1\n",
        "    question.append('<eos>')\n",
        "    questions.append(question)\n",
        "    for j in range(1, len(a) - 1):\n",
        "        answer.append(a[j])\n",
        "    while j < answer_len - 1:\n",
        "        answer.append('<pad>')\n",
        "        j += 1\n",
        "    answer.append('<eos>')\n",
        "    answers.append(answer)\n",
        "    it += 1\n",
        "    if it % 10000 == 0:\n",
        "        print(f\"iteration {it}\")\n",
        "\"\"\""
      ],
      "metadata": {
        "id": "FOKF8rS40H5E"
      },
      "execution_count": null,
      "outputs": []
    },
    {
      "cell_type": "code",
      "source": [
        "list(vocabulary)"
      ],
      "metadata": {
        "colab": {
          "base_uri": "https://localhost:8080/"
        },
        "id": "4PsBGnw7Pd3U",
        "outputId": "e9b49049-8902-46b1-fa19-d6f84ef77858"
      },
      "execution_count": null,
      "outputs": [
        {
          "output_type": "execute_result",
          "data": {
            "text/plain": [
              "['5',\n",
              " 'u',\n",
              " '3',\n",
              " ',',\n",
              " 'l',\n",
              " '-',\n",
              " '9',\n",
              " 'i',\n",
              " 'm',\n",
              " '.',\n",
              " \"'\",\n",
              " 'r',\n",
              " '?',\n",
              " 'o',\n",
              " 'z',\n",
              " ' ',\n",
              " '8',\n",
              " '0',\n",
              " 'a',\n",
              " 'g',\n",
              " 'w',\n",
              " '+',\n",
              " '>',\n",
              " 'p',\n",
              " 'e',\n",
              " '*',\n",
              " 'f',\n",
              " '4',\n",
              " 's',\n",
              " 'k',\n",
              " '/',\n",
              " '7',\n",
              " 'v',\n",
              " 't',\n",
              " 'b',\n",
              " '(',\n",
              " 'x',\n",
              " '=',\n",
              " '6',\n",
              " ':',\n",
              " '<',\n",
              " '}',\n",
              " 'n',\n",
              " 'y',\n",
              " '!',\n",
              " 'c',\n",
              " '2',\n",
              " ')',\n",
              " 'j',\n",
              " '1',\n",
              " 'h',\n",
              " 'd',\n",
              " 'q',\n",
              " '{']"
            ]
          },
          "metadata": {},
          "execution_count": 22
        }
      ]
    },
    {
      "cell_type": "code",
      "source": [
        "def create_vocabulary_from_set(voc: set):\n",
        "    vocabulary = {'<bos>': 0, '<eos>': 1, '<unk>': 2, '<pad>': 3}\n",
        "    i = 4\n",
        "    for v in voc:\n",
        "        vocabulary[v] = i\n",
        "        i += 1\n",
        "    return vocabulary"
      ],
      "metadata": {
        "id": "CoqhJC32Oq8l"
      },
      "execution_count": 7,
      "outputs": []
    },
    {
      "cell_type": "code",
      "source": [
        "v = create_vocabulary_from_set(vocabulary)"
      ],
      "metadata": {
        "id": "ovYoSu0pP6vX"
      },
      "execution_count": 8,
      "outputs": []
    },
    {
      "cell_type": "code",
      "source": [
        "def read_dataset(text_path: str, lowercase: bool=True) -> Tuple[List[str], List[str]]:\n",
        "    questions = []\n",
        "    answers = []\n",
        "\n",
        "    with open(text_path) as f:\n",
        "        for idx, line in enumerate(f):\n",
        "            if lowercase:\n",
        "                if idx % 2 == 0: # Questions\n",
        "                    questions.append(line.rstrip().lower()) \n",
        "                else:\n",
        "                    answers.append(line.rstrip().lower())\n",
        "\n",
        "    return questions, answers"
      ],
      "metadata": {
        "id": "VVuI58IKLWyV"
      },
      "execution_count": null,
      "outputs": []
    },
    {
      "cell_type": "code",
      "source": [
        "class Mathematics_Dataset(Dataset):\n",
        "    def __init__(self, modules: List[str], vocabulary: dict):\n",
        "        self.modules = modules\n",
        "        self.questions = []\n",
        "        self.answers = []\n",
        "        for m in self.modules:\n",
        "            q_m, a_m = self.read_dataset(m)\n",
        "            self.questions += q_m\n",
        "            self.answers += a_m\n",
        "        self.max_len_question = 160\n",
        "        self.max_len_answer = 30\n",
        "        self.vocabulary = vocabulary\n",
        "\n",
        "    def read_dataset(self, text_path: str, lowercase: bool=True) -> Tuple[List[str], List[str]]:\n",
        "        questions = []\n",
        "        answers = []\n",
        "        with open(text_path, 'r') as f:\n",
        "            for idx, line in enumerate(f):\n",
        "                if lowercase:\n",
        "                    if idx % 2 == 0: # Questions\n",
        "                        questions.append(line.rstrip().lower()) \n",
        "                    else: #Answers\n",
        "                        answers.append(line.rstrip().lower())\n",
        "        return questions, answers\n",
        "\n",
        "    def __len__(self):\n",
        "        return len(self.questions)\n",
        "\n",
        "    def __getitem__(self, idx):\n",
        "        assert idx < len(self.questions)\n",
        "        q, a = self.questions[idx], self.answers[idx]\n",
        "        question, answer = np.zeros(self.max_len_question + 2), np.zeros(self.max_len_answer + 2)\n",
        "        question[0] = self.vocabulary['<bos>']\n",
        "        answer[0] = self.vocabulary['<bos>']\n",
        "\n",
        "        for i in range(len(q)):\n",
        "            c = '<unk>'\n",
        "            if q[i] in self.vocabulary:\n",
        "                c = q[i]\n",
        "            question[i + 1] = self.vocabulary[c]\n",
        "        i += 1\n",
        "        while i < self.max_len_question:\n",
        "            question[i + 1] = self.vocabulary['<pad>']\n",
        "            i += 1\n",
        "        question[self.max_len_question + 1] = self.vocabulary['<eos>']\n",
        "    \n",
        "        for j in range(len(a)):\n",
        "            c = '<unk>'\n",
        "            if a[j] in self.vocabulary:\n",
        "                c = a[j]\n",
        "            answer[j + 1] = self.vocabulary[c]\n",
        "        j += 1\n",
        "        while j < self.max_len_answer:\n",
        "            answer[j + 1] = self.vocabulary['<pad>']\n",
        "            j += 1\n",
        "        answer[self.max_len_answer + 1] = self.vocabulary['<eos>']\n",
        "        question = torch.from_numpy(question)\n",
        "        answer = torch.from_numpy(answer)\n",
        "        return question, answer"
      ],
      "metadata": {
        "id": "jTr3UUzxtsvg"
      },
      "execution_count": 9,
      "outputs": []
    },
    {
      "cell_type": "code",
      "source": [
        "import os\n",
        "cwd = os.getcwd()\n",
        "cwd"
      ],
      "metadata": {
        "colab": {
          "base_uri": "https://localhost:8080/",
          "height": 35
        },
        "id": "BXjVw2SaXUyM",
        "outputId": "17ee0dbe-8dbb-4113-ddd4-558525091559"
      },
      "execution_count": null,
      "outputs": [
        {
          "output_type": "execute_result",
          "data": {
            "text/plain": [
              "'/content/drive/MyDrive/Deep_Learning_Project'"
            ],
            "application/vnd.google.colaboratory.intrinsic+json": {
              "type": "string"
            }
          },
          "metadata": {},
          "execution_count": 19
        }
      ]
    },
    {
      "cell_type": "code",
      "source": [
        "!ls"
      ],
      "metadata": {
        "colab": {
          "base_uri": "https://localhost:8080/"
        },
        "id": "2gfwuILFYWAK",
        "outputId": "675058f1-6864-4d49-b84e-c39ad6de110e"
      },
      "execution_count": null,
      "outputs": [
        {
          "output_type": "stream",
          "name": "stdout",
          "text": [
            "algebra__linear_1d  datasets  mathematics_dataset-v1.0\tmodules.txt\n"
          ]
        }
      ]
    },
    {
      "cell_type": "code",
      "source": [
        "d = Mathematics_Dataset(['./mathematics_dataset-v1.0/train-easy/algebra__linear_1d.txt'], v)"
      ],
      "metadata": {
        "id": "r0Dw7JW2Tdfk"
      },
      "execution_count": 10,
      "outputs": []
    },
    {
      "cell_type": "code",
      "source": [
        "q, a = d.__getitem__(0)"
      ],
      "metadata": {
        "id": "AjWNU26hVsrj"
      },
      "execution_count": 11,
      "outputs": []
    },
    {
      "cell_type": "code",
      "source": [
        "q, a"
      ],
      "metadata": {
        "colab": {
          "base_uri": "https://localhost:8080/"
        },
        "id": "YvfTGdhjD8d-",
        "outputId": "55c1e2df-b149-42c0-87de-3190e836c4e6"
      },
      "execution_count": 12,
      "outputs": [
        {
          "output_type": "execute_result",
          "data": {
            "text/plain": [
              "(tensor([ 0., 43., 21., 50., 23.,  9., 30., 48., 30.,  7., 30., 40., 46., 35.,\n",
              "         30., 38., 30., 35., 30., 38., 30., 51., 37., 30., 28., 21., 14., 30.,\n",
              "         35., 26.,  3.,  3.,  3.,  3.,  3.,  3.,  3.,  3.,  3.,  3.,  3.,  3.,\n",
              "          3.,  3.,  3.,  3.,  3.,  3.,  3.,  3.,  3.,  3.,  3.,  3.,  3.,  3.,\n",
              "          3.,  3.,  3.,  3.,  3.,  3.,  3.,  3.,  3.,  3.,  3.,  3.,  3.,  3.,\n",
              "          3.,  3.,  3.,  3.,  3.,  3.,  3.,  3.,  3.,  3.,  3.,  3.,  3.,  3.,\n",
              "          3.,  3.,  3.,  3.,  3.,  3.,  3.,  3.,  3.,  3.,  3.,  3.,  3.,  3.,\n",
              "          3.,  3.,  3.,  3.,  3.,  3.,  3.,  3.,  3.,  3.,  3.,  3.,  3.,  3.,\n",
              "          3.,  3.,  3.,  3.,  3.,  3.,  3.,  3.,  3.,  3.,  3.,  3.,  3.,  3.,\n",
              "          3.,  3.,  3.,  3.,  3.,  3.,  3.,  3.,  3.,  3.,  3.,  3.,  3.,  3.,\n",
              "          3.,  3.,  3.,  3.,  3.,  3.,  3.,  3.,  3.,  3.,  3.,  3.,  3.,  3.,\n",
              "          3.,  3.,  3.,  3.,  3.,  3.,  3.,  1.], dtype=torch.float64),\n",
              " tensor([ 0., 12., 53.,  3.,  3.,  3.,  3.,  3.,  3.,  3.,  3.,  3.,  3.,  3.,\n",
              "          3.,  3.,  3.,  3.,  3.,  3.,  3.,  3.,  3.,  3.,  3.,  3.,  3.,  3.,\n",
              "          3.,  3.,  3.,  1.], dtype=torch.float64))"
            ]
          },
          "metadata": {},
          "execution_count": 12
        }
      ]
    },
    {
      "cell_type": "code",
      "source": [
        "q.shape"
      ],
      "metadata": {
        "id": "MwmQpGQHdVX9",
        "outputId": "5e22e11c-bc89-4d17-a035-81c89fe5f9cf",
        "colab": {
          "base_uri": "https://localhost:8080/"
        }
      },
      "execution_count": null,
      "outputs": [
        {
          "output_type": "execute_result",
          "data": {
            "text/plain": [
              "torch.Size([162])"
            ]
          },
          "metadata": {},
          "execution_count": 63
        }
      ]
    },
    {
      "cell_type": "code",
      "source": [
        "!ls"
      ],
      "metadata": {
        "colab": {
          "base_uri": "https://localhost:8080/"
        },
        "id": "zld9x_OvUxLh",
        "outputId": "afb7c099-1c48-4a16-c390-f110bef7ef3d"
      },
      "execution_count": null,
      "outputs": [
        {
          "output_type": "stream",
          "name": "stdout",
          "text": [
            "algebra__linear_1d  datasets  mathematics_dataset-v1.0\tmodules.txt\n"
          ]
        }
      ]
    },
    {
      "cell_type": "code",
      "source": [
        "class Mathematics_DataModule(pl.LightningDataModule):\n",
        "    def __init__(self, modules: List[str], batch_size: int = 32):\n",
        "        super().__init__()\n",
        "        self.modules = modules\n",
        "        self.batch_size = batch_size\n",
        "        self.load_vocabulary()\n",
        "    \n",
        "    def load_vocabulary(self):\n",
        "        with open('./datasets/vocabulary.pkl', 'rb') as f:\n",
        "            v = pickle.load(f)\n",
        "        self.vocabulary = create_vocabulary_from_set(v)\n",
        "\n",
        "    def setup(self):\n",
        "        self.math = Mathematics_Dataset(self.modules, self.vocabulary)\n",
        "        self.math_train, self.math_test = random_split(self.math, [0.75, 0.25])\n",
        "    \n",
        "    def train_dataloader(self):\n",
        "        return DataLoader(self.math_train, batch_size=self.batch_size, shuffle=True)\n",
        "\n",
        "    def test_dataloader(self):\n",
        "        return DataLoader(self.math_test, batch_size=self.batch_size, shuffle=True)\n",
        "\n",
        "    def teardown(self, stage: str):\n",
        "        # Used to clean-up when the run is finished\n",
        "        pass"
      ],
      "metadata": {
        "id": "vTNe-ysc94gb"
      },
      "execution_count": 13,
      "outputs": []
    },
    {
      "cell_type": "code",
      "source": [
        "dm = Mathematics_DataModule(['./mathematics_dataset-v1.0/train-easy/algebra__linear_1d.txt'], batch_size = 64)"
      ],
      "metadata": {
        "id": "WmwPwXV6cnWm"
      },
      "execution_count": 17,
      "outputs": []
    },
    {
      "cell_type": "code",
      "source": [
        "dm.setup()"
      ],
      "metadata": {
        "id": "TUnTxKp_diid"
      },
      "execution_count": 18,
      "outputs": []
    },
    {
      "cell_type": "code",
      "source": [
        "dm.train_dataloader()"
      ],
      "metadata": {
        "id": "4n0CtcAxdoiz",
        "outputId": "19a684bd-8b21-481b-d612-58b207d2113f",
        "colab": {
          "base_uri": "https://localhost:8080/"
        }
      },
      "execution_count": null,
      "outputs": [
        {
          "output_type": "execute_result",
          "data": {
            "text/plain": [
              "<torch.utils.data.dataloader.DataLoader at 0x7fd150387a30>"
            ]
          },
          "metadata": {},
          "execution_count": 69
        }
      ]
    },
    {
      "cell_type": "code",
      "source": [
        "i = 0\n",
        "for s in dm.train_dataloader():\n",
        "    print(s)\n",
        "    i += 1\n",
        "    if i == 2:\n",
        "        break"
      ],
      "metadata": {
        "id": "tTFoTRdndxNG",
        "colab": {
          "base_uri": "https://localhost:8080/"
        },
        "outputId": "1528fbd7-0e2b-4b31-9d02-218103844833"
      },
      "execution_count": 19,
      "outputs": [
        {
          "output_type": "stream",
          "name": "stdout",
          "text": [
            "[tensor([[ 0., 43., 21.,  ...,  3.,  3.,  1.],\n",
            "        [ 0., 43., 21.,  ...,  3.,  3.,  1.],\n",
            "        [ 0., 43., 21.,  ...,  3.,  3.,  1.],\n",
            "        ...,\n",
            "        [ 0., 43., 21.,  ...,  3.,  3.,  1.],\n",
            "        [ 0., 43., 21.,  ...,  3.,  3.,  1.],\n",
            "        [ 0., 43., 21.,  ...,  3.,  3.,  1.]], dtype=torch.float64), tensor([[ 0., 12., 37.,  ...,  3.,  3.,  1.],\n",
            "        [ 0., 12., 40.,  ...,  3.,  3.,  1.],\n",
            "        [ 0., 12., 51.,  ...,  3.,  3.,  1.],\n",
            "        ...,\n",
            "        [ 0., 18.,  3.,  ...,  3.,  3.,  1.],\n",
            "        [ 0., 12., 51.,  ...,  3.,  3.,  1.],\n",
            "        [ 0., 12., 36.,  ...,  3.,  3.,  1.]], dtype=torch.float64)]\n",
            "[tensor([[ 0., 43., 21.,  ...,  3.,  3.,  1.],\n",
            "        [ 0., 43., 21.,  ...,  3.,  3.,  1.],\n",
            "        [ 0., 43., 21.,  ...,  3.,  3.,  1.],\n",
            "        ...,\n",
            "        [ 0., 43., 21.,  ...,  3.,  3.,  1.],\n",
            "        [ 0., 43., 21.,  ...,  3.,  3.,  1.],\n",
            "        [ 0., 43., 21.,  ...,  3.,  3.,  1.]], dtype=torch.float64), tensor([[ 0., 40.,  3.,  ...,  3.,  3.,  1.],\n",
            "        [ 0., 33.,  3.,  ...,  3.,  3.,  1.],\n",
            "        [ 0., 37.,  3.,  ...,  3.,  3.,  1.],\n",
            "        ...,\n",
            "        [ 0., 12., 18.,  ...,  3.,  3.,  1.],\n",
            "        [ 0., 12., 33.,  ...,  3.,  3.,  1.],\n",
            "        [ 0., 12., 24.,  ...,  3.,  3.,  1.]], dtype=torch.float64)]\n"
          ]
        }
      ]
    },
    {
      "cell_type": "markdown",
      "source": [
        "# Modules"
      ],
      "metadata": {
        "id": "ho9Tk3GctrvH"
      }
    },
    {
      "cell_type": "code",
      "source": [
        "#forse meglio definire una stable softmax"
      ],
      "metadata": {
        "id": "tg6p4Y4ZXAyU"
      },
      "execution_count": null,
      "outputs": []
    },
    {
      "cell_type": "code",
      "source": [
        "def dot_product_attention(query, key, value, sqrt_q, device, mask = None):\n",
        "    t = torch.matmul(query, key.transpose(-2, -1))/sqrt_q\n",
        "    if mask is not None:\n",
        "      t = t.masked_fill_(mask == 0, -1e-10) #-1e-10 acts like -infinity, so that the softmax will consider these tokens less important\n",
        "    return torch.matmul(F.softmax(t, dim = -1), value)"
      ],
      "metadata": {
        "id": "9JbWbeOJtt02"
      },
      "execution_count": 20,
      "outputs": []
    },
    {
      "cell_type": "code",
      "source": [
        "class MultiHeadAttention(nn.Module): \n",
        "    def __init__(self, embedding_dim, num_heads, batch_size):\n",
        "        super(MultiHeadAttention, self).__init__()\n",
        "        assert embedding_dim % num_heads == 0\n",
        "        self.dim_head = embedding_dim // num_heads #single head dimension\n",
        "        self.sqrt_q = sqrt(self.dim_head)\n",
        "        self.num_heads = num_heads\n",
        "        self.batch_size = batch_size\n",
        "        self.W_q = nn.Linear(embedding_dim, embedding_dim, bias = False) #stack of num_heads matrices of dimension (d, dim_head), one for each head\n",
        "        self.W_k = nn.Linear(embedding_dim, embedding_dim, bias = False)\n",
        "        self.W_v = nn.Linear(embedding_dim, embedding_dim, bias = False)\n",
        "        self.W_o = nn.Linear(embedding_dim, embedding_dim, bias = False)\n",
        "\n",
        "    def forward(self, query, key, value, mask = None): #query, key, value\n",
        "        query = self.W_q(query).view(self.batch_size, -1, self.num_heads, self.dim_head).transpose(1, 2)\n",
        "        key = self.W_k(key).view(self.batch_size, -1, self.num_heads, self.dim_head).transpose(1, 2)\n",
        "        value = self.W_v(value).view(self.batch_size, -1, self.num_heads, self.dim_head).transpose(1, 2)\n",
        "        attention_value = dot_product_attention(query, key, value, self.sqrt_q, mask)\n",
        "        return self.W_o(attention_value.transpose(1, 2).contiguous().view(self.batch_size, -1, self.num_heads*self.dim_head))"
      ],
      "metadata": {
        "id": "cdtptdthS6Td"
      },
      "execution_count": 21,
      "outputs": []
    },
    {
      "cell_type": "code",
      "source": [
        "class TP_MultiHeadAttention(nn.Module):\n",
        "    def __init__(self, embedding_dim, num_heads, batch_size):\n",
        "        super(TP_MultiHeadAttention, self).__init__()\n",
        "        assert embedding_dim % num_heads == 0\n",
        "        self.dim_head = embedding_dim // num_heads #single head dimension\n",
        "        self.sqrt_q = sqrt(self.dim_head)\n",
        "        self.num_heads = num_heads\n",
        "        self.batch_size = batch_size\n",
        "        self.W_q = nn.Linear(embedding_dim, embedding_dim, bias = True) #stack of num_heads matrices of dimension (d, dim_head), one for each head\n",
        "        self.W_k = nn.Linear(embedding_dim, embedding_dim, bias = True)\n",
        "        self.W_v = nn.Linear(embedding_dim, embedding_dim, bias = True)\n",
        "        self.W_o = nn.Linear(embedding_dim, embedding_dim, bias = True)\n",
        "        self.W_r = nn.Linear(embedding_dim, embedding_dim, bias = True) #ruolo\n",
        "\n",
        "    def forward(self, query, key, value, mask = None): #query, key, value\n",
        "        pass"
      ],
      "metadata": {
        "id": "lEUjRO5EURve"
      },
      "execution_count": 22,
      "outputs": []
    },
    {
      "cell_type": "code",
      "source": [
        "class TransformerBlock(nn.Module):\n",
        "    def __init__(self, embedding_dim, num_heads, batch_size, hidden_size = None, dropout=0.2, tp_attention = False):\n",
        "        super(TransformerBlock, self).__init__()\n",
        "        self.embedding_dim = embedding_dim\n",
        "        self.num_heads = num_heads\n",
        "        self.batch_size = batch_size\n",
        "        self.attention = MultiHeadAttention(embedding_dim, num_heads, batch_size) if not tp_attention else TP_MultiHeadAttention(embedding_dim, num_heads, batch_size)\n",
        "        self.norm1 = nn.LayerNorm(embedding_dim)\n",
        "        self.dropout1 = nn.Dropout(dropout)\n",
        "        self.norm2 = nn.LayerNorm(embedding_dim)\n",
        "        self.dropout2 = nn.Dropout(dropout)\n",
        "        hidden_size = 4*embedding_dim if hidden_size is None else hidden_size\n",
        "        self.ff = nn.Sequential(nn.Linear(embedding_dim, hidden_size, bias = True), \n",
        "                                nn.ReLU(inplace = True),\n",
        "                                nn.Linear(hidden_size, embedding_dim, bias = True))\n",
        "\n",
        "    def forward(self, query, key, value, mask = None): #query, key, value\n",
        "        x = query + self.attention(query, key, value, mask) #query as res conn because the decoder block requires it and it doesn't matter for encoder blocks\n",
        "        x = self.dropout1(self.norm1(x))\n",
        "        x = x + self.ff(x)\n",
        "        x = self.dropout2(self.norm2(x))\n",
        "        return x"
      ],
      "metadata": {
        "id": "GhrmQH8sUHwE"
      },
      "execution_count": 23,
      "outputs": []
    },
    {
      "cell_type": "code",
      "source": [
        "class DecoderBlock(nn.Module):\n",
        "    def __init__(self, embedding_dim, num_heads, batch_size, hidden_size, dropout = 0.2, tp_attention = False):\n",
        "        super(DecoderBlock, self).__init__()\n",
        "        self.attention = MultiHeadAttention(embedding_dim, num_heads, batch_size) if not tp_attention else TP_MultiHeadAttention(embedding_dim, num_heads, batch_size)\n",
        "        self.norm = nn.LayerNorm(embedding_dim)\n",
        "        self.dropout = nn.Dropout(dropout)\n",
        "        self.transformer_block = TransformerBlock(embedding_dim, num_heads, batch_size, hidden_size, dropout, tp_attention)\n",
        "\n",
        "    def forward(self, query, key, value, output_encoder, mask):\n",
        "        x = query + self.attention(query, key, value, mask) #masked attention + residual connection\n",
        "        x = self.dropout(self.norm(x))\n",
        "        return self.transformer_block(x, output_encoder, output_encoder)#query from the masked mha and key and value from the encoder"
      ],
      "metadata": {
        "id": "w0MIvv-ZWL-M"
      },
      "execution_count": 24,
      "outputs": []
    },
    {
      "cell_type": "code",
      "source": [
        "class PositionalEncoding(nn.Module):\n",
        "    def __init__(self, embedding_dim, max_len = 5000):\n",
        "        super(PositionalEncoding, self).__init__()\n",
        "        pe = torch.zeros(max_len, embedding_dim)\n",
        "        position = torch.arange(0, max_len).unsqueeze(1)\n",
        "        div_term = torch.exp(torch.arange(0, embedding_dim, 2) * -(math.log(10000.0) / embedding_dim))\n",
        "        pe[:, 0::2] = torch.sin(position * div_term)\n",
        "        pe[:, 1::2] = torch.cos(position * div_term)\n",
        "        pe = pe.unsqueeze(0)\n",
        "        self.register_buffer('pe', pe)\n",
        "        \n",
        "    def forward(self, x):\n",
        "        return x + Variable(self.pe[:, :x.size(1)], requires_grad = False)"
      ],
      "metadata": {
        "id": "qrsDFyoyUF0D"
      },
      "execution_count": 25,
      "outputs": []
    },
    {
      "cell_type": "code",
      "source": [
        "class TransformerEncoder(nn.Module):\n",
        "    def __init__(self, embedding_dim, num_heads, batch_size, hidden_size, dropout, num_blocks = 6, tp_attention = False):\n",
        "        super(TransformerEncoder, self).__init__()\n",
        "        self.embedding_dim = embedding_dim\n",
        "        self.num_heads = num_heads\n",
        "        self.batch_size = batch_size\n",
        "        self.encoder = nn.ModuleList(\n",
        "            [TransformerBlock(embedding_dim, num_heads, batch_size, hidden_size, dropout, tp_attention) for _ in range(num_blocks)]\n",
        "            )\n",
        "\n",
        "    def forward(self, x, mask): \n",
        "        for block in self.encoder:\n",
        "            x = block(x, x, x, mask)\n",
        "        return x"
      ],
      "metadata": {
        "id": "bgNDRuG5YIWz"
      },
      "execution_count": 28,
      "outputs": []
    },
    {
      "cell_type": "code",
      "source": [
        "class TransformerDecoder(nn.Module):\n",
        "    def __init__(self, embedding_dim, num_heads, batch_size, hidden_size, dropout = 0.2, num_blocks = 6, tp_attention = False):\n",
        "        super(TransformerEncoder, self).__init__()\n",
        "        self.embedding_dim = embedding_dim\n",
        "        self.num_heads = num_heads\n",
        "        self.batch_size = batch_size\n",
        "        self.decoder = nn.ModuleList(\n",
        "            [DecoderBlock(embedding_dim, num_heads, batch_size, hidden_size, dropout, tp_attention) for _ in range(num_blocks)]\n",
        "            )\n",
        "\n",
        "    def forward(self, x, output_encoder, mask): \n",
        "        for block in self.decoder:\n",
        "            x = block(x, x, x, output_encoder, mask)\n",
        "        return x"
      ],
      "metadata": {
        "id": "Aybtz4uUY8vQ"
      },
      "execution_count": 27,
      "outputs": []
    },
    {
      "cell_type": "code",
      "source": [
        "class Transformer(pl.LightningModule):\n",
        "    def __init__(self, embedding_dim, num_heads, batch_size, hidden_size, dropout, vocabulary_size, pad_id = 3, num_blocks_encoder = 6, num_blocks_decoder = 6, tp_attention = False):\n",
        "        super(TransformerEncoder, self).__init__()\n",
        "        self.embedding_dim = embedding_dim\n",
        "        self.num_heads = num_heads\n",
        "        self.batch_size = batch_size\n",
        "        self.pad_id = pad_id\n",
        "        self.token_embedding = nn.Embedding(vocabulary_size, embedding_dim, padding_idx = self.pad_id)\n",
        "        self.positional_embedding = PositionalEncoding(embedding_dim)\n",
        "        self.encoder = TransformerEncoder(embedding_dim, num_heads, batch_size, hidden_size, dropout, num_blocks_encoder, tp_attention)\n",
        "        self.decoder = TransformerDecoder(embedding_dim, num_heads, batch_size, hidden_size, dropout, num_blocks_decoder, tp_attention)\n",
        "        self.to_logits = nn.Linear(embedding_dim, vocabulary_size)\n",
        "\n",
        "        self.accuracy = torchmetrics.Accuracy(task=\"multiclass\", num_classes=vocabulary_size)\n",
        "\n",
        "    def create_causal_mask(self, x): #compute a mask so that the prediction of the next token can only depend on the previous tokens\n",
        "        batch_size, seq_len = x.shape\n",
        "        mask = torch.tril(torch.ones((seq_len, seq_len), dtype = torch.bool)).expand(\n",
        "            batch_size, 1, seq_len, seq_len)\n",
        "        return mask  \n",
        "\n",
        "    def create_padding_mask(self, x):\n",
        "        batch_size, seq_len = x.shape\n",
        "        mask = (x != self.pad_id).unsqueeze(-2).expand(\n",
        "                batch_size, 1, seq_len, seq_len)\n",
        "        return mask\n",
        "\n",
        "    def inference(self, x):\n",
        "        #encode and then generate the output token by token greedily\n",
        "        \"\"\"\n",
        "        output_encoder = self.encoder(x)\n",
        "        output = []\n",
        "        for \n",
        "            out = self.decoder(...).argmax(-1)\n",
        "            output.append(out)\n",
        "        \"\"\"\n",
        "        pass \n",
        "\n",
        "    def forward(self, x, y):\n",
        "        src_mask = self.create_padding_mask(x, 3)\n",
        "        trg_mask = self.create_causal_mask(x) & self.create_padding_mask(x, 3)\n",
        "\n",
        "        x = self.token_embedding(x)\n",
        "        x = self.positional_embedding(x)\n",
        "\n",
        "        output_encoder = self.encoder(x, src_mask)\n",
        "        return self.to_logits(self.decoder(y, output_encoder, trg_mask))\n",
        "    \n",
        "    def configure_optimizers(self):# learning rate = 1x10^-4; beta1 =0.9; beta2 = 0.995 dal paper\n",
        "        return torch.optim.Adam(self.parameters(), lr=1e-4, betas=(0.9, 0.995))\n",
        "\n",
        "    def training_step(self, batch, batch_idx): #aggiungi gradient clipping nel Trainer\n",
        "        x, y = batch\n",
        "        y_pred = self(x, y)\n",
        "        loss = F.cross_entropy(y_pred, y, ignore_index = self.pad_id)\n",
        "        self.log(\"train_loss\", loss, on_step=True, on_epoch=True, prog_bar=True, logger=True)\n",
        "        return loss\n",
        "\n",
        "    def validation_step(self, batch, batch_idx):\n",
        "        self.eval()\n",
        "        x, y = batch\n",
        "        y_pred = self.inference(x)\n",
        "        self.accuracy.update(y_pred, y)\n",
        "\n",
        "    def validation_epoch_end(self, outputs):\n",
        "        self.log('accuracy_epoch', self.accuracy.compute())\n",
        "        self.accuracy.reset()\n"
      ],
      "metadata": {
        "id": "qiPC8tqNY8wN"
      },
      "execution_count": 29,
      "outputs": []
    },
    {
      "cell_type": "code",
      "source": [
        "def create_padding_mask(x, pad):\n",
        "    batch_size, seq_len = x.shape\n",
        "    mask = (x != pad).unsqueeze(-2).expand(\n",
        "            batch_size, 1, seq_len, seq_len)\n",
        "    return mask"
      ],
      "metadata": {
        "id": "CYXJqWeuErDb"
      },
      "execution_count": 57,
      "outputs": []
    },
    {
      "cell_type": "code",
      "source": [
        "dm = Mathematics_DataModule(['./mathematics_dataset-v1.0/train-easy/algebra__linear_1d.txt'], batch_size = 1)"
      ],
      "metadata": {
        "id": "3cCA82A5FGe4"
      },
      "execution_count": 32,
      "outputs": []
    },
    {
      "cell_type": "code",
      "source": [
        "dm.setup()\n",
        "dl = dm.train_dataloader()"
      ],
      "metadata": {
        "id": "bpyaOLT8FVe9"
      },
      "execution_count": 33,
      "outputs": []
    },
    {
      "cell_type": "code",
      "source": [
        "x, y = next(iter(dl))"
      ],
      "metadata": {
        "id": "7azh03qfFifN"
      },
      "execution_count": 40,
      "outputs": []
    },
    {
      "cell_type": "code",
      "source": [
        "x.shape"
      ],
      "metadata": {
        "colab": {
          "base_uri": "https://localhost:8080/"
        },
        "id": "0HUwGbIsFxjh",
        "outputId": "bb28747d-a739-4852-c02c-621df9ba2a3d"
      },
      "execution_count": 42,
      "outputs": [
        {
          "output_type": "execute_result",
          "data": {
            "text/plain": [
              "torch.Size([1, 162])"
            ]
          },
          "metadata": {},
          "execution_count": 42
        }
      ]
    },
    {
      "cell_type": "code",
      "source": [
        "mask = create_padding_mask(x, v['<pad>'])"
      ],
      "metadata": {
        "colab": {
          "base_uri": "https://localhost:8080/"
        },
        "id": "Um1gfKo2F3Do",
        "outputId": "224be7e9-b5bd-404f-eb86-c6a246530424"
      },
      "execution_count": 49,
      "outputs": [
        {
          "output_type": "stream",
          "name": "stdout",
          "text": [
            "torch.Size([1, 1, 162, 162])\n"
          ]
        }
      ]
    },
    {
      "cell_type": "code",
      "source": [
        "batch_size, seq_len = x.shape\n",
        "mask2 = torch.tril(torch.ones((seq_len, seq_len), dtype = torch.bool)).expand(batch_size, 1, seq_len, seq_len)"
      ],
      "metadata": {
        "id": "kKTuQ4tYGusv"
      },
      "execution_count": 53,
      "outputs": []
    },
    {
      "cell_type": "code",
      "source": [
        "mask_f = mask & mask2"
      ],
      "metadata": {
        "id": "nKo7dPTyGys7"
      },
      "execution_count": 54,
      "outputs": []
    },
    {
      "cell_type": "code",
      "source": [
        "mask_f"
      ],
      "metadata": {
        "colab": {
          "base_uri": "https://localhost:8080/"
        },
        "id": "NGbt8bu5Hye2",
        "outputId": "d554bd66-5abf-4eba-8e48-9a8e576dc412"
      },
      "execution_count": 56,
      "outputs": [
        {
          "output_type": "execute_result",
          "data": {
            "text/plain": [
              "tensor([[[[ True, False, False,  ..., False, False, False],\n",
              "          [ True,  True, False,  ..., False, False, False],\n",
              "          [ True,  True,  True,  ..., False, False, False],\n",
              "          ...,\n",
              "          [ True,  True,  True,  ..., False, False, False],\n",
              "          [ True,  True,  True,  ..., False, False, False],\n",
              "          [ True,  True,  True,  ..., False, False,  True]]]])"
            ]
          },
          "metadata": {},
          "execution_count": 56
        }
      ]
    },
    {
      "cell_type": "code",
      "source": [
        "mask2"
      ],
      "metadata": {
        "colab": {
          "base_uri": "https://localhost:8080/"
        },
        "id": "bwyOo4KFHF63",
        "outputId": "081f3f7c-4ff8-4f6d-a442-2ac03f60c908"
      },
      "execution_count": 55,
      "outputs": [
        {
          "output_type": "execute_result",
          "data": {
            "text/plain": [
              "tensor([[[[ True, False, False,  ..., False, False, False],\n",
              "          [ True,  True, False,  ..., False, False, False],\n",
              "          [ True,  True,  True,  ..., False, False, False],\n",
              "          ...,\n",
              "          [ True,  True,  True,  ...,  True, False, False],\n",
              "          [ True,  True,  True,  ...,  True,  True, False],\n",
              "          [ True,  True,  True,  ...,  True,  True,  True]]]])"
            ]
          },
          "metadata": {},
          "execution_count": 55
        }
      ]
    },
    {
      "cell_type": "code",
      "source": [
        "\"\"\" example\n",
        "train_loader = DataLoader(MNIST(os.getcwd(), download=True, transform=transforms.ToTensor()))\n",
        "trainer = pl.Trainer(max_epochs=1) #specificare numero di epoche\n",
        "model = Transformer()\n",
        "\n",
        "trainer.fit(model, train_dataloaders=train_loader)\n",
        "\"\"\""
      ],
      "metadata": {
        "id": "2ISjMj-T2s50"
      },
      "execution_count": null,
      "outputs": []
    },
    {
      "cell_type": "markdown",
      "source": [
        "# SOTA"
      ],
      "metadata": {
        "id": "sEka3B3Eq69g"
      }
    },
    {
      "cell_type": "code",
      "source": [],
      "metadata": {
        "id": "Uf3QJeF-q-AW"
      },
      "execution_count": null,
      "outputs": []
    },
    {
      "cell_type": "markdown",
      "source": [
        "# NON-SOTA"
      ],
      "metadata": {
        "id": "0b4LEKhjtizS"
      }
    },
    {
      "cell_type": "code",
      "source": [],
      "metadata": {
        "id": "mm-mxAgbtmPO"
      },
      "execution_count": null,
      "outputs": []
    }
  ]
}