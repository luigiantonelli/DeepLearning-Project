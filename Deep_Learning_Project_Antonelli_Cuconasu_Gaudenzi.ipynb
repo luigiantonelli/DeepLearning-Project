{
  "nbformat": 4,
  "nbformat_minor": 0,
  "metadata": {
    "colab": {
      "provenance": [],
      "include_colab_link": true
    },
    "kernelspec": {
      "name": "python3",
      "display_name": "Python 3"
    },
    "language_info": {
      "name": "python"
    }
  },
  "cells": [
    {
      "cell_type": "markdown",
      "metadata": {
        "id": "view-in-github",
        "colab_type": "text"
      },
      "source": [
        "<a href=\"https://colab.research.google.com/github/luigiantonelli/DeepLearning-Project/blob/main/Deep_Learning_Project_Antonelli_Cuconasu_Gaudenzi.ipynb\" target=\"_parent\"><img src=\"https://colab.research.google.com/assets/colab-badge.svg\" alt=\"Open In Colab\"/></a>"
      ]
    },
    {
      "cell_type": "markdown",
      "source": [
        "# Installations and imports"
      ],
      "metadata": {
        "id": "_0HXoR9RpcO9"
      }
    },
    {
      "cell_type": "code",
      "execution_count": 1,
      "metadata": {
        "id": "fxGf0hOgnsPD",
        "colab": {
          "base_uri": "https://localhost:8080/"
        },
        "outputId": "dd7997eb-8a8d-40c1-b0c7-446a89698eef"
      },
      "outputs": [
        {
          "output_type": "stream",
          "name": "stdout",
          "text": [
            "\u001b[2K     \u001b[90m━━━━━━━━━━━━━━━━━━━━━━━━━━━━━━━━━━━━━━\u001b[0m \u001b[32m826.4/826.4 KB\u001b[0m \u001b[31m21.0 MB/s\u001b[0m eta \u001b[36m0:00:00\u001b[0m\n",
            "\u001b[2K     \u001b[90m━━━━━━━━━━━━━━━━━━━━━━━━━━━━━━━━━━━━━━\u001b[0m \u001b[32m517.2/517.2 KB\u001b[0m \u001b[31m25.3 MB/s\u001b[0m eta \u001b[36m0:00:00\u001b[0m\n",
            "\u001b[?25h"
          ]
        }
      ],
      "source": [
        "!pip install pytorch-lightning --quiet\n",
        "!pip install torchmetrics --quiet\n",
        "!pip install gdown==4.5.4 --no-cache-dir --quiet"
      ]
    },
    {
      "cell_type": "code",
      "source": [
        "import torch\n",
        "import torch.nn as nn\n",
        "import torch.nn.functional as F\n",
        "from torch.autograd import Variable\n",
        "from torch.utils.data import Dataset, DataLoader, random_split\n",
        "import torchmetrics\n",
        "import matplotlib.pyplot as plt\n",
        "import numpy as np\n",
        "import os\n",
        "import pickle as pkl\n",
        "from tqdm.notebook import tqdm\n",
        "import pytorch_lightning as pl \n",
        "import math\n",
        "from math import sqrt\n",
        "import pickle\n",
        "from typing import *\n",
        "import gdown"
      ],
      "metadata": {
        "id": "DobcczcWqek-"
      },
      "execution_count": 2,
      "outputs": []
    },
    {
      "cell_type": "markdown",
      "source": [
        "# Dataset"
      ],
      "metadata": {
        "id": "P4AfeDpYq3dL"
      }
    },
    {
      "cell_type": "code",
      "source": [
        "\"\"\"\n",
        "url = \"https://drive.google.com/drive/folders/1-6MRkFoSSRJqeKgcMXm3PeA159KzHuB_?usp=sharing\"\n",
        "gdown.download_folder(url = url, quiet = True, use_cookies = False, remaining_ok=True)\n",
        "\"\"\"\n",
        "\n",
        "from google.colab import drive\n",
        "drive.mount('/content/drive')\n"
      ],
      "metadata": {
        "colab": {
          "base_uri": "https://localhost:8080/"
        },
        "id": "xVNGXDrHt71Y",
        "outputId": "95e6be4f-fe01-41ec-c9b0-4fdd7241e6de"
      },
      "execution_count": 4,
      "outputs": [
        {
          "output_type": "stream",
          "name": "stdout",
          "text": [
            "Mounted at /content/drive\n"
          ]
        }
      ]
    },
    {
      "cell_type": "code",
      "source": [
        "#dataset_folder_path = \"/content/drive/MyDrive/Colab Notebooks/Deep Learning/DeepLearningProject-Shared\"\n",
        "dataset_folder_path = \"/content/drive/MyDrive/Deep_Learning_Project\"\n",
        "os.chdir(dataset_folder_path)"
      ],
      "metadata": {
        "id": "gDIk7qc1uP4g"
      },
      "execution_count": 5,
      "outputs": []
    },
    {
      "cell_type": "code",
      "source": [
        "!ls"
      ],
      "metadata": {
        "colab": {
          "base_uri": "https://localhost:8080/"
        },
        "id": "MmbglL0Yt7yu",
        "outputId": "9067ea73-1e32-41b5-d42c-86bae391dd49"
      },
      "execution_count": 6,
      "outputs": [
        {
          "output_type": "stream",
          "name": "stdout",
          "text": [
            "algebra__linear_1d  datasets  mathematics_dataset-v1.0\tmodules.txt\n"
          ]
        }
      ]
    },
    {
      "cell_type": "code",
      "source": [],
      "metadata": {
        "id": "Ve_GZkJh8TAs"
      },
      "execution_count": null,
      "outputs": []
    },
    {
      "cell_type": "code",
      "source": [
        "def read_dataset(text_path: str, lowercase: bool=True) -> Tuple[List[str], List[str]]:\n",
        "    questions = []\n",
        "    answers = []\n",
        "\n",
        "    with open(text_path) as f:\n",
        "        for idx, line in enumerate(f):\n",
        "            if lowercase:\n",
        "                if idx % 2 == 0: # Questions\n",
        "                    questions.append(line.rstrip().lower()) \n",
        "                else:\n",
        "                    answers.append(line.rstrip().lower())\n",
        "\n",
        "    return questions, answers"
      ],
      "metadata": {
        "id": "8v1Y18AQt7wF"
      },
      "execution_count": null,
      "outputs": []
    },
    {
      "cell_type": "code",
      "source": [
        "def get_vocabulary(lists_of_texts: List[List[str]]):\n",
        "    unified_text = []\n",
        "    \n",
        "    for l in lists_of_texts:\n",
        "        unified_text += l\n",
        "\n",
        "    return Counter(\" \".join(unified_text)).keys()"
      ],
      "metadata": {
        "id": "lYe9h3nL2ef0"
      },
      "execution_count": null,
      "outputs": []
    },
    {
      "cell_type": "code",
      "source": [
        "import glob\n",
        "# Get all files\n",
        "folders = ['extrapolate', 'interpolate', 'train-easy', 'train-medium', 'train-hard']\n",
        "files = []\n",
        "\n",
        "for fold in folders:\n",
        "    files += glob.glob(f\"./mathematics_dataset-v1.0/{fold}/*.txt\")"
      ],
      "metadata": {
        "id": "0dvxsrOv8jev"
      },
      "execution_count": null,
      "outputs": []
    },
    {
      "cell_type": "code",
      "source": [
        "files[:5]"
      ],
      "metadata": {
        "colab": {
          "base_uri": "https://localhost:8080/"
        },
        "id": "EJ8XDzZhDqiy",
        "outputId": "f71095af-44fa-49e3-8990-5653475f42d3"
      },
      "execution_count": null,
      "outputs": [
        {
          "output_type": "execute_result",
          "data": {
            "text/plain": [
              "['./mathematics_dataset-v1.0/extrapolate/arithmetic__add_sub_multiple_longer.txt',\n",
              " './mathematics_dataset-v1.0/extrapolate/algebra__polynomial_roots_big.txt',\n",
              " './mathematics_dataset-v1.0/extrapolate/arithmetic__add_or_sub_big.txt',\n",
              " './mathematics_dataset-v1.0/extrapolate/arithmetic__div_big.txt',\n",
              " './mathematics_dataset-v1.0/extrapolate/arithmetic__mul_div_multiple_longer.txt']"
            ]
          },
          "metadata": {},
          "execution_count": 10
        }
      ]
    },
    {
      "cell_type": "code",
      "source": [
        "vocabulary = {}\n",
        "all_lists = []"
      ],
      "metadata": {
        "id": "6STsKEUWF3Lb"
      },
      "execution_count": null,
      "outputs": []
    },
    {
      "cell_type": "code",
      "source": [
        "i = 0\n",
        "for f in files:\n",
        "    train, test = read_dataset(f)\n",
        "    all_lists += train\n",
        "    all_lists += test\n",
        "\n",
        "    vocabulary = vocabulary | get_vocabulary(all_lists)\n",
        "    all_lists = []\n",
        "\n",
        "    if i % 10 == 0:\n",
        "        with open('./datasets/vocabulary.pkl', 'wb') as f:\n",
        "            pickle.dump(vocabulary, f)"
      ],
      "metadata": {
        "id": "FUejIWdZGnPL"
      },
      "execution_count": null,
      "outputs": []
    },
    {
      "cell_type": "code",
      "source": [
        "vocabulary"
      ],
      "metadata": {
        "id": "BQ2P_Vw3HKkq"
      },
      "execution_count": null,
      "outputs": []
    },
    {
      "cell_type": "code",
      "source": [
        "with open('./datasets/vocabulary.pkl', 'rb') as f:\n",
        "    vo = pickle.load(f)"
      ],
      "metadata": {
        "id": "jM-I-ODQOcUw"
      },
      "execution_count": 7,
      "outputs": []
    },
    {
      "cell_type": "code",
      "source": [
        "vocabulary = vo"
      ],
      "metadata": {
        "id": "A9Hzt8oUOjBS"
      },
      "execution_count": 8,
      "outputs": []
    },
    {
      "cell_type": "code",
      "source": [
        "len(vocabulary)"
      ],
      "metadata": {
        "colab": {
          "base_uri": "https://localhost:8080/"
        },
        "id": "2SWv7XaOEGqJ",
        "outputId": "67c2a006-9ae7-4548-f37f-c3ac468c67c6"
      },
      "execution_count": 9,
      "outputs": [
        {
          "output_type": "execute_result",
          "data": {
            "text/plain": [
              "54"
            ]
          },
          "metadata": {},
          "execution_count": 9
        }
      ]
    },
    {
      "cell_type": "code",
      "source": [
        "len(all_lists)"
      ],
      "metadata": {
        "colab": {
          "base_uri": "https://localhost:8080/"
        },
        "id": "xr-Lz5ndDvTW",
        "outputId": "63ec9f4a-a2bc-4074-d2e6-6693b8b0fdc7"
      },
      "execution_count": null,
      "outputs": [
        {
          "output_type": "execute_result",
          "data": {
            "text/plain": [
              "20000"
            ]
          },
          "metadata": {},
          "execution_count": 12
        }
      ]
    },
    {
      "cell_type": "code",
      "source": [
        "!ls ./mathematics_dataset-v1.0/train-easy"
      ],
      "metadata": {
        "colab": {
          "base_uri": "https://localhost:8080/"
        },
        "id": "xPQ2uETGBBB_",
        "outputId": "6cad7cc8-3798-426d-db01-34e5ee633989"
      },
      "execution_count": null,
      "outputs": [
        {
          "output_type": "stream",
          "name": "stdout",
          "text": [
            "algebra__linear_1d_composed.txt\n",
            "algebra__linear_1d.txt\n",
            "algebra__linear_2d_composed.txt\n",
            "algebra__linear_2d.txt\n",
            "algebra__polynomial_roots_composed.txt\n",
            "algebra__polynomial_roots.txt\n",
            "algebra__sequence_next_term.txt\n",
            "algebra__sequence_nth_term.txt\n",
            "arithmetic__add_or_sub_in_base.txt\n",
            "arithmetic__add_or_sub.txt\n",
            "arithmetic__add_sub_multiple.txt\n",
            "arithmetic__div.txt\n",
            "arithmetic__mixed.txt\n",
            "arithmetic__mul_div_multiple.txt\n",
            "arithmetic__mul.txt\n",
            "arithmetic__nearest_integer_root.txt\n",
            "arithmetic__simplify_surd.txt\n",
            "calculus__differentiate_composed.txt\n",
            "calculus__differentiate.txt\n",
            "comparison__closest_composed.txt\n",
            "comparison__closest.txt\n",
            "comparison__kth_biggest_composed.txt\n",
            "comparison__kth_biggest.txt\n",
            "comparison__pair_composed.txt\n",
            "comparison__pair.txt\n",
            "comparison__sort_composed.txt\n",
            "comparison__sort.txt\n",
            "measurement__conversion.txt\n",
            "measurement__time.txt\n",
            "numbers__base_conversion.txt\n",
            "numbers__div_remainder_composed.txt\n",
            "numbers__div_remainder.txt\n",
            "numbers__gcd_composed.txt\n",
            "numbers__gcd.txt\n",
            "numbers__is_factor_composed.txt\n",
            "numbers__is_factor.txt\n",
            "numbers__is_prime_composed.txt\n",
            "numbers__is_prime.txt\n",
            "numbers__lcm_composed.txt\n",
            "numbers__lcm.txt\n",
            "numbers__list_prime_factors_composed.txt\n",
            "numbers__list_prime_factors.txt\n",
            "numbers__place_value_composed.txt\n",
            "numbers__place_value.txt\n",
            "numbers__round_number_composed.txt\n",
            "numbers__round_number.txt\n",
            "polynomials__add.txt\n",
            "polynomials__coefficient_named.txt\n",
            "polynomials__collect.txt\n",
            "polynomials__compose.txt\n",
            "polynomials__evaluate_composed.txt\n",
            "polynomials__evaluate.txt\n",
            "polynomials__expand.txt\n",
            "polynomials__simplify_power.txt\n",
            "probability__swr_p_level_set.txt\n",
            "probability__swr_p_sequence.txt\n"
          ]
        }
      ]
    },
    {
      "cell_type": "code",
      "source": [
        "algebra_path = \"./mathematics_dataset-v1.0/train-easy/algebra__linear_1d.txt\"\n",
        "probability_path = \"./mathematics_dataset-v1.0/train-easy/probability__swr_p_level_set.txt\"\n",
        "prime_path = \"./mathematics_dataset-v1.0/train-easy/numbers__is_prime.txt\""
      ],
      "metadata": {
        "id": "NubFUsQo0TM2"
      },
      "execution_count": null,
      "outputs": []
    },
    {
      "cell_type": "code",
      "source": [
        "questions_easy_algebra, answers_easy_algebra = read_dataset(algebra_path)\n",
        "questions_easy_probability, answers_easy_probability = read_dataset(probability_path)\n",
        "questions_easy_prime, answers_easy_prime = read_dataset(prime_path)"
      ],
      "metadata": {
        "id": "qfOfAYIh08FD"
      },
      "execution_count": null,
      "outputs": []
    },
    {
      "cell_type": "code",
      "source": [
        "from collections import Counter\n",
        "lis = \" \".join(questions_easy_prime)\n",
        "Counter(lis)"
      ],
      "metadata": {
        "id": "vkIbTIzAyPQK"
      },
      "execution_count": null,
      "outputs": []
    },
    {
      "cell_type": "code",
      "source": [
        "t = []\n",
        "a = questions_easy_algebra + answers_easy_algebra"
      ],
      "metadata": {
        "id": "WFzzrWrL3Fx_"
      },
      "execution_count": null,
      "outputs": []
    },
    {
      "cell_type": "code",
      "source": [
        "a[-4]"
      ],
      "metadata": {
        "colab": {
          "base_uri": "https://localhost:8080/",
          "height": 36
        },
        "id": "9i8rzuUO3K3q",
        "outputId": "b8c6eca7-b149-4d88-9c32-565731fccabb"
      },
      "execution_count": null,
      "outputs": [
        {
          "output_type": "execute_result",
          "data": {
            "text/plain": [
              "'-7'"
            ],
            "application/vnd.google.colaboratory.intrinsic+json": {
              "type": "string"
            }
          },
          "metadata": {},
          "execution_count": 70
        }
      ]
    },
    {
      "cell_type": "code",
      "source": [
        "a = get_vocabulary([questions_easy_algebra, answers_easy_algebra])"
      ],
      "metadata": {
        "id": "qLdQ5Ub64D19"
      },
      "execution_count": null,
      "outputs": []
    },
    {
      "cell_type": "code",
      "source": [
        "a"
      ],
      "metadata": {
        "colab": {
          "base_uri": "https://localhost:8080/"
        },
        "id": "t8-fBTK96BjC",
        "outputId": "9dc23cc9-c6e4-44a5-b933-7b4688e05e57"
      },
      "execution_count": null,
      "outputs": [
        {
          "output_type": "execute_result",
          "data": {
            "text/plain": [
              "dict_keys(['s', 'o', 'l', 'v', 'e', ' ', '0', '=', '4', '*', 'b', '+', '1', '5', 'f', 'r', '.', '-', '3', 'd', 'h', '9', '2', 'm', '8', '7', 'a', '6', 'w', 'c', 'z', 'j', 'n', 'y', 'x', 'u', 'g', 'k', 'q', 'i', 'p', 't'])"
            ]
          },
          "metadata": {},
          "execution_count": 97
        }
      ]
    },
    {
      "cell_type": "code",
      "source": [
        "import string\n",
        "a = string.printable"
      ],
      "metadata": {
        "id": "ReFssKsb4S9q"
      },
      "execution_count": null,
      "outputs": []
    },
    {
      "cell_type": "code",
      "source": [
        "string.ascii_uppercase"
      ],
      "metadata": {
        "colab": {
          "base_uri": "https://localhost:8080/",
          "height": 36
        },
        "id": "SrE81tMC6X0Y",
        "outputId": "761502c0-830e-4d62-f4d3-381212fbbe6f"
      },
      "execution_count": null,
      "outputs": [
        {
          "output_type": "execute_result",
          "data": {
            "text/plain": [
              "'ABCDEFGHIJKLMNOPQRSTUVWXYZ'"
            ],
            "application/vnd.google.colaboratory.intrinsic+json": {
              "type": "string"
            }
          },
          "metadata": {},
          "execution_count": 98
        }
      ]
    },
    {
      "cell_type": "code",
      "source": [
        "len(string.ascii_lowercase) + 10 + ['%', '&', '(', ')', ]"
      ],
      "metadata": {
        "colab": {
          "base_uri": "https://localhost:8080/"
        },
        "id": "uo7cY2Ch5uV2",
        "outputId": "80982439-bc49-49af-fa11-3c980f9ee57d"
      },
      "execution_count": null,
      "outputs": [
        {
          "output_type": "execute_result",
          "data": {
            "text/plain": [
              "26"
            ]
          },
          "metadata": {},
          "execution_count": 95
        }
      ]
    },
    {
      "cell_type": "code",
      "source": [
        "a"
      ],
      "metadata": {
        "colab": {
          "base_uri": "https://localhost:8080/",
          "height": 36
        },
        "id": "NsdZzFFW5Igb",
        "outputId": "6f14df05-e5b5-4e75-e032-8492f69c2072"
      },
      "execution_count": null,
      "outputs": [
        {
          "output_type": "execute_result",
          "data": {
            "text/plain": [
              "'0123456789abcdefghijklmnopqrstuvwxyzABCDEFGHIJKLMNOPQRSTUVWXYZ!\"#$%&\\'()*+,-./:;<=>?@[\\\\]^_`{|}~ \\t\\n\\r\\x0b\\x0c'"
            ],
            "application/vnd.google.colaboratory.intrinsic+json": {
              "type": "string"
            }
          },
          "metadata": {},
          "execution_count": 88
        }
      ]
    },
    {
      "cell_type": "code",
      "source": [],
      "metadata": {
        "colab": {
          "base_uri": "https://localhost:8080/",
          "height": 36
        },
        "id": "8tMm3aIe5ESf",
        "outputId": "085ad29a-775b-42e4-9f6b-5b99233a2752"
      },
      "execution_count": null,
      "outputs": [
        {
          "output_type": "execute_result",
          "data": {
            "text/plain": [
              "'0123456789abcdefghijklmnopqrstuvwxyzABCDEFGHIJKLMNOPQRSTUVWXYZ!\"#$%&\\'()*+,-./:;<=>?@[\\\\]^_`{|}~'"
            ],
            "application/vnd.google.colaboratory.intrinsic+json": {
              "type": "string"
            }
          },
          "metadata": {},
          "execution_count": 92
        }
      ]
    },
    {
      "cell_type": "code",
      "source": [
        "len(a[:-6]) - len(string.ascii_uppercase)"
      ],
      "metadata": {
        "colab": {
          "base_uri": "https://localhost:8080/"
        },
        "id": "L1V_7Duz4JiO",
        "outputId": "9b6d470c-d176-4b66-b1af-57e02a9d2e3a"
      },
      "execution_count": null,
      "outputs": [
        {
          "output_type": "execute_result",
          "data": {
            "text/plain": [
              "68"
            ]
          },
          "metadata": {},
          "execution_count": 93
        }
      ]
    },
    {
      "cell_type": "code",
      "source": [
        "\"\"\"\n",
        "#insert <bos>, <eos> and <pad>\n",
        "it = 0\n",
        "questions, answers = [], []\n",
        "seq_len = 256\n",
        "answer_len = 50\n",
        "for qa in train:\n",
        "    q = qa['question']\n",
        "    a = qa['answer']\n",
        "    question = ['<bos>']\n",
        "    answer = ['<bos>']\n",
        "    for i in range(1, len(q) - 1):\n",
        "        question.append(q[i])\n",
        "    while i < seq_len - 1:\n",
        "        question.append('<pad>')\n",
        "        i += 1\n",
        "    question.append('<eos>')\n",
        "    questions.append(question)\n",
        "    for j in range(1, len(a) - 1):\n",
        "        answer.append(a[j])\n",
        "    while j < answer_len - 1:\n",
        "        answer.append('<pad>')\n",
        "        j += 1\n",
        "    answer.append('<eos>')\n",
        "    answers.append(answer)\n",
        "    it += 1\n",
        "    if it % 10000 == 0:\n",
        "        print(f\"iteration {it}\")\n",
        "\"\"\""
      ],
      "metadata": {
        "id": "FOKF8rS40H5E"
      },
      "execution_count": null,
      "outputs": []
    },
    {
      "cell_type": "code",
      "source": [
        "list(vocabulary)"
      ],
      "metadata": {
        "colab": {
          "base_uri": "https://localhost:8080/"
        },
        "id": "4PsBGnw7Pd3U",
        "outputId": "e9b49049-8902-46b1-fa19-d6f84ef77858"
      },
      "execution_count": null,
      "outputs": [
        {
          "output_type": "execute_result",
          "data": {
            "text/plain": [
              "['5',\n",
              " 'u',\n",
              " '3',\n",
              " ',',\n",
              " 'l',\n",
              " '-',\n",
              " '9',\n",
              " 'i',\n",
              " 'm',\n",
              " '.',\n",
              " \"'\",\n",
              " 'r',\n",
              " '?',\n",
              " 'o',\n",
              " 'z',\n",
              " ' ',\n",
              " '8',\n",
              " '0',\n",
              " 'a',\n",
              " 'g',\n",
              " 'w',\n",
              " '+',\n",
              " '>',\n",
              " 'p',\n",
              " 'e',\n",
              " '*',\n",
              " 'f',\n",
              " '4',\n",
              " 's',\n",
              " 'k',\n",
              " '/',\n",
              " '7',\n",
              " 'v',\n",
              " 't',\n",
              " 'b',\n",
              " '(',\n",
              " 'x',\n",
              " '=',\n",
              " '6',\n",
              " ':',\n",
              " '<',\n",
              " '}',\n",
              " 'n',\n",
              " 'y',\n",
              " '!',\n",
              " 'c',\n",
              " '2',\n",
              " ')',\n",
              " 'j',\n",
              " '1',\n",
              " 'h',\n",
              " 'd',\n",
              " 'q',\n",
              " '{']"
            ]
          },
          "metadata": {},
          "execution_count": 22
        }
      ]
    },
    {
      "cell_type": "code",
      "source": [
        "def create_vocabulary_from_set(voc: set):\n",
        "    vocabulary = {'<bos>': 0, '<eos>': 1, '<unk>': 2, '<pad>': 3}\n",
        "    i = 4\n",
        "    for v in voc:\n",
        "        vocabulary[v] = i\n",
        "        i += 1\n",
        "    return vocabulary"
      ],
      "metadata": {
        "id": "CoqhJC32Oq8l"
      },
      "execution_count": 10,
      "outputs": []
    },
    {
      "cell_type": "code",
      "source": [
        "v = create_vocabulary_from_set(vocabulary)"
      ],
      "metadata": {
        "id": "ovYoSu0pP6vX"
      },
      "execution_count": 11,
      "outputs": []
    },
    {
      "cell_type": "code",
      "source": [
        "def read_dataset(text_path: str, lowercase: bool=True) -> Tuple[List[str], List[str]]:\n",
        "    questions = []\n",
        "    answers = []\n",
        "\n",
        "    with open(text_path) as f:\n",
        "        for idx, line in enumerate(f):\n",
        "            if lowercase:\n",
        "                if idx % 2 == 0: # Questions\n",
        "                    questions.append(line.rstrip().lower()) \n",
        "                else:\n",
        "                    answers.append(line.rstrip().lower())\n",
        "\n",
        "    return questions, answers"
      ],
      "metadata": {
        "id": "VVuI58IKLWyV"
      },
      "execution_count": null,
      "outputs": []
    },
    {
      "cell_type": "code",
      "source": [
        "class Mathematics_Dataset(Dataset):\n",
        "    def __init__(self, modules: List[str], vocabulary: dict):\n",
        "        self.modules = modules\n",
        "        self.questions = []\n",
        "        self.answers = []\n",
        "        for m in self.modules:\n",
        "            q_m, a_m = self.read_dataset(m)\n",
        "            self.questions += q_m\n",
        "            self.answers += a_m\n",
        "        self.max_len_question = 160 #forse serve multiplo di num_heads\n",
        "        self.max_len_answer = 30\n",
        "        self.vocabulary = vocabulary\n",
        "\n",
        "    def read_dataset(self, text_path: str, lowercase: bool=True) -> Tuple[List[str], List[str]]:\n",
        "        questions = []\n",
        "        answers = []\n",
        "        with open(text_path, 'r') as f:\n",
        "            for idx, line in enumerate(f):\n",
        "                if lowercase:\n",
        "                    if idx % 2 == 0: # Questions\n",
        "                        questions.append(line.rstrip().lower()) \n",
        "                    else: #Answers\n",
        "                        answers.append(line.rstrip().lower())\n",
        "        return questions, answers\n",
        "\n",
        "    def __len__(self):\n",
        "        return len(self.questions)\n",
        "\n",
        "    def __getitem__(self, idx):\n",
        "        assert idx < len(self.questions)\n",
        "        q, a = self.questions[idx], self.answers[idx]\n",
        "        question, answer = np.zeros(self.max_len_question + 2), np.zeros(self.max_len_question + 2) \n",
        "        question[0] = self.vocabulary['<bos>']\n",
        "        answer[0] = self.vocabulary['<bos>']\n",
        "\n",
        "        for i in range(len(q)):\n",
        "            c = '<unk>'\n",
        "            if q[i] in self.vocabulary:\n",
        "                c = q[i]\n",
        "            question[i + 1] = self.vocabulary[c]\n",
        "        i += 1\n",
        "        while i < self.max_len_question:\n",
        "            question[i + 1] = self.vocabulary['<pad>']\n",
        "            i += 1\n",
        "        question[self.max_len_question + 1] = self.vocabulary['<eos>']\n",
        "    \n",
        "        for j in range(len(a)): #bos caratteri pad eos pad MODIFICA POSSIBILE\n",
        "            c = '<unk>'\n",
        "            if a[j] in self.vocabulary:\n",
        "                c = a[j]\n",
        "            answer[j + 1] = self.vocabulary[c]\n",
        "        j += 1\n",
        "        while j < self.max_len_answer: \n",
        "            answer[j + 1] = self.vocabulary['<pad>']\n",
        "            j += 1\n",
        "        answer[self.max_len_answer + 1] = self.vocabulary['<eos>']\n",
        "        for j in range(self.max_len_answer + 2, self.max_len_question + 2):\n",
        "            answer[j] = self.vocabulary['<pad>']\n",
        "        question = torch.from_numpy(question).long()\n",
        "        answer = torch.from_numpy(answer).long()\n",
        "        return question, answer"
      ],
      "metadata": {
        "id": "jTr3UUzxtsvg"
      },
      "execution_count": 142,
      "outputs": []
    },
    {
      "cell_type": "code",
      "source": [
        "import os\n",
        "cwd = os.getcwd()\n",
        "cwd"
      ],
      "metadata": {
        "colab": {
          "base_uri": "https://localhost:8080/",
          "height": 35
        },
        "id": "BXjVw2SaXUyM",
        "outputId": "17ee0dbe-8dbb-4113-ddd4-558525091559"
      },
      "execution_count": null,
      "outputs": [
        {
          "output_type": "execute_result",
          "data": {
            "text/plain": [
              "'/content/drive/MyDrive/Deep_Learning_Project'"
            ],
            "application/vnd.google.colaboratory.intrinsic+json": {
              "type": "string"
            }
          },
          "metadata": {},
          "execution_count": 19
        }
      ]
    },
    {
      "cell_type": "code",
      "source": [
        "!ls"
      ],
      "metadata": {
        "colab": {
          "base_uri": "https://localhost:8080/"
        },
        "id": "2gfwuILFYWAK",
        "outputId": "675058f1-6864-4d49-b84e-c39ad6de110e"
      },
      "execution_count": null,
      "outputs": [
        {
          "output_type": "stream",
          "name": "stdout",
          "text": [
            "algebra__linear_1d  datasets  mathematics_dataset-v1.0\tmodules.txt\n"
          ]
        }
      ]
    },
    {
      "cell_type": "code",
      "source": [
        "d = Mathematics_Dataset(['./mathematics_dataset-v1.0/train-easy/algebra__linear_1d.txt'], v)"
      ],
      "metadata": {
        "id": "r0Dw7JW2Tdfk"
      },
      "execution_count": 143,
      "outputs": []
    },
    {
      "cell_type": "code",
      "source": [
        "q, a = d.__getitem__(8)"
      ],
      "metadata": {
        "id": "AjWNU26hVsrj"
      },
      "execution_count": 151,
      "outputs": []
    },
    {
      "cell_type": "code",
      "source": [
        "q, a"
      ],
      "metadata": {
        "colab": {
          "base_uri": "https://localhost:8080/"
        },
        "id": "ghYwlKD0hZBf",
        "outputId": "69c60af8-36af-423c-8025-c8b0d2d619b7"
      },
      "execution_count": 150,
      "outputs": [
        {
          "output_type": "execute_result",
          "data": {
            "text/plain": [
              "(tensor([ 0, 48, 55, 32, 39, 13, 12, 42, 18, 40, 47, 36, 12, 34, 12, 42, 40, 47,\n",
              "         36, 12, 42, 12, 18, 46, 12,  6, 55, 10, 12, 36, 56,  3,  3,  3,  3,  3,\n",
              "          3,  3,  3,  3,  3,  3,  3,  3,  3,  3,  3,  3,  3,  3,  3,  3,  3,  3,\n",
              "          3,  3,  3,  3,  3,  3,  3,  3,  3,  3,  3,  3,  3,  3,  3,  3,  3,  3,\n",
              "          3,  3,  3,  3,  3,  3,  3,  3,  3,  3,  3,  3,  3,  3,  3,  3,  3,  3,\n",
              "          3,  3,  3,  3,  3,  3,  3,  3,  3,  3,  3,  3,  3,  3,  3,  3,  3,  3,\n",
              "          3,  3,  3,  3,  3,  3,  3,  3,  3,  3,  3,  3,  3,  3,  3,  3,  3,  3,\n",
              "          3,  3,  3,  3,  3,  3,  3,  3,  3,  3,  3,  3,  3,  3,  3,  3,  3,  3,\n",
              "          3,  3,  3,  3,  3,  3,  3,  3,  3,  3,  3,  3,  3,  3,  3,  3,  3,  1]),\n",
              " tensor([ 0, 18,  3,  3,  3,  3,  3,  3,  3,  3,  3,  3,  3,  3,  3,  3,  3,  3,\n",
              "          3,  3,  3,  3,  3,  3,  3,  3,  3,  3,  3,  3,  3,  1,  3,  3,  3,  3,\n",
              "          3,  3,  3,  3,  3,  3,  3,  3,  3,  3,  3,  3,  3,  3,  3,  3,  3,  3,\n",
              "          3,  3,  3,  3,  3,  3,  3,  3,  3,  3,  3,  3,  3,  3,  3,  3,  3,  3,\n",
              "          3,  3,  3,  3,  3,  3,  3,  3,  3,  3,  3,  3,  3,  3,  3,  3,  3,  3,\n",
              "          3,  3,  3,  3,  3,  3,  3,  3,  3,  3,  3,  3,  3,  3,  3,  3,  3,  3,\n",
              "          3,  3,  3,  3,  3,  3,  3,  3,  3,  3,  3,  3,  3,  3,  3,  3,  3,  3,\n",
              "          3,  3,  3,  3,  3,  3,  3,  3,  3,  3,  3,  3,  3,  3,  3,  3,  3,  3,\n",
              "          3,  3,  3,  3,  3,  3,  3,  3,  3,  3,  3,  3,  3,  3,  3,  3,  3,  3]))"
            ]
          },
          "metadata": {},
          "execution_count": 150
        }
      ]
    },
    {
      "cell_type": "code",
      "source": [
        "q.shape"
      ],
      "metadata": {
        "id": "MwmQpGQHdVX9",
        "outputId": "5e22e11c-bc89-4d17-a035-81c89fe5f9cf",
        "colab": {
          "base_uri": "https://localhost:8080/"
        }
      },
      "execution_count": null,
      "outputs": [
        {
          "output_type": "execute_result",
          "data": {
            "text/plain": [
              "torch.Size([162])"
            ]
          },
          "metadata": {},
          "execution_count": 63
        }
      ]
    },
    {
      "cell_type": "code",
      "source": [
        "!ls"
      ],
      "metadata": {
        "colab": {
          "base_uri": "https://localhost:8080/"
        },
        "id": "zld9x_OvUxLh",
        "outputId": "afb7c099-1c48-4a16-c390-f110bef7ef3d"
      },
      "execution_count": null,
      "outputs": [
        {
          "output_type": "stream",
          "name": "stdout",
          "text": [
            "algebra__linear_1d  datasets  mathematics_dataset-v1.0\tmodules.txt\n"
          ]
        }
      ]
    },
    {
      "cell_type": "code",
      "source": [
        "class Mathematics_DataModule(pl.LightningDataModule):\n",
        "    def __init__(self, modules: List[str], batch_size: int = 32):\n",
        "        super().__init__()\n",
        "        self.modules = modules\n",
        "        self.batch_size = batch_size\n",
        "        self.load_vocabulary()\n",
        "    \n",
        "    def load_vocabulary(self):\n",
        "        with open('./datasets/vocabulary.pkl', 'rb') as f:\n",
        "            v = pickle.load(f)\n",
        "        self.vocabulary = create_vocabulary_from_set(v)\n",
        "\n",
        "    def setup(self):\n",
        "        self.math = Mathematics_Dataset(self.modules, self.vocabulary)\n",
        "        self.math_train, self.math_val, self.math_test = random_split(self.math, [0.75, 0.05, 0.20])\n",
        "    \n",
        "    def train_dataloader(self):\n",
        "        return DataLoader(self.math_train, batch_size=self.batch_size, shuffle=True)\n",
        "\n",
        "    def val_dataloader(self):                                                              \n",
        "        return DataLoader(self.math_val, batch_size=self.batch_size, shuffle=True)\n",
        "\n",
        "    def test_dataloader(self):\n",
        "        return DataLoader(self.math_test, batch_size=self.batch_size, shuffle=True)\n",
        "\n",
        "    def teardown(self, stage: str):\n",
        "        # Used to clean-up when the run is finished\n",
        "        pass"
      ],
      "metadata": {
        "id": "vTNe-ysc94gb"
      },
      "execution_count": 153,
      "outputs": []
    },
    {
      "cell_type": "code",
      "source": [
        "dm = Mathematics_DataModule(['./mathematics_dataset-v1.0/train-easy/algebra__linear_1d.txt'], batch_size = 64)"
      ],
      "metadata": {
        "id": "WmwPwXV6cnWm"
      },
      "execution_count": null,
      "outputs": []
    },
    {
      "cell_type": "code",
      "source": [
        "dm.setup()"
      ],
      "metadata": {
        "id": "TUnTxKp_diid"
      },
      "execution_count": null,
      "outputs": []
    },
    {
      "cell_type": "code",
      "source": [
        "dm.train_dataloader()"
      ],
      "metadata": {
        "id": "4n0CtcAxdoiz",
        "outputId": "19a684bd-8b21-481b-d612-58b207d2113f",
        "colab": {
          "base_uri": "https://localhost:8080/"
        }
      },
      "execution_count": null,
      "outputs": [
        {
          "output_type": "execute_result",
          "data": {
            "text/plain": [
              "<torch.utils.data.dataloader.DataLoader at 0x7fd150387a30>"
            ]
          },
          "metadata": {},
          "execution_count": 69
        }
      ]
    },
    {
      "cell_type": "code",
      "source": [
        "i = 0\n",
        "for s in dm.train_dataloader():\n",
        "    print(s)\n",
        "    i += 1\n",
        "    if i == 2:\n",
        "        break"
      ],
      "metadata": {
        "id": "tTFoTRdndxNG",
        "colab": {
          "base_uri": "https://localhost:8080/"
        },
        "outputId": "1528fbd7-0e2b-4b31-9d02-218103844833"
      },
      "execution_count": null,
      "outputs": [
        {
          "output_type": "stream",
          "name": "stdout",
          "text": [
            "[tensor([[ 0., 43., 21.,  ...,  3.,  3.,  1.],\n",
            "        [ 0., 43., 21.,  ...,  3.,  3.,  1.],\n",
            "        [ 0., 43., 21.,  ...,  3.,  3.,  1.],\n",
            "        ...,\n",
            "        [ 0., 43., 21.,  ...,  3.,  3.,  1.],\n",
            "        [ 0., 43., 21.,  ...,  3.,  3.,  1.],\n",
            "        [ 0., 43., 21.,  ...,  3.,  3.,  1.]], dtype=torch.float64), tensor([[ 0., 12., 37.,  ...,  3.,  3.,  1.],\n",
            "        [ 0., 12., 40.,  ...,  3.,  3.,  1.],\n",
            "        [ 0., 12., 51.,  ...,  3.,  3.,  1.],\n",
            "        ...,\n",
            "        [ 0., 18.,  3.,  ...,  3.,  3.,  1.],\n",
            "        [ 0., 12., 51.,  ...,  3.,  3.,  1.],\n",
            "        [ 0., 12., 36.,  ...,  3.,  3.,  1.]], dtype=torch.float64)]\n",
            "[tensor([[ 0., 43., 21.,  ...,  3.,  3.,  1.],\n",
            "        [ 0., 43., 21.,  ...,  3.,  3.,  1.],\n",
            "        [ 0., 43., 21.,  ...,  3.,  3.,  1.],\n",
            "        ...,\n",
            "        [ 0., 43., 21.,  ...,  3.,  3.,  1.],\n",
            "        [ 0., 43., 21.,  ...,  3.,  3.,  1.],\n",
            "        [ 0., 43., 21.,  ...,  3.,  3.,  1.]], dtype=torch.float64), tensor([[ 0., 40.,  3.,  ...,  3.,  3.,  1.],\n",
            "        [ 0., 33.,  3.,  ...,  3.,  3.,  1.],\n",
            "        [ 0., 37.,  3.,  ...,  3.,  3.,  1.],\n",
            "        ...,\n",
            "        [ 0., 12., 18.,  ...,  3.,  3.,  1.],\n",
            "        [ 0., 12., 33.,  ...,  3.,  3.,  1.],\n",
            "        [ 0., 12., 24.,  ...,  3.,  3.,  1.]], dtype=torch.float64)]\n"
          ]
        }
      ]
    },
    {
      "cell_type": "markdown",
      "source": [
        "# Modules"
      ],
      "metadata": {
        "id": "ho9Tk3GctrvH"
      }
    },
    {
      "cell_type": "code",
      "source": [
        "#forse meglio definire una stable softmax\n",
        "\"\"\"\n",
        "la x emb_d @ emb_d x lq\n",
        "la x lq (forse errore perché la maschera è la x la)\n",
        "\"\"\""
      ],
      "metadata": {
        "id": "tg6p4Y4ZXAyU"
      },
      "execution_count": null,
      "outputs": []
    },
    {
      "cell_type": "code",
      "source": [
        "def dot_product_attention(query, key, value, sqrt_q, mask):\n",
        "    t = torch.matmul(query, key.transpose(-2, -1))/sqrt_q\n",
        "    if mask is not None:\n",
        "      t = t.masked_fill_(mask == False, -1e-10) #-1e-10 acts like -infinity, so that the softmax will consider these tokens less important\n",
        "    return torch.matmul(F.softmax(t, dim = -1), value)"
      ],
      "metadata": {
        "id": "9JbWbeOJtt02"
      },
      "execution_count": 155,
      "outputs": []
    },
    {
      "cell_type": "code",
      "source": [
        "class MultiHeadAttention(nn.Module): \n",
        "    def __init__(self, embedding_dim, num_heads, batch_size, tp_attention = False):\n",
        "        super(MultiHeadAttention, self).__init__()\n",
        "        assert embedding_dim % num_heads == 0\n",
        "        self.tp_attention = tp_attention\n",
        "        self.dim_head = embedding_dim // num_heads #single head dimension\n",
        "        self.sqrt_q = sqrt(self.dim_head)\n",
        "        self.num_heads = num_heads\n",
        "        self.batch_size = batch_size\n",
        "        self.W_q = nn.Linear(embedding_dim, embedding_dim, bias = True) #stack of num_heads matrices of dimension (d, dim_head), one for each head\n",
        "        self.W_k = nn.Linear(embedding_dim, embedding_dim, bias = True)\n",
        "        self.W_v = nn.Linear(embedding_dim, embedding_dim, bias = True)\n",
        "        self.W_o = nn.Linear(embedding_dim, embedding_dim, bias = True)\n",
        "        if self.tp_attention:\n",
        "            self.W_r = nn.Linear(embedding_dim, embedding_dim, bias = True) #ruolo\n",
        "\n",
        "    def forward(self, query, key, value, mask): #query, key, value\n",
        "        q = self.W_q(query).view(self.batch_size, -1, self.num_heads, self.dim_head).transpose(1, 2)\n",
        "        k = self.W_k(key).view(self.batch_size, -1, self.num_heads, self.dim_head).transpose(1, 2)\n",
        "        v = self.W_v(value).view(self.batch_size, -1, self.num_heads, self.dim_head).transpose(1, 2)\n",
        "        attention_value = dot_product_attention(q, k, v, self.sqrt_q, mask)\n",
        "        if self.tp_attention:\n",
        "            role = self.W_r(query).view(self.batch_size, -1, self.num_heads, self.dim_head).transpose(1, 2)\n",
        "            attention_value *= role  #element-wise product between attention value and role before the final projection\n",
        "        return self.W_o(attention_value.transpose(1, 2).contiguous().view(self.batch_size, -1, self.num_heads*self.dim_head))"
      ],
      "metadata": {
        "id": "cdtptdthS6Td"
      },
      "execution_count": 156,
      "outputs": []
    },
    {
      "cell_type": "code",
      "source": [
        "\"\"\"\n",
        "class TP_MultiHeadAttention(nn.Module):\n",
        "    def __init__(self, embedding_dim, num_heads, batch_size):\n",
        "        super(TP_MultiHeadAttention, self).__init__()\n",
        "        assert embedding_dim % num_heads == 0\n",
        "        self.dim_head = embedding_dim // num_heads #single head dimension\n",
        "        self.sqrt_q = sqrt(self.dim_head)\n",
        "        self.num_heads = num_heads\n",
        "        self.batch_size = batch_size\n",
        "        self.W_q = nn.Linear(embedding_dim, embedding_dim, bias = True) #stack of num_heads matrices of dimension (d, dim_head), one for each head\n",
        "        self.W_k = nn.Linear(embedding_dim, embedding_dim, bias = True)\n",
        "        self.W_v = nn.Linear(embedding_dim, embedding_dim, bias = True)\n",
        "        self.W_o = nn.Linear(embedding_dim, embedding_dim, bias = True)\n",
        "\n",
        "    def forward(self, query, key, value, mask = None): #query, key, value\n",
        "        q = self.W_q(query).view(self.batch_size, -1, self.num_heads, self.dim_head).transpose(1, 2)\n",
        "        k = self.W_k(key).view(self.batch_size, -1, self.num_heads, self.dim_head).transpose(1, 2)\n",
        "        v = self.W_v(value).view(self.batch_size, -1, self.num_heads, self.dim_head).transpose(1, 2)\n",
        "        role = self.W_r(query).view(self.batch_size, -1, self.num_heads, self.dim_head).transpose(1, 2)\n",
        "        attention_value = dot_product_attention(q, k, v, self.sqrt_q, mask).transpose(1, 2) \n",
        "        return self.W_o((attention_value * role).contiguous().view(self.batch_size, -1, self.num_heads*self.dim_head)) #element-wise product between attention value and role before the final projection\n",
        "\"\"\""
      ],
      "metadata": {
        "id": "lEUjRO5EURve"
      },
      "execution_count": null,
      "outputs": []
    },
    {
      "cell_type": "code",
      "source": [
        "class TransformerBlock(nn.Module):\n",
        "    def __init__(self, embedding_dim, num_heads, batch_size, hidden_size = None, dropout=0.2, tp_attention = False):\n",
        "        super(TransformerBlock, self).__init__()\n",
        "        self.embedding_dim = embedding_dim\n",
        "        self.num_heads = num_heads\n",
        "        self.batch_size = batch_size\n",
        "        self.attention = MultiHeadAttention(embedding_dim, num_heads, batch_size, tp_attention)\n",
        "        self.norm1 = nn.LayerNorm(embedding_dim)\n",
        "        self.dropout1 = nn.Dropout(dropout)\n",
        "        self.norm2 = nn.LayerNorm(embedding_dim)\n",
        "        self.dropout2 = nn.Dropout(dropout)\n",
        "        hidden_size = 4*embedding_dim if hidden_size is None else hidden_size\n",
        "        self.ff = nn.Sequential(nn.Linear(embedding_dim, hidden_size, bias = True), \n",
        "                                nn.ReLU(inplace = True),\n",
        "                                nn.Linear(hidden_size, embedding_dim, bias = True))\n",
        "\n",
        "    def forward(self, query, key, value, mask): #query, key, value\n",
        "        x = query + self.attention(query, key, value, mask) #query as res conn because the decoder block requires it and it doesn't matter for encoder blocks\n",
        "        x = self.dropout1(self.norm1(x))\n",
        "        x = x + self.ff(x)\n",
        "        x = self.dropout2(self.norm2(x))\n",
        "        return x"
      ],
      "metadata": {
        "id": "GhrmQH8sUHwE"
      },
      "execution_count": 157,
      "outputs": []
    },
    {
      "cell_type": "code",
      "source": [
        "class DecoderBlock(nn.Module):\n",
        "    def __init__(self, embedding_dim, num_heads, batch_size, hidden_size, dropout = 0.2, tp_attention = False):\n",
        "        super(DecoderBlock, self).__init__()\n",
        "        self.masked_attention = MultiHeadAttention(embedding_dim, num_heads, batch_size, tp_attention)\n",
        "        self.norm = nn.LayerNorm(embedding_dim)\n",
        "        self.dropout = nn.Dropout(dropout)\n",
        "        self.transformer_block = TransformerBlock(embedding_dim, num_heads, batch_size, hidden_size, dropout, tp_attention)\n",
        "\n",
        "    def forward(self, output_encoder, src_mask, y, trg_mask):\n",
        "        y = y + self.masked_attention(y, y, y, trg_mask) #masked attention (y = query = key = value) + residual connection\n",
        "        y = self.dropout(self.norm(y))\n",
        "        return self.transformer_block(y, output_encoder, output_encoder, src_mask)#query from the masked mha and key and value from the encoder"
      ],
      "metadata": {
        "id": "w0MIvv-ZWL-M"
      },
      "execution_count": 158,
      "outputs": []
    },
    {
      "cell_type": "code",
      "source": [
        "class PositionalEncoding(nn.Module):\n",
        "    def __init__(self, embedding_dim, max_len = 5000):\n",
        "        super(PositionalEncoding, self).__init__()\n",
        "        pe = torch.zeros(max_len, embedding_dim)\n",
        "        position = torch.arange(0, max_len).unsqueeze(1)\n",
        "        div_term = torch.exp(torch.arange(0, embedding_dim, 2) * -(math.log(10000.0) / embedding_dim))\n",
        "        pe[:, 0::2] = torch.sin(position * div_term)\n",
        "        pe[:, 1::2] = torch.cos(position * div_term)\n",
        "        pe = pe.unsqueeze(0)\n",
        "        self.register_buffer('pe', pe)\n",
        "        \n",
        "    def forward(self, x):\n",
        "        return x + Variable(self.pe[:, :x.size(1)], requires_grad = False)"
      ],
      "metadata": {
        "id": "qrsDFyoyUF0D"
      },
      "execution_count": 159,
      "outputs": []
    },
    {
      "cell_type": "code",
      "source": [
        "class TransformerEncoder(nn.Module):\n",
        "    def __init__(self, embedding_dim, num_heads, batch_size, hidden_size, dropout, num_blocks = 6, tp_attention = False):\n",
        "        super(TransformerEncoder, self).__init__()\n",
        "        self.embedding_dim = embedding_dim\n",
        "        self.num_heads = num_heads\n",
        "        self.batch_size = batch_size\n",
        "        self.encoder = nn.ModuleList(\n",
        "            [TransformerBlock(embedding_dim, num_heads, batch_size, hidden_size, dropout, tp_attention) for _ in range(num_blocks)]\n",
        "            )\n",
        "\n",
        "    def forward(self, x, mask): \n",
        "        for block in self.encoder:\n",
        "            x = block(x, x, x, mask)\n",
        "        return x"
      ],
      "metadata": {
        "id": "bgNDRuG5YIWz"
      },
      "execution_count": 160,
      "outputs": []
    },
    {
      "cell_type": "code",
      "source": [
        "class TransformerDecoder(nn.Module):\n",
        "    def __init__(self, embedding_dim, num_heads, batch_size, hidden_size, dropout = 0.2, num_blocks = 6, tp_attention = False):\n",
        "        super(TransformerDecoder, self).__init__()\n",
        "        self.embedding_dim = embedding_dim\n",
        "        self.num_heads = num_heads\n",
        "        self.batch_size = batch_size\n",
        "        self.decoder = nn.ModuleList(\n",
        "            [DecoderBlock(embedding_dim, num_heads, batch_size, hidden_size, dropout, tp_attention) for _ in range(num_blocks)]\n",
        "            )\n",
        "\n",
        "    def forward(self, output_encoder, src_mask, y, trg_mask): \n",
        "        for block in self.decoder:\n",
        "            y = block(output_encoder, src_mask, y, trg_mask)\n",
        "        return y"
      ],
      "metadata": {
        "id": "Aybtz4uUY8vQ"
      },
      "execution_count": 161,
      "outputs": []
    },
    {
      "cell_type": "code",
      "source": [
        "class Transformer(pl.LightningModule):\n",
        "    def __init__(self, embedding_dim, num_heads, batch_size, hidden_size, dropout, vocabulary_size, pad_id = 3, num_blocks_encoder = 6, num_blocks_decoder = 6, tp_attention = False):\n",
        "        super(Transformer, self).__init__()\n",
        "        self.embedding_dim = embedding_dim\n",
        "        self.num_heads = num_heads\n",
        "        self.batch_size = batch_size\n",
        "        self.pad_id = pad_id\n",
        "        self.token_embedding = nn.Embedding(vocabulary_size, embedding_dim, padding_idx = self.pad_id)\n",
        "        self.positional_embedding = PositionalEncoding(embedding_dim)\n",
        "        self.encoder = TransformerEncoder(embedding_dim, num_heads, batch_size, hidden_size, dropout, num_blocks_encoder, tp_attention)\n",
        "        self.decoder = TransformerDecoder(embedding_dim, num_heads, batch_size, hidden_size, dropout, num_blocks_decoder, tp_attention)\n",
        "        self.to_logits = nn.Linear(embedding_dim, vocabulary_size)\n",
        "        \n",
        "        self.max_len_question = 162\n",
        "        self.max_len_answer = 32\n",
        "        self.accuracy = torchmetrics.Accuracy(task=\"multiclass\", num_classes=vocabulary_size, ignore_index = self.pad_id)\n",
        "\n",
        "    def create_trg_mask(self, y): #compute a mask so that the prediction of the next token can only depend on the previous tokens\n",
        "        return self.create_causal_mask(y) & self.create_padding_mask(y)\n",
        "\n",
        "    def create_causal_mask(self, y):\n",
        "        batch_size, seq_len = y.shape\n",
        "        mask = torch.tril(torch.ones((seq_len, seq_len), dtype = torch.bool)).expand(\n",
        "            batch_size, 1, seq_len, seq_len)\n",
        "        return mask\n",
        "\n",
        "    def create_padding_mask(self, x):\n",
        "        batch_size, seq_len = x.shape\n",
        "        \"\"\"\n",
        "        if seq_len == self.max_len_question:\n",
        "            mask = (x != self.pad_id).unsqueeze(-2).unsqueeze(-2).expand(\n",
        "                    batch_size, 1, seq_len, seq_len)\n",
        "        else:\n",
        "            x = F.pad(x, (0, self.max_len_question - seq_len), mode='constant', value=self.pad_id)\n",
        "            mask = (x != self.pad_id).unsqueeze(-2).unsqueeze(-2).expand(\n",
        "                    batch_size, 1, self.max_len_question, self.max_len_question)\n",
        "        \"\"\"\n",
        "        x = F.pad(x, (0, self.max_len_question - seq_len), mode='constant', value=self.pad_id)\n",
        "        mask = (x != self.pad_id).unsqueeze(-2).unsqueeze(-2).expand(\n",
        "                batch_size, 1, self.max_len_question, self.max_len_question)\n",
        "        return mask\n",
        "\n",
        "    def inference(self, x):\n",
        "        #encode and then generate the output token by token greedily\n",
        "        self.eval()\n",
        "        with torch.no_grad():\n",
        "            src_mask = self.create_padding_mask(x)\n",
        "            causal_mask = self.create_causal_mask(x)\n",
        "            x = self.token_embedding(x)\n",
        "            x = self.positional_embedding(x)\n",
        "            output_encoder = self.encoder(x, src_mask)\n",
        "            output = torch.ones(x.shape[0], 1).fill_(0).long()# #0 is the <bos> index in the vocabulary\n",
        "            for _ in range(self.max_len_question): #question e non answer per calcolare l'accuracy\n",
        "                print(f\"shape causal mask: {causal_mask.shape}\")\n",
        "                print(f\"shape padding mask: {self.create_padding_mask(output).shape}\")\n",
        "                trg_mask = causal_mask & self.create_padding_mask(output)\n",
        "                print(f\"shape mask: {trg_mask.shape}\")\n",
        "                output_embedding = self.token_embedding(output)\n",
        "                output_embedding = self.positional_embedding(output_embedding)\n",
        "                out = self.decoder(output_encoder, src_mask, output_embedding, trg_mask)\n",
        "                out = self.to_logits(out) \n",
        "                argmax = 0                         #DA FARE PRESTO\n",
        "                output = torch.cat([output, torch.ones(x.shape[0], 1).fill_(3).long()], dim = 1)\n",
        "            return output\n",
        "\n",
        "    def forward(self, x, y):\n",
        "        src_mask = self.create_padding_mask(x)\n",
        "        trg_mask = self.create_trg_mask(y)\n",
        "\n",
        "        x = self.token_embedding(x)\n",
        "        x = self.positional_embedding(x)\n",
        "        y = self.token_embedding(y)\n",
        "        y = self.positional_embedding(y)\n",
        "\n",
        "        output_encoder = self.encoder(x, src_mask)\n",
        "        return self.to_logits(self.decoder(output_encoder, src_mask, y, trg_mask)).transpose(1,2)\n",
        "    \n",
        "    def configure_optimizers(self):# learning rate = 1x10^-4; beta1 =0.9; beta2 = 0.995 dal paper\n",
        "        return torch.optim.Adam(self.parameters(), lr=1e-4, betas=(0.9, 0.995))\n",
        "\n",
        "    def training_step(self, batch, batch_idx): #aggiungi gradient clipping nel Trainer\n",
        "        x, y = batch\n",
        "        y_pred = self(x, y)\n",
        "        loss = F.cross_entropy(y_pred, y, ignore_index = self.pad_id)\n",
        "        self.log(\"train_loss\", loss, on_step=True, on_epoch=True, prog_bar=True, logger=True)\n",
        "        return loss\n",
        "\n",
        "    def validation_step(self, batch, batch_idx):\n",
        "        x, y = batch\n",
        "        y_pred = self.inference(x) #controlla che sia [batch_size, vocabulary_size, question_len]\n",
        "        self.accuracy.update(y_pred, y)\n",
        "\n",
        "    def validation_epoch_end(self, outputs):\n",
        "        self.log('accuracy_epoch', self.accuracy.compute())\n",
        "        self.accuracy.reset()\n"
      ],
      "metadata": {
        "id": "qiPC8tqNY8wN"
      },
      "execution_count": 248,
      "outputs": []
    },
    {
      "cell_type": "code",
      "source": [
        "dm = Mathematics_DataModule(['./mathematics_dataset-v1.0/train-easy/algebra__linear_1d.txt'], batch_size = 8)"
      ],
      "metadata": {
        "id": "56kHXNBlOAWW"
      },
      "execution_count": 163,
      "outputs": []
    },
    {
      "cell_type": "code",
      "source": [
        "dm.setup()\n",
        "dl = dm.train_dataloader()"
      ],
      "metadata": {
        "id": "tToexCz3OQb8"
      },
      "execution_count": 164,
      "outputs": []
    },
    {
      "cell_type": "code",
      "source": [
        "x, y = next(iter(dl))\n",
        "(x.shape, y.shape)"
      ],
      "metadata": {
        "id": "7azh03qfFifN",
        "colab": {
          "base_uri": "https://localhost:8080/"
        },
        "outputId": "fe9f0b0a-f3cf-40af-d689-b5d91983aa05"
      },
      "execution_count": 240,
      "outputs": [
        {
          "output_type": "execute_result",
          "data": {
            "text/plain": [
              "(torch.Size([8, 162]), torch.Size([8, 162]))"
            ]
          },
          "metadata": {},
          "execution_count": 240
        }
      ]
    },
    {
      "cell_type": "code",
      "source": [
        "(x == F.pad(x, (0, 162 - 162), mode = 'constant', value = 3)).all()"
      ],
      "metadata": {
        "id": "hrkXqtk_vkUt",
        "outputId": "316eda93-1b69-4d52-c6d4-852adec5268d",
        "colab": {
          "base_uri": "https://localhost:8080/"
        }
      },
      "execution_count": 236,
      "outputs": [
        {
          "output_type": "execute_result",
          "data": {
            "text/plain": [
              "tensor(True)"
            ]
          },
          "metadata": {},
          "execution_count": 236
        }
      ]
    },
    {
      "cell_type": "code",
      "source": [
        "t1 = Transformer(256, 4, 8, 256, 0.2, 58)"
      ],
      "metadata": {
        "id": "4_Enun2AOfOp"
      },
      "execution_count": 249,
      "outputs": []
    },
    {
      "cell_type": "code",
      "source": [
        "t1.inference(x)"
      ],
      "metadata": {
        "colab": {
          "base_uri": "https://localhost:8080/",
          "height": 1000
        },
        "id": "8u61AZqgoyYi",
        "outputId": "f64898b3-a0dc-434a-e1cd-6b726aadbaca"
      },
      "execution_count": 250,
      "outputs": [
        {
          "output_type": "stream",
          "name": "stdout",
          "text": [
            "shape causal mask: torch.Size([8, 1, 162, 162])\n",
            "shape padding mask: torch.Size([8, 1, 162, 162])\n",
            "shape mask: torch.Size([8, 1, 162, 162])\n"
          ]
        },
        {
          "output_type": "error",
          "ename": "RuntimeError",
          "evalue": "ignored",
          "traceback": [
            "\u001b[0;31m---------------------------------------------------------------------------\u001b[0m",
            "\u001b[0;31mRuntimeError\u001b[0m                              Traceback (most recent call last)",
            "\u001b[0;32m<ipython-input-250-da5c7978e7a4>\u001b[0m in \u001b[0;36m<module>\u001b[0;34m\u001b[0m\n\u001b[0;32m----> 1\u001b[0;31m \u001b[0mt1\u001b[0m\u001b[0;34m.\u001b[0m\u001b[0minference\u001b[0m\u001b[0;34m(\u001b[0m\u001b[0mx\u001b[0m\u001b[0;34m)\u001b[0m\u001b[0;34m\u001b[0m\u001b[0;34m\u001b[0m\u001b[0m\n\u001b[0m",
            "\u001b[0;32m<ipython-input-248-e7e69ce07add>\u001b[0m in \u001b[0;36minference\u001b[0;34m(self, x)\u001b[0m\n\u001b[1;32m     58\u001b[0m                 \u001b[0moutput_embedding\u001b[0m \u001b[0;34m=\u001b[0m \u001b[0mself\u001b[0m\u001b[0;34m.\u001b[0m\u001b[0mtoken_embedding\u001b[0m\u001b[0;34m(\u001b[0m\u001b[0moutput\u001b[0m\u001b[0;34m)\u001b[0m\u001b[0;34m\u001b[0m\u001b[0;34m\u001b[0m\u001b[0m\n\u001b[1;32m     59\u001b[0m                 \u001b[0moutput_embedding\u001b[0m \u001b[0;34m=\u001b[0m \u001b[0mself\u001b[0m\u001b[0;34m.\u001b[0m\u001b[0mpositional_embedding\u001b[0m\u001b[0;34m(\u001b[0m\u001b[0moutput_embedding\u001b[0m\u001b[0;34m)\u001b[0m\u001b[0;34m\u001b[0m\u001b[0;34m\u001b[0m\u001b[0m\n\u001b[0;32m---> 60\u001b[0;31m                 \u001b[0mout\u001b[0m \u001b[0;34m=\u001b[0m \u001b[0mself\u001b[0m\u001b[0;34m.\u001b[0m\u001b[0mdecoder\u001b[0m\u001b[0;34m(\u001b[0m\u001b[0moutput_encoder\u001b[0m\u001b[0;34m,\u001b[0m \u001b[0msrc_mask\u001b[0m\u001b[0;34m,\u001b[0m \u001b[0moutput_embedding\u001b[0m\u001b[0;34m,\u001b[0m \u001b[0mtrg_mask\u001b[0m\u001b[0;34m)\u001b[0m\u001b[0;34m\u001b[0m\u001b[0;34m\u001b[0m\u001b[0m\n\u001b[0m\u001b[1;32m     61\u001b[0m                 \u001b[0mout\u001b[0m \u001b[0;34m=\u001b[0m \u001b[0mself\u001b[0m\u001b[0;34m.\u001b[0m\u001b[0mto_logits\u001b[0m\u001b[0;34m(\u001b[0m\u001b[0mout\u001b[0m\u001b[0;34m)\u001b[0m\u001b[0;34m\u001b[0m\u001b[0;34m\u001b[0m\u001b[0m\n\u001b[1;32m     62\u001b[0m                 \u001b[0margmax\u001b[0m \u001b[0;34m=\u001b[0m \u001b[0;36m0\u001b[0m                         \u001b[0;31m#DA FARE PRESTO\u001b[0m\u001b[0;34m\u001b[0m\u001b[0;34m\u001b[0m\u001b[0m\n",
            "\u001b[0;32m/usr/local/lib/python3.8/dist-packages/torch/nn/modules/module.py\u001b[0m in \u001b[0;36m_call_impl\u001b[0;34m(self, *input, **kwargs)\u001b[0m\n\u001b[1;32m   1192\u001b[0m         if not (self._backward_hooks or self._forward_hooks or self._forward_pre_hooks or _global_backward_hooks\n\u001b[1;32m   1193\u001b[0m                 or _global_forward_hooks or _global_forward_pre_hooks):\n\u001b[0;32m-> 1194\u001b[0;31m             \u001b[0;32mreturn\u001b[0m \u001b[0mforward_call\u001b[0m\u001b[0;34m(\u001b[0m\u001b[0;34m*\u001b[0m\u001b[0minput\u001b[0m\u001b[0;34m,\u001b[0m \u001b[0;34m**\u001b[0m\u001b[0mkwargs\u001b[0m\u001b[0;34m)\u001b[0m\u001b[0;34m\u001b[0m\u001b[0;34m\u001b[0m\u001b[0m\n\u001b[0m\u001b[1;32m   1195\u001b[0m         \u001b[0;31m# Do not call functions when jit is used\u001b[0m\u001b[0;34m\u001b[0m\u001b[0;34m\u001b[0m\u001b[0;34m\u001b[0m\u001b[0m\n\u001b[1;32m   1196\u001b[0m         \u001b[0mfull_backward_hooks\u001b[0m\u001b[0;34m,\u001b[0m \u001b[0mnon_full_backward_hooks\u001b[0m \u001b[0;34m=\u001b[0m \u001b[0;34m[\u001b[0m\u001b[0;34m]\u001b[0m\u001b[0;34m,\u001b[0m \u001b[0;34m[\u001b[0m\u001b[0;34m]\u001b[0m\u001b[0;34m\u001b[0m\u001b[0;34m\u001b[0m\u001b[0m\n",
            "\u001b[0;32m<ipython-input-161-ec1f4a7265b4>\u001b[0m in \u001b[0;36mforward\u001b[0;34m(self, output_encoder, src_mask, y, trg_mask)\u001b[0m\n\u001b[1;32m     11\u001b[0m     \u001b[0;32mdef\u001b[0m \u001b[0mforward\u001b[0m\u001b[0;34m(\u001b[0m\u001b[0mself\u001b[0m\u001b[0;34m,\u001b[0m \u001b[0moutput_encoder\u001b[0m\u001b[0;34m,\u001b[0m \u001b[0msrc_mask\u001b[0m\u001b[0;34m,\u001b[0m \u001b[0my\u001b[0m\u001b[0;34m,\u001b[0m \u001b[0mtrg_mask\u001b[0m\u001b[0;34m)\u001b[0m\u001b[0;34m:\u001b[0m\u001b[0;34m\u001b[0m\u001b[0;34m\u001b[0m\u001b[0m\n\u001b[1;32m     12\u001b[0m         \u001b[0;32mfor\u001b[0m \u001b[0mblock\u001b[0m \u001b[0;32min\u001b[0m \u001b[0mself\u001b[0m\u001b[0;34m.\u001b[0m\u001b[0mdecoder\u001b[0m\u001b[0;34m:\u001b[0m\u001b[0;34m\u001b[0m\u001b[0;34m\u001b[0m\u001b[0m\n\u001b[0;32m---> 13\u001b[0;31m             \u001b[0my\u001b[0m \u001b[0;34m=\u001b[0m \u001b[0mblock\u001b[0m\u001b[0;34m(\u001b[0m\u001b[0moutput_encoder\u001b[0m\u001b[0;34m,\u001b[0m \u001b[0msrc_mask\u001b[0m\u001b[0;34m,\u001b[0m \u001b[0my\u001b[0m\u001b[0;34m,\u001b[0m \u001b[0mtrg_mask\u001b[0m\u001b[0;34m)\u001b[0m\u001b[0;34m\u001b[0m\u001b[0;34m\u001b[0m\u001b[0m\n\u001b[0m\u001b[1;32m     14\u001b[0m         \u001b[0;32mreturn\u001b[0m \u001b[0my\u001b[0m\u001b[0;34m\u001b[0m\u001b[0;34m\u001b[0m\u001b[0m\n",
            "\u001b[0;32m/usr/local/lib/python3.8/dist-packages/torch/nn/modules/module.py\u001b[0m in \u001b[0;36m_call_impl\u001b[0;34m(self, *input, **kwargs)\u001b[0m\n\u001b[1;32m   1192\u001b[0m         if not (self._backward_hooks or self._forward_hooks or self._forward_pre_hooks or _global_backward_hooks\n\u001b[1;32m   1193\u001b[0m                 or _global_forward_hooks or _global_forward_pre_hooks):\n\u001b[0;32m-> 1194\u001b[0;31m             \u001b[0;32mreturn\u001b[0m \u001b[0mforward_call\u001b[0m\u001b[0;34m(\u001b[0m\u001b[0;34m*\u001b[0m\u001b[0minput\u001b[0m\u001b[0;34m,\u001b[0m \u001b[0;34m**\u001b[0m\u001b[0mkwargs\u001b[0m\u001b[0;34m)\u001b[0m\u001b[0;34m\u001b[0m\u001b[0;34m\u001b[0m\u001b[0m\n\u001b[0m\u001b[1;32m   1195\u001b[0m         \u001b[0;31m# Do not call functions when jit is used\u001b[0m\u001b[0;34m\u001b[0m\u001b[0;34m\u001b[0m\u001b[0;34m\u001b[0m\u001b[0m\n\u001b[1;32m   1196\u001b[0m         \u001b[0mfull_backward_hooks\u001b[0m\u001b[0;34m,\u001b[0m \u001b[0mnon_full_backward_hooks\u001b[0m \u001b[0;34m=\u001b[0m \u001b[0;34m[\u001b[0m\u001b[0;34m]\u001b[0m\u001b[0;34m,\u001b[0m \u001b[0;34m[\u001b[0m\u001b[0;34m]\u001b[0m\u001b[0;34m\u001b[0m\u001b[0;34m\u001b[0m\u001b[0m\n",
            "\u001b[0;32m<ipython-input-158-1673353dae8c>\u001b[0m in \u001b[0;36mforward\u001b[0;34m(self, output_encoder, src_mask, y, trg_mask)\u001b[0m\n\u001b[1;32m      8\u001b[0m \u001b[0;34m\u001b[0m\u001b[0m\n\u001b[1;32m      9\u001b[0m     \u001b[0;32mdef\u001b[0m \u001b[0mforward\u001b[0m\u001b[0;34m(\u001b[0m\u001b[0mself\u001b[0m\u001b[0;34m,\u001b[0m \u001b[0moutput_encoder\u001b[0m\u001b[0;34m,\u001b[0m \u001b[0msrc_mask\u001b[0m\u001b[0;34m,\u001b[0m \u001b[0my\u001b[0m\u001b[0;34m,\u001b[0m \u001b[0mtrg_mask\u001b[0m\u001b[0;34m)\u001b[0m\u001b[0;34m:\u001b[0m\u001b[0;34m\u001b[0m\u001b[0;34m\u001b[0m\u001b[0m\n\u001b[0;32m---> 10\u001b[0;31m         \u001b[0my\u001b[0m \u001b[0;34m=\u001b[0m \u001b[0my\u001b[0m \u001b[0;34m+\u001b[0m \u001b[0mself\u001b[0m\u001b[0;34m.\u001b[0m\u001b[0mmasked_attention\u001b[0m\u001b[0;34m(\u001b[0m\u001b[0my\u001b[0m\u001b[0;34m,\u001b[0m \u001b[0my\u001b[0m\u001b[0;34m,\u001b[0m \u001b[0my\u001b[0m\u001b[0;34m,\u001b[0m \u001b[0mtrg_mask\u001b[0m\u001b[0;34m)\u001b[0m \u001b[0;31m#masked attention (y = query = key = value) + residual connection\u001b[0m\u001b[0;34m\u001b[0m\u001b[0;34m\u001b[0m\u001b[0m\n\u001b[0m\u001b[1;32m     11\u001b[0m         \u001b[0my\u001b[0m \u001b[0;34m=\u001b[0m \u001b[0mself\u001b[0m\u001b[0;34m.\u001b[0m\u001b[0mdropout\u001b[0m\u001b[0;34m(\u001b[0m\u001b[0mself\u001b[0m\u001b[0;34m.\u001b[0m\u001b[0mnorm\u001b[0m\u001b[0;34m(\u001b[0m\u001b[0my\u001b[0m\u001b[0;34m)\u001b[0m\u001b[0;34m)\u001b[0m\u001b[0;34m\u001b[0m\u001b[0;34m\u001b[0m\u001b[0m\n\u001b[1;32m     12\u001b[0m         \u001b[0;32mreturn\u001b[0m \u001b[0mself\u001b[0m\u001b[0;34m.\u001b[0m\u001b[0mtransformer_block\u001b[0m\u001b[0;34m(\u001b[0m\u001b[0my\u001b[0m\u001b[0;34m,\u001b[0m \u001b[0moutput_encoder\u001b[0m\u001b[0;34m,\u001b[0m \u001b[0moutput_encoder\u001b[0m\u001b[0;34m,\u001b[0m \u001b[0msrc_mask\u001b[0m\u001b[0;34m)\u001b[0m\u001b[0;31m#query from the masked mha and key and value from the encoder\u001b[0m\u001b[0;34m\u001b[0m\u001b[0;34m\u001b[0m\u001b[0m\n",
            "\u001b[0;32m/usr/local/lib/python3.8/dist-packages/torch/nn/modules/module.py\u001b[0m in \u001b[0;36m_call_impl\u001b[0;34m(self, *input, **kwargs)\u001b[0m\n\u001b[1;32m   1192\u001b[0m         if not (self._backward_hooks or self._forward_hooks or self._forward_pre_hooks or _global_backward_hooks\n\u001b[1;32m   1193\u001b[0m                 or _global_forward_hooks or _global_forward_pre_hooks):\n\u001b[0;32m-> 1194\u001b[0;31m             \u001b[0;32mreturn\u001b[0m \u001b[0mforward_call\u001b[0m\u001b[0;34m(\u001b[0m\u001b[0;34m*\u001b[0m\u001b[0minput\u001b[0m\u001b[0;34m,\u001b[0m \u001b[0;34m**\u001b[0m\u001b[0mkwargs\u001b[0m\u001b[0;34m)\u001b[0m\u001b[0;34m\u001b[0m\u001b[0;34m\u001b[0m\u001b[0m\n\u001b[0m\u001b[1;32m   1195\u001b[0m         \u001b[0;31m# Do not call functions when jit is used\u001b[0m\u001b[0;34m\u001b[0m\u001b[0;34m\u001b[0m\u001b[0;34m\u001b[0m\u001b[0m\n\u001b[1;32m   1196\u001b[0m         \u001b[0mfull_backward_hooks\u001b[0m\u001b[0;34m,\u001b[0m \u001b[0mnon_full_backward_hooks\u001b[0m \u001b[0;34m=\u001b[0m \u001b[0;34m[\u001b[0m\u001b[0;34m]\u001b[0m\u001b[0;34m,\u001b[0m \u001b[0;34m[\u001b[0m\u001b[0;34m]\u001b[0m\u001b[0;34m\u001b[0m\u001b[0;34m\u001b[0m\u001b[0m\n",
            "\u001b[0;32m<ipython-input-156-74c97bf90180>\u001b[0m in \u001b[0;36mforward\u001b[0;34m(self, query, key, value, mask)\u001b[0m\n\u001b[1;32m     19\u001b[0m         \u001b[0mk\u001b[0m \u001b[0;34m=\u001b[0m \u001b[0mself\u001b[0m\u001b[0;34m.\u001b[0m\u001b[0mW_k\u001b[0m\u001b[0;34m(\u001b[0m\u001b[0mkey\u001b[0m\u001b[0;34m)\u001b[0m\u001b[0;34m.\u001b[0m\u001b[0mview\u001b[0m\u001b[0;34m(\u001b[0m\u001b[0mself\u001b[0m\u001b[0;34m.\u001b[0m\u001b[0mbatch_size\u001b[0m\u001b[0;34m,\u001b[0m \u001b[0;34m-\u001b[0m\u001b[0;36m1\u001b[0m\u001b[0;34m,\u001b[0m \u001b[0mself\u001b[0m\u001b[0;34m.\u001b[0m\u001b[0mnum_heads\u001b[0m\u001b[0;34m,\u001b[0m \u001b[0mself\u001b[0m\u001b[0;34m.\u001b[0m\u001b[0mdim_head\u001b[0m\u001b[0;34m)\u001b[0m\u001b[0;34m.\u001b[0m\u001b[0mtranspose\u001b[0m\u001b[0;34m(\u001b[0m\u001b[0;36m1\u001b[0m\u001b[0;34m,\u001b[0m \u001b[0;36m2\u001b[0m\u001b[0;34m)\u001b[0m\u001b[0;34m\u001b[0m\u001b[0;34m\u001b[0m\u001b[0m\n\u001b[1;32m     20\u001b[0m         \u001b[0mv\u001b[0m \u001b[0;34m=\u001b[0m \u001b[0mself\u001b[0m\u001b[0;34m.\u001b[0m\u001b[0mW_v\u001b[0m\u001b[0;34m(\u001b[0m\u001b[0mvalue\u001b[0m\u001b[0;34m)\u001b[0m\u001b[0;34m.\u001b[0m\u001b[0mview\u001b[0m\u001b[0;34m(\u001b[0m\u001b[0mself\u001b[0m\u001b[0;34m.\u001b[0m\u001b[0mbatch_size\u001b[0m\u001b[0;34m,\u001b[0m \u001b[0;34m-\u001b[0m\u001b[0;36m1\u001b[0m\u001b[0;34m,\u001b[0m \u001b[0mself\u001b[0m\u001b[0;34m.\u001b[0m\u001b[0mnum_heads\u001b[0m\u001b[0;34m,\u001b[0m \u001b[0mself\u001b[0m\u001b[0;34m.\u001b[0m\u001b[0mdim_head\u001b[0m\u001b[0;34m)\u001b[0m\u001b[0;34m.\u001b[0m\u001b[0mtranspose\u001b[0m\u001b[0;34m(\u001b[0m\u001b[0;36m1\u001b[0m\u001b[0;34m,\u001b[0m \u001b[0;36m2\u001b[0m\u001b[0;34m)\u001b[0m\u001b[0;34m\u001b[0m\u001b[0;34m\u001b[0m\u001b[0m\n\u001b[0;32m---> 21\u001b[0;31m         \u001b[0mattention_value\u001b[0m \u001b[0;34m=\u001b[0m \u001b[0mdot_product_attention\u001b[0m\u001b[0;34m(\u001b[0m\u001b[0mq\u001b[0m\u001b[0;34m,\u001b[0m \u001b[0mk\u001b[0m\u001b[0;34m,\u001b[0m \u001b[0mv\u001b[0m\u001b[0;34m,\u001b[0m \u001b[0mself\u001b[0m\u001b[0;34m.\u001b[0m\u001b[0msqrt_q\u001b[0m\u001b[0;34m,\u001b[0m \u001b[0mmask\u001b[0m\u001b[0;34m)\u001b[0m\u001b[0;34m\u001b[0m\u001b[0;34m\u001b[0m\u001b[0m\n\u001b[0m\u001b[1;32m     22\u001b[0m         \u001b[0;32mif\u001b[0m \u001b[0mself\u001b[0m\u001b[0;34m.\u001b[0m\u001b[0mtp_attention\u001b[0m\u001b[0;34m:\u001b[0m\u001b[0;34m\u001b[0m\u001b[0;34m\u001b[0m\u001b[0m\n\u001b[1;32m     23\u001b[0m             \u001b[0mrole\u001b[0m \u001b[0;34m=\u001b[0m \u001b[0mself\u001b[0m\u001b[0;34m.\u001b[0m\u001b[0mW_r\u001b[0m\u001b[0;34m(\u001b[0m\u001b[0mquery\u001b[0m\u001b[0;34m)\u001b[0m\u001b[0;34m.\u001b[0m\u001b[0mview\u001b[0m\u001b[0;34m(\u001b[0m\u001b[0mself\u001b[0m\u001b[0;34m.\u001b[0m\u001b[0mbatch_size\u001b[0m\u001b[0;34m,\u001b[0m \u001b[0;34m-\u001b[0m\u001b[0;36m1\u001b[0m\u001b[0;34m,\u001b[0m \u001b[0mself\u001b[0m\u001b[0;34m.\u001b[0m\u001b[0mnum_heads\u001b[0m\u001b[0;34m,\u001b[0m \u001b[0mself\u001b[0m\u001b[0;34m.\u001b[0m\u001b[0mdim_head\u001b[0m\u001b[0;34m)\u001b[0m\u001b[0;34m.\u001b[0m\u001b[0mtranspose\u001b[0m\u001b[0;34m(\u001b[0m\u001b[0;36m1\u001b[0m\u001b[0;34m,\u001b[0m \u001b[0;36m2\u001b[0m\u001b[0;34m)\u001b[0m\u001b[0;34m\u001b[0m\u001b[0;34m\u001b[0m\u001b[0m\n",
            "\u001b[0;32m<ipython-input-155-6b327495efa1>\u001b[0m in \u001b[0;36mdot_product_attention\u001b[0;34m(query, key, value, sqrt_q, mask)\u001b[0m\n\u001b[1;32m      2\u001b[0m     \u001b[0mt\u001b[0m \u001b[0;34m=\u001b[0m \u001b[0mtorch\u001b[0m\u001b[0;34m.\u001b[0m\u001b[0mmatmul\u001b[0m\u001b[0;34m(\u001b[0m\u001b[0mquery\u001b[0m\u001b[0;34m,\u001b[0m \u001b[0mkey\u001b[0m\u001b[0;34m.\u001b[0m\u001b[0mtranspose\u001b[0m\u001b[0;34m(\u001b[0m\u001b[0;34m-\u001b[0m\u001b[0;36m2\u001b[0m\u001b[0;34m,\u001b[0m \u001b[0;34m-\u001b[0m\u001b[0;36m1\u001b[0m\u001b[0;34m)\u001b[0m\u001b[0;34m)\u001b[0m\u001b[0;34m/\u001b[0m\u001b[0msqrt_q\u001b[0m\u001b[0;34m\u001b[0m\u001b[0;34m\u001b[0m\u001b[0m\n\u001b[1;32m      3\u001b[0m     \u001b[0;32mif\u001b[0m \u001b[0mmask\u001b[0m \u001b[0;32mis\u001b[0m \u001b[0;32mnot\u001b[0m \u001b[0;32mNone\u001b[0m\u001b[0;34m:\u001b[0m\u001b[0;34m\u001b[0m\u001b[0;34m\u001b[0m\u001b[0m\n\u001b[0;32m----> 4\u001b[0;31m       \u001b[0mt\u001b[0m \u001b[0;34m=\u001b[0m \u001b[0mt\u001b[0m\u001b[0;34m.\u001b[0m\u001b[0mmasked_fill_\u001b[0m\u001b[0;34m(\u001b[0m\u001b[0mmask\u001b[0m \u001b[0;34m==\u001b[0m \u001b[0;32mFalse\u001b[0m\u001b[0;34m,\u001b[0m \u001b[0;34m-\u001b[0m\u001b[0;36m1e-10\u001b[0m\u001b[0;34m)\u001b[0m \u001b[0;31m#-1e-10 acts like -infinity, so that the softmax will consider these tokens less important\u001b[0m\u001b[0;34m\u001b[0m\u001b[0;34m\u001b[0m\u001b[0m\n\u001b[0m\u001b[1;32m      5\u001b[0m     \u001b[0;32mreturn\u001b[0m \u001b[0mtorch\u001b[0m\u001b[0;34m.\u001b[0m\u001b[0mmatmul\u001b[0m\u001b[0;34m(\u001b[0m\u001b[0mF\u001b[0m\u001b[0;34m.\u001b[0m\u001b[0msoftmax\u001b[0m\u001b[0;34m(\u001b[0m\u001b[0mt\u001b[0m\u001b[0;34m,\u001b[0m \u001b[0mdim\u001b[0m \u001b[0;34m=\u001b[0m \u001b[0;34m-\u001b[0m\u001b[0;36m1\u001b[0m\u001b[0;34m)\u001b[0m\u001b[0;34m,\u001b[0m \u001b[0mvalue\u001b[0m\u001b[0;34m)\u001b[0m\u001b[0;34m\u001b[0m\u001b[0;34m\u001b[0m\u001b[0m\n",
            "\u001b[0;31mRuntimeError\u001b[0m: output with shape [8, 4, 1, 1] doesn't match the broadcast shape [8, 4, 162, 162]"
          ]
        }
      ]
    },
    {
      "cell_type": "code",
      "source": [
        "t1(x, y).shape"
      ],
      "metadata": {
        "colab": {
          "base_uri": "https://localhost:8080/"
        },
        "id": "756pOhA-O8bg",
        "outputId": "762d2a96-c57f-4335-e03a-af0d10502f45"
      },
      "execution_count": 171,
      "outputs": [
        {
          "output_type": "execute_result",
          "data": {
            "text/plain": [
              "torch.Size([8, 162, 58])"
            ]
          },
          "metadata": {},
          "execution_count": 171
        }
      ]
    },
    {
      "cell_type": "code",
      "source": [
        "F.cross_entropy(t1(x, y).transpose(1,2), y, ignore_index = 3)"
      ],
      "metadata": {
        "colab": {
          "base_uri": "https://localhost:8080/"
        },
        "id": "e5zaBbbBlj-P",
        "outputId": "f50f7430-bc4f-48d0-9047-423dfeb59d00"
      },
      "execution_count": 180,
      "outputs": [
        {
          "output_type": "execute_result",
          "data": {
            "text/plain": [
              "tensor(4.0228, grad_fn=<NllLoss2DBackward0>)"
            ]
          },
          "metadata": {},
          "execution_count": 180
        }
      ]
    },
    {
      "cell_type": "code",
      "source": [
        "accuracy = torchmetrics.Accuracy(task=\"multiclass\", num_classes=58, ignore_index = 3)\n",
        "accuracy.update(t1(x, y).transpose(1,2), y)"
      ],
      "metadata": {
        "id": "Dj-h9Kchl6Zl"
      },
      "execution_count": 183,
      "outputs": []
    },
    {
      "cell_type": "code",
      "source": [
        "t2 = Transformer(128, 4, 8, 256, 0.2, 58, tp_attention = True)"
      ],
      "metadata": {
        "id": "nsAWmtgiO8f5"
      },
      "execution_count": 185,
      "outputs": []
    },
    {
      "cell_type": "code",
      "source": [
        "t2(x,y)"
      ],
      "metadata": {
        "colab": {
          "base_uri": "https://localhost:8080/"
        },
        "id": "9Fsh86VfUenO",
        "outputId": "c51474a3-739b-4d40-bccc-6cb060583658"
      },
      "execution_count": 186,
      "outputs": [
        {
          "output_type": "execute_result",
          "data": {
            "text/plain": [
              "tensor([[[-0.0465, -0.8400,  0.2684,  ...,  0.8138,  0.0370,  0.3460],\n",
              "         [ 0.3455,  0.2609,  0.7788,  ...,  0.7021,  0.3162, -0.8896],\n",
              "         [ 0.2138,  0.1399, -0.5470,  ..., -0.2741, -1.0955,  0.4027],\n",
              "         ...,\n",
              "         [ 0.4972, -0.2656, -1.3785,  ...,  0.0299,  0.4205, -0.4846],\n",
              "         [ 0.0283, -1.5093,  0.7728,  ...,  1.2636, -0.6725,  0.3307],\n",
              "         [ 0.5350, -0.2881, -0.4723,  ..., -0.3044, -0.2014,  0.0782]],\n",
              "\n",
              "        [[-0.7844,  0.0210,  0.5790,  ..., -0.0526, -0.0261,  0.4226],\n",
              "         [-0.2127, -0.4561, -0.3437,  ...,  0.7376,  0.2260,  0.4504],\n",
              "         [ 0.8990, -0.2475,  0.6106,  ..., -0.2474, -1.3632,  0.0458],\n",
              "         ...,\n",
              "         [-0.9459,  0.4779, -0.3762,  ..., -0.1775,  0.3313,  0.0304],\n",
              "         [ 0.2621,  0.7252,  0.3728,  ..., -0.7052, -0.6875,  0.0060],\n",
              "         [-0.7988,  0.3055,  0.0539,  ...,  0.3083, -0.1012,  0.4510]],\n",
              "\n",
              "        [[ 0.4897, -1.0030, -0.1961,  ...,  0.4560,  0.3765, -1.1438],\n",
              "         [ 0.5185, -0.6115,  0.2471,  ...,  0.1246,  0.1826,  0.1857],\n",
              "         [-0.9204,  0.4106, -0.4974,  ..., -0.2976, -0.7282,  0.0173],\n",
              "         ...,\n",
              "         [-0.5449, -0.7393,  0.1512,  ...,  1.3870, -0.7964,  0.9233],\n",
              "         [ 0.5609,  0.5791,  1.3334,  ...,  1.0971, -0.0502, -0.3514],\n",
              "         [ 0.7309,  0.2045, -0.5027,  ..., -0.6011,  0.2800, -0.5726]],\n",
              "\n",
              "        ...,\n",
              "\n",
              "        [[-0.8715, -0.1769,  0.3369,  ..., -0.7312, -0.2714, -0.2110],\n",
              "         [ 0.1610,  0.5214,  0.9721,  ..., -0.6867, -0.4573,  1.2527],\n",
              "         [-0.4571, -0.7825,  0.1880,  ...,  0.2459,  0.4264, -0.2916],\n",
              "         ...,\n",
              "         [ 0.5327, -0.1265, -0.7787,  ...,  0.1646, -0.5552, -0.0236],\n",
              "         [-0.2800,  0.3811,  1.0826,  ..., -0.4445, -1.1282, -0.2187],\n",
              "         [ 0.4384, -0.0469, -0.4311,  ...,  0.4991,  0.7868,  0.6753]],\n",
              "\n",
              "        [[-0.8560, -0.4202, -0.0575,  ...,  0.5123, -0.6756,  0.4326],\n",
              "         [-0.1970,  0.3384,  0.5810,  ..., -0.1830,  0.2390,  0.8319],\n",
              "         [-0.2157, -0.8812,  1.7914,  ..., -0.0092, -0.0558, -1.0341],\n",
              "         ...,\n",
              "         [ 0.0467, -0.1967,  0.9501,  ..., -0.6787, -0.3255,  0.8656],\n",
              "         [-1.0014,  0.3498, -0.7027,  ...,  0.6255, -0.0139,  0.7296],\n",
              "         [ 0.2147, -1.1049,  0.4715,  ..., -0.9029, -0.7404, -0.5118]],\n",
              "\n",
              "        [[-0.1734, -0.6706,  0.1273,  ...,  0.8370, -1.0588, -0.0642],\n",
              "         [-0.5018,  0.4389, -0.9807,  ..., -0.3485,  1.0233,  0.7413],\n",
              "         [ 0.3502,  0.3756, -0.9201,  ..., -0.6084, -0.9052, -0.1444],\n",
              "         ...,\n",
              "         [-0.3957,  0.7774,  0.0949,  ..., -1.1830, -1.2389,  0.0907],\n",
              "         [-0.8308,  0.6147,  0.2465,  ..., -0.2369, -0.4804,  0.3927],\n",
              "         [-0.1439, -1.5801, -0.3574,  ...,  0.8380,  0.0688,  0.0281]]],\n",
              "       grad_fn=<TransposeBackward0>)"
            ]
          },
          "metadata": {},
          "execution_count": 186
        }
      ]
    },
    {
      "cell_type": "markdown",
      "source": [
        "# SOTA"
      ],
      "metadata": {
        "id": "sEka3B3Eq69g"
      }
    },
    {
      "cell_type": "code",
      "source": [],
      "metadata": {
        "id": "Uf3QJeF-q-AW"
      },
      "execution_count": null,
      "outputs": []
    },
    {
      "cell_type": "markdown",
      "source": [
        "# NON-SOTA"
      ],
      "metadata": {
        "id": "0b4LEKhjtizS"
      }
    },
    {
      "cell_type": "code",
      "source": [],
      "metadata": {
        "id": "mm-mxAgbtmPO"
      },
      "execution_count": null,
      "outputs": []
    }
  ]
}