{
  "nbformat": 4,
  "nbformat_minor": 0,
  "metadata": {
    "colab": {
      "provenance": [],
      "include_colab_link": true
    },
    "kernelspec": {
      "name": "python3",
      "display_name": "Python 3"
    },
    "language_info": {
      "name": "python"
    }
  },
  "cells": [
    {
      "cell_type": "markdown",
      "metadata": {
        "id": "view-in-github",
        "colab_type": "text"
      },
      "source": [
        "<a href=\"https://colab.research.google.com/github/luigiantonelli/DeepLearning-Project/blob/main/Deep_Learning_Project_Antonelli_Cuconasu_Gaudenzi.ipynb\" target=\"_parent\"><img src=\"https://colab.research.google.com/assets/colab-badge.svg\" alt=\"Open In Colab\"/></a>"
      ]
    },
    {
      "cell_type": "markdown",
      "source": [
        "# Installations and imports"
      ],
      "metadata": {
        "id": "_0HXoR9RpcO9"
      }
    },
    {
      "cell_type": "code",
      "execution_count": 1,
      "metadata": {
        "id": "fxGf0hOgnsPD",
        "colab": {
          "base_uri": "https://localhost:8080/"
        },
        "outputId": "dd7997eb-8a8d-40c1-b0c7-446a89698eef"
      },
      "outputs": [
        {
          "output_type": "stream",
          "name": "stdout",
          "text": [
            "\u001b[2K     \u001b[90m━━━━━━━━━━━━━━━━━━━━━━━━━━━━━━━━━━━━━━\u001b[0m \u001b[32m826.4/826.4 KB\u001b[0m \u001b[31m21.0 MB/s\u001b[0m eta \u001b[36m0:00:00\u001b[0m\n",
            "\u001b[2K     \u001b[90m━━━━━━━━━━━━━━━━━━━━━━━━━━━━━━━━━━━━━━\u001b[0m \u001b[32m517.2/517.2 KB\u001b[0m \u001b[31m25.3 MB/s\u001b[0m eta \u001b[36m0:00:00\u001b[0m\n",
            "\u001b[?25h"
          ]
        }
      ],
      "source": [
        "!pip install pytorch-lightning --quiet\n",
        "!pip install torchmetrics --quiet\n",
        "!pip install gdown==4.5.4 --no-cache-dir --quiet"
      ]
    },
    {
      "cell_type": "code",
      "source": [
        "import torch\n",
        "import torch.nn as nn\n",
        "import torch.nn.functional as F\n",
        "from torch.autograd import Variable\n",
        "from torch.utils.data import Dataset, DataLoader, random_split\n",
        "import torchmetrics\n",
        "import matplotlib.pyplot as plt\n",
        "import numpy as np\n",
        "import os\n",
        "import pickle as pkl\n",
        "from tqdm.notebook import tqdm\n",
        "import pytorch_lightning as pl \n",
        "import math\n",
        "from math import sqrt\n",
        "import pickle\n",
        "from typing import *\n",
        "import gdown"
      ],
      "metadata": {
        "id": "DobcczcWqek-"
      },
      "execution_count": 2,
      "outputs": []
    },
    {
      "cell_type": "markdown",
      "source": [
        "# Dataset"
      ],
      "metadata": {
        "id": "P4AfeDpYq3dL"
      }
    },
    {
      "cell_type": "code",
      "source": [
        "\"\"\"\n",
        "url = \"https://drive.google.com/drive/folders/1-6MRkFoSSRJqeKgcMXm3PeA159KzHuB_?usp=sharing\"\n",
        "gdown.download_folder(url = url, quiet = True, use_cookies = False, remaining_ok=True)\n",
        "\"\"\"\n",
        "\n",
        "from google.colab import drive\n",
        "drive.mount('/content/drive')\n"
      ],
      "metadata": {
        "colab": {
          "base_uri": "https://localhost:8080/"
        },
        "id": "xVNGXDrHt71Y",
        "outputId": "95e6be4f-fe01-41ec-c9b0-4fdd7241e6de"
      },
      "execution_count": 4,
      "outputs": [
        {
          "output_type": "stream",
          "name": "stdout",
          "text": [
            "Mounted at /content/drive\n"
          ]
        }
      ]
    },
    {
      "cell_type": "code",
      "source": [
        "#dataset_folder_path = \"/content/drive/MyDrive/Colab Notebooks/Deep Learning/DeepLearningProject-Shared\"\n",
        "dataset_folder_path = \"/content/drive/MyDrive/Deep_Learning_Project\"\n",
        "os.chdir(dataset_folder_path)"
      ],
      "metadata": {
        "id": "gDIk7qc1uP4g"
      },
      "execution_count": 5,
      "outputs": []
    },
    {
      "cell_type": "code",
      "source": [
        "!ls"
      ],
      "metadata": {
        "colab": {
          "base_uri": "https://localhost:8080/"
        },
        "id": "MmbglL0Yt7yu",
        "outputId": "9067ea73-1e32-41b5-d42c-86bae391dd49"
      },
      "execution_count": 6,
      "outputs": [
        {
          "output_type": "stream",
          "name": "stdout",
          "text": [
            "algebra__linear_1d  datasets  mathematics_dataset-v1.0\tmodules.txt\n"
          ]
        }
      ]
    },
    {
      "cell_type": "code",
      "source": [],
      "metadata": {
        "id": "Ve_GZkJh8TAs"
      },
      "execution_count": null,
      "outputs": []
    },
    {
      "cell_type": "code",
      "source": [
        "def read_dataset(text_path: str, lowercase: bool=True) -> Tuple[List[str], List[str]]:\n",
        "    questions = []\n",
        "    answers = []\n",
        "\n",
        "    with open(text_path) as f:\n",
        "        for idx, line in enumerate(f):\n",
        "            if lowercase:\n",
        "                if idx % 2 == 0: # Questions\n",
        "                    questions.append(line.rstrip().lower()) \n",
        "                else:\n",
        "                    answers.append(line.rstrip().lower())\n",
        "\n",
        "    return questions, answers"
      ],
      "metadata": {
        "id": "8v1Y18AQt7wF"
      },
      "execution_count": null,
      "outputs": []
    },
    {
      "cell_type": "code",
      "source": [
        "def get_vocabulary(lists_of_texts: List[List[str]]):\n",
        "    unified_text = []\n",
        "    \n",
        "    for l in lists_of_texts:\n",
        "        unified_text += l\n",
        "\n",
        "    return Counter(\" \".join(unified_text)).keys()"
      ],
      "metadata": {
        "id": "lYe9h3nL2ef0"
      },
      "execution_count": null,
      "outputs": []
    },
    {
      "cell_type": "code",
      "source": [
        "import glob\n",
        "# Get all files\n",
        "folders = ['extrapolate', 'interpolate', 'train-easy', 'train-medium', 'train-hard']\n",
        "files = []\n",
        "\n",
        "for fold in folders:\n",
        "    files += glob.glob(f\"./mathematics_dataset-v1.0/{fold}/*.txt\")"
      ],
      "metadata": {
        "id": "0dvxsrOv8jev"
      },
      "execution_count": null,
      "outputs": []
    },
    {
      "cell_type": "code",
      "source": [
        "files[:5]"
      ],
      "metadata": {
        "colab": {
          "base_uri": "https://localhost:8080/"
        },
        "id": "EJ8XDzZhDqiy",
        "outputId": "f71095af-44fa-49e3-8990-5653475f42d3"
      },
      "execution_count": null,
      "outputs": [
        {
          "output_type": "execute_result",
          "data": {
            "text/plain": [
              "['./mathematics_dataset-v1.0/extrapolate/arithmetic__add_sub_multiple_longer.txt',\n",
              " './mathematics_dataset-v1.0/extrapolate/algebra__polynomial_roots_big.txt',\n",
              " './mathematics_dataset-v1.0/extrapolate/arithmetic__add_or_sub_big.txt',\n",
              " './mathematics_dataset-v1.0/extrapolate/arithmetic__div_big.txt',\n",
              " './mathematics_dataset-v1.0/extrapolate/arithmetic__mul_div_multiple_longer.txt']"
            ]
          },
          "metadata": {},
          "execution_count": 10
        }
      ]
    },
    {
      "cell_type": "code",
      "source": [
        "vocabulary = {}\n",
        "all_lists = []"
      ],
      "metadata": {
        "id": "6STsKEUWF3Lb"
      },
      "execution_count": null,
      "outputs": []
    },
    {
      "cell_type": "code",
      "source": [
        "i = 0\n",
        "for f in files:\n",
        "    train, test = read_dataset(f)\n",
        "    all_lists += train\n",
        "    all_lists += test\n",
        "\n",
        "    vocabulary = vocabulary | get_vocabulary(all_lists)\n",
        "    all_lists = []\n",
        "\n",
        "    if i % 10 == 0:\n",
        "        with open('./datasets/vocabulary.pkl', 'wb') as f:\n",
        "            pickle.dump(vocabulary, f)"
      ],
      "metadata": {
        "id": "FUejIWdZGnPL"
      },
      "execution_count": null,
      "outputs": []
    },
    {
      "cell_type": "code",
      "source": [
        "vocabulary"
      ],
      "metadata": {
        "id": "BQ2P_Vw3HKkq"
      },
      "execution_count": null,
      "outputs": []
    },
    {
      "cell_type": "code",
      "source": [
        "with open('./datasets/vocabulary.pkl', 'rb') as f:\n",
        "    vo = pickle.load(f)"
      ],
      "metadata": {
        "id": "jM-I-ODQOcUw"
      },
      "execution_count": 7,
      "outputs": []
    },
    {
      "cell_type": "code",
      "source": [
        "vocabulary = vo"
      ],
      "metadata": {
        "id": "A9Hzt8oUOjBS"
      },
      "execution_count": 8,
      "outputs": []
    },
    {
      "cell_type": "code",
      "source": [
        "len(vocabulary)"
      ],
      "metadata": {
        "colab": {
          "base_uri": "https://localhost:8080/"
        },
        "id": "2SWv7XaOEGqJ",
        "outputId": "67c2a006-9ae7-4548-f37f-c3ac468c67c6"
      },
      "execution_count": 9,
      "outputs": [
        {
          "output_type": "execute_result",
          "data": {
            "text/plain": [
              "54"
            ]
          },
          "metadata": {},
          "execution_count": 9
        }
      ]
    },
    {
      "cell_type": "code",
      "source": [
        "len(all_lists)"
      ],
      "metadata": {
        "colab": {
          "base_uri": "https://localhost:8080/"
        },
        "id": "xr-Lz5ndDvTW",
        "outputId": "63ec9f4a-a2bc-4074-d2e6-6693b8b0fdc7"
      },
      "execution_count": null,
      "outputs": [
        {
          "output_type": "execute_result",
          "data": {
            "text/plain": [
              "20000"
            ]
          },
          "metadata": {},
          "execution_count": 12
        }
      ]
    },
    {
      "cell_type": "code",
      "source": [
        "!ls ./mathematics_dataset-v1.0/train-easy"
      ],
      "metadata": {
        "colab": {
          "base_uri": "https://localhost:8080/"
        },
        "id": "xPQ2uETGBBB_",
        "outputId": "6cad7cc8-3798-426d-db01-34e5ee633989"
      },
      "execution_count": null,
      "outputs": [
        {
          "output_type": "stream",
          "name": "stdout",
          "text": [
            "algebra__linear_1d_composed.txt\n",
            "algebra__linear_1d.txt\n",
            "algebra__linear_2d_composed.txt\n",
            "algebra__linear_2d.txt\n",
            "algebra__polynomial_roots_composed.txt\n",
            "algebra__polynomial_roots.txt\n",
            "algebra__sequence_next_term.txt\n",
            "algebra__sequence_nth_term.txt\n",
            "arithmetic__add_or_sub_in_base.txt\n",
            "arithmetic__add_or_sub.txt\n",
            "arithmetic__add_sub_multiple.txt\n",
            "arithmetic__div.txt\n",
            "arithmetic__mixed.txt\n",
            "arithmetic__mul_div_multiple.txt\n",
            "arithmetic__mul.txt\n",
            "arithmetic__nearest_integer_root.txt\n",
            "arithmetic__simplify_surd.txt\n",
            "calculus__differentiate_composed.txt\n",
            "calculus__differentiate.txt\n",
            "comparison__closest_composed.txt\n",
            "comparison__closest.txt\n",
            "comparison__kth_biggest_composed.txt\n",
            "comparison__kth_biggest.txt\n",
            "comparison__pair_composed.txt\n",
            "comparison__pair.txt\n",
            "comparison__sort_composed.txt\n",
            "comparison__sort.txt\n",
            "measurement__conversion.txt\n",
            "measurement__time.txt\n",
            "numbers__base_conversion.txt\n",
            "numbers__div_remainder_composed.txt\n",
            "numbers__div_remainder.txt\n",
            "numbers__gcd_composed.txt\n",
            "numbers__gcd.txt\n",
            "numbers__is_factor_composed.txt\n",
            "numbers__is_factor.txt\n",
            "numbers__is_prime_composed.txt\n",
            "numbers__is_prime.txt\n",
            "numbers__lcm_composed.txt\n",
            "numbers__lcm.txt\n",
            "numbers__list_prime_factors_composed.txt\n",
            "numbers__list_prime_factors.txt\n",
            "numbers__place_value_composed.txt\n",
            "numbers__place_value.txt\n",
            "numbers__round_number_composed.txt\n",
            "numbers__round_number.txt\n",
            "polynomials__add.txt\n",
            "polynomials__coefficient_named.txt\n",
            "polynomials__collect.txt\n",
            "polynomials__compose.txt\n",
            "polynomials__evaluate_composed.txt\n",
            "polynomials__evaluate.txt\n",
            "polynomials__expand.txt\n",
            "polynomials__simplify_power.txt\n",
            "probability__swr_p_level_set.txt\n",
            "probability__swr_p_sequence.txt\n"
          ]
        }
      ]
    },
    {
      "cell_type": "code",
      "source": [
        "algebra_path = \"./mathematics_dataset-v1.0/train-easy/algebra__linear_1d.txt\"\n",
        "probability_path = \"./mathematics_dataset-v1.0/train-easy/probability__swr_p_level_set.txt\"\n",
        "prime_path = \"./mathematics_dataset-v1.0/train-easy/numbers__is_prime.txt\""
      ],
      "metadata": {
        "id": "NubFUsQo0TM2"
      },
      "execution_count": null,
      "outputs": []
    },
    {
      "cell_type": "code",
      "source": [
        "questions_easy_algebra, answers_easy_algebra = read_dataset(algebra_path)\n",
        "questions_easy_probability, answers_easy_probability = read_dataset(probability_path)\n",
        "questions_easy_prime, answers_easy_prime = read_dataset(prime_path)"
      ],
      "metadata": {
        "id": "qfOfAYIh08FD"
      },
      "execution_count": null,
      "outputs": []
    },
    {
      "cell_type": "code",
      "source": [
        "from collections import Counter\n",
        "lis = \" \".join(questions_easy_prime)\n",
        "Counter(lis)"
      ],
      "metadata": {
        "id": "vkIbTIzAyPQK"
      },
      "execution_count": null,
      "outputs": []
    },
    {
      "cell_type": "code",
      "source": [
        "t = []\n",
        "a = questions_easy_algebra + answers_easy_algebra"
      ],
      "metadata": {
        "id": "WFzzrWrL3Fx_"
      },
      "execution_count": null,
      "outputs": []
    },
    {
      "cell_type": "code",
      "source": [
        "a[-4]"
      ],
      "metadata": {
        "colab": {
          "base_uri": "https://localhost:8080/",
          "height": 36
        },
        "id": "9i8rzuUO3K3q",
        "outputId": "b8c6eca7-b149-4d88-9c32-565731fccabb"
      },
      "execution_count": null,
      "outputs": [
        {
          "output_type": "execute_result",
          "data": {
            "text/plain": [
              "'-7'"
            ],
            "application/vnd.google.colaboratory.intrinsic+json": {
              "type": "string"
            }
          },
          "metadata": {},
          "execution_count": 70
        }
      ]
    },
    {
      "cell_type": "code",
      "source": [
        "a = get_vocabulary([questions_easy_algebra, answers_easy_algebra])"
      ],
      "metadata": {
        "id": "qLdQ5Ub64D19"
      },
      "execution_count": null,
      "outputs": []
    },
    {
      "cell_type": "code",
      "source": [
        "a"
      ],
      "metadata": {
        "colab": {
          "base_uri": "https://localhost:8080/"
        },
        "id": "t8-fBTK96BjC",
        "outputId": "9dc23cc9-c6e4-44a5-b933-7b4688e05e57"
      },
      "execution_count": null,
      "outputs": [
        {
          "output_type": "execute_result",
          "data": {
            "text/plain": [
              "dict_keys(['s', 'o', 'l', 'v', 'e', ' ', '0', '=', '4', '*', 'b', '+', '1', '5', 'f', 'r', '.', '-', '3', 'd', 'h', '9', '2', 'm', '8', '7', 'a', '6', 'w', 'c', 'z', 'j', 'n', 'y', 'x', 'u', 'g', 'k', 'q', 'i', 'p', 't'])"
            ]
          },
          "metadata": {},
          "execution_count": 97
        }
      ]
    },
    {
      "cell_type": "code",
      "source": [
        "import string\n",
        "a = string.printable"
      ],
      "metadata": {
        "id": "ReFssKsb4S9q"
      },
      "execution_count": null,
      "outputs": []
    },
    {
      "cell_type": "code",
      "source": [
        "string.ascii_uppercase"
      ],
      "metadata": {
        "colab": {
          "base_uri": "https://localhost:8080/",
          "height": 36
        },
        "id": "SrE81tMC6X0Y",
        "outputId": "761502c0-830e-4d62-f4d3-381212fbbe6f"
      },
      "execution_count": null,
      "outputs": [
        {
          "output_type": "execute_result",
          "data": {
            "text/plain": [
              "'ABCDEFGHIJKLMNOPQRSTUVWXYZ'"
            ],
            "application/vnd.google.colaboratory.intrinsic+json": {
              "type": "string"
            }
          },
          "metadata": {},
          "execution_count": 98
        }
      ]
    },
    {
      "cell_type": "code",
      "source": [
        "len(string.ascii_lowercase) + 10 + ['%', '&', '(', ')', ]"
      ],
      "metadata": {
        "colab": {
          "base_uri": "https://localhost:8080/"
        },
        "id": "uo7cY2Ch5uV2",
        "outputId": "80982439-bc49-49af-fa11-3c980f9ee57d"
      },
      "execution_count": null,
      "outputs": [
        {
          "output_type": "execute_result",
          "data": {
            "text/plain": [
              "26"
            ]
          },
          "metadata": {},
          "execution_count": 95
        }
      ]
    },
    {
      "cell_type": "code",
      "source": [
        "a"
      ],
      "metadata": {
        "colab": {
          "base_uri": "https://localhost:8080/",
          "height": 36
        },
        "id": "NsdZzFFW5Igb",
        "outputId": "6f14df05-e5b5-4e75-e032-8492f69c2072"
      },
      "execution_count": null,
      "outputs": [
        {
          "output_type": "execute_result",
          "data": {
            "text/plain": [
              "'0123456789abcdefghijklmnopqrstuvwxyzABCDEFGHIJKLMNOPQRSTUVWXYZ!\"#$%&\\'()*+,-./:;<=>?@[\\\\]^_`{|}~ \\t\\n\\r\\x0b\\x0c'"
            ],
            "application/vnd.google.colaboratory.intrinsic+json": {
              "type": "string"
            }
          },
          "metadata": {},
          "execution_count": 88
        }
      ]
    },
    {
      "cell_type": "code",
      "source": [],
      "metadata": {
        "colab": {
          "base_uri": "https://localhost:8080/",
          "height": 36
        },
        "id": "8tMm3aIe5ESf",
        "outputId": "085ad29a-775b-42e4-9f6b-5b99233a2752"
      },
      "execution_count": null,
      "outputs": [
        {
          "output_type": "execute_result",
          "data": {
            "text/plain": [
              "'0123456789abcdefghijklmnopqrstuvwxyzABCDEFGHIJKLMNOPQRSTUVWXYZ!\"#$%&\\'()*+,-./:;<=>?@[\\\\]^_`{|}~'"
            ],
            "application/vnd.google.colaboratory.intrinsic+json": {
              "type": "string"
            }
          },
          "metadata": {},
          "execution_count": 92
        }
      ]
    },
    {
      "cell_type": "code",
      "source": [
        "len(a[:-6]) - len(string.ascii_uppercase)"
      ],
      "metadata": {
        "colab": {
          "base_uri": "https://localhost:8080/"
        },
        "id": "L1V_7Duz4JiO",
        "outputId": "9b6d470c-d176-4b66-b1af-57e02a9d2e3a"
      },
      "execution_count": null,
      "outputs": [
        {
          "output_type": "execute_result",
          "data": {
            "text/plain": [
              "68"
            ]
          },
          "metadata": {},
          "execution_count": 93
        }
      ]
    },
    {
      "cell_type": "code",
      "source": [
        "\"\"\"\n",
        "#insert <bos>, <eos> and <pad>\n",
        "it = 0\n",
        "questions, answers = [], []\n",
        "seq_len = 256\n",
        "answer_len = 50\n",
        "for qa in train:\n",
        "    q = qa['question']\n",
        "    a = qa['answer']\n",
        "    question = ['<bos>']\n",
        "    answer = ['<bos>']\n",
        "    for i in range(1, len(q) - 1):\n",
        "        question.append(q[i])\n",
        "    while i < seq_len - 1:\n",
        "        question.append('<pad>')\n",
        "        i += 1\n",
        "    question.append('<eos>')\n",
        "    questions.append(question)\n",
        "    for j in range(1, len(a) - 1):\n",
        "        answer.append(a[j])\n",
        "    while j < answer_len - 1:\n",
        "        answer.append('<pad>')\n",
        "        j += 1\n",
        "    answer.append('<eos>')\n",
        "    answers.append(answer)\n",
        "    it += 1\n",
        "    if it % 10000 == 0:\n",
        "        print(f\"iteration {it}\")\n",
        "\"\"\""
      ],
      "metadata": {
        "id": "FOKF8rS40H5E"
      },
      "execution_count": null,
      "outputs": []
    },
    {
      "cell_type": "code",
      "source": [
        "list(vocabulary)"
      ],
      "metadata": {
        "colab": {
          "base_uri": "https://localhost:8080/"
        },
        "id": "4PsBGnw7Pd3U",
        "outputId": "e9b49049-8902-46b1-fa19-d6f84ef77858"
      },
      "execution_count": null,
      "outputs": [
        {
          "output_type": "execute_result",
          "data": {
            "text/plain": [
              "['5',\n",
              " 'u',\n",
              " '3',\n",
              " ',',\n",
              " 'l',\n",
              " '-',\n",
              " '9',\n",
              " 'i',\n",
              " 'm',\n",
              " '.',\n",
              " \"'\",\n",
              " 'r',\n",
              " '?',\n",
              " 'o',\n",
              " 'z',\n",
              " ' ',\n",
              " '8',\n",
              " '0',\n",
              " 'a',\n",
              " 'g',\n",
              " 'w',\n",
              " '+',\n",
              " '>',\n",
              " 'p',\n",
              " 'e',\n",
              " '*',\n",
              " 'f',\n",
              " '4',\n",
              " 's',\n",
              " 'k',\n",
              " '/',\n",
              " '7',\n",
              " 'v',\n",
              " 't',\n",
              " 'b',\n",
              " '(',\n",
              " 'x',\n",
              " '=',\n",
              " '6',\n",
              " ':',\n",
              " '<',\n",
              " '}',\n",
              " 'n',\n",
              " 'y',\n",
              " '!',\n",
              " 'c',\n",
              " '2',\n",
              " ')',\n",
              " 'j',\n",
              " '1',\n",
              " 'h',\n",
              " 'd',\n",
              " 'q',\n",
              " '{']"
            ]
          },
          "metadata": {},
          "execution_count": 22
        }
      ]
    },
    {
      "cell_type": "code",
      "source": [
        "def create_vocabulary_from_set(voc: set):\n",
        "    vocabulary = {'<bos>': 0, '<eos>': 1, '<unk>': 2, '<pad>': 3}\n",
        "    i = 4\n",
        "    for v in voc:\n",
        "        vocabulary[v] = i\n",
        "        i += 1\n",
        "    return vocabulary"
      ],
      "metadata": {
        "id": "CoqhJC32Oq8l"
      },
      "execution_count": 10,
      "outputs": []
    },
    {
      "cell_type": "code",
      "source": [
        "v = create_vocabulary_from_set(vocabulary)"
      ],
      "metadata": {
        "id": "ovYoSu0pP6vX"
      },
      "execution_count": 11,
      "outputs": []
    },
    {
      "cell_type": "code",
      "source": [
        "def read_dataset(text_path: str, lowercase: bool=True) -> Tuple[List[str], List[str]]:\n",
        "    questions = []\n",
        "    answers = []\n",
        "\n",
        "    with open(text_path) as f:\n",
        "        for idx, line in enumerate(f):\n",
        "            if lowercase:\n",
        "                if idx % 2 == 0: # Questions\n",
        "                    questions.append(line.rstrip().lower()) \n",
        "                else:\n",
        "                    answers.append(line.rstrip().lower())\n",
        "\n",
        "    return questions, answers"
      ],
      "metadata": {
        "id": "VVuI58IKLWyV"
      },
      "execution_count": null,
      "outputs": []
    },
    {
      "cell_type": "code",
      "source": [
        "class Mathematics_Dataset(Dataset):\n",
        "    def __init__(self, modules: List[str], vocabulary: dict):\n",
        "        self.modules = modules\n",
        "        self.questions = []\n",
        "        self.answers = []\n",
        "        for m in self.modules:\n",
        "            q_m, a_m = self.read_dataset(m)\n",
        "            self.questions += q_m\n",
        "            self.answers += a_m\n",
        "        self.max_len_question = 160 #forse serve multiplo di num_heads\n",
        "        self.max_len_answer = 30\n",
        "        self.vocabulary = vocabulary\n",
        "\n",
        "    def read_dataset(self, text_path: str, lowercase: bool=True) -> Tuple[List[str], List[str]]:\n",
        "        questions = []\n",
        "        answers = []\n",
        "        with open(text_path, 'r') as f:\n",
        "            for idx, line in enumerate(f):\n",
        "                if lowercase:\n",
        "                    if idx % 2 == 0: # Questions\n",
        "                        questions.append(line.rstrip().lower()) \n",
        "                    else: #Answers\n",
        "                        answers.append(line.rstrip().lower())\n",
        "        return questions, answers\n",
        "\n",
        "    def __len__(self):\n",
        "        return len(self.questions)\n",
        "\n",
        "    def __getitem__(self, idx):\n",
        "        assert idx < len(self.questions)\n",
        "        q, a = self.questions[idx], self.answers[idx]\n",
        "        question, answer = np.zeros(self.max_len_question + 2), np.zeros(self.max_len_question + 2) \n",
        "        question[0] = self.vocabulary['<bos>']\n",
        "        answer[0] = self.vocabulary['<bos>']\n",
        "\n",
        "        for i in range(len(q)):\n",
        "            c = '<unk>'\n",
        "            if q[i] in self.vocabulary:\n",
        "                c = q[i]\n",
        "            question[i + 1] = self.vocabulary[c]\n",
        "        i += 1\n",
        "        while i < self.max_len_question:\n",
        "            question[i + 1] = self.vocabulary['<pad>']\n",
        "            i += 1\n",
        "        question[self.max_len_question + 1] = self.vocabulary['<eos>']\n",
        "    \n",
        "        for j in range(len(a)): #bos caratteri pad eos pad MODIFICA POSSIBILE\n",
        "            c = '<unk>'\n",
        "            if a[j] in self.vocabulary:\n",
        "                c = a[j]\n",
        "            answer[j + 1] = self.vocabulary[c]\n",
        "        j += 1\n",
        "        while j < self.max_len_answer: \n",
        "            answer[j + 1] = self.vocabulary['<pad>']\n",
        "            j += 1\n",
        "        answer[self.max_len_answer + 1] = self.vocabulary['<eos>']\n",
        "        for j in range(self.max_len_answer + 2, self.max_len_question + 2):\n",
        "            answer[j] = self.vocabulary['<pad>']\n",
        "        question = torch.from_numpy(question).long()\n",
        "        answer = torch.from_numpy(answer).long()\n",
        "        return question, answer"
      ],
      "metadata": {
        "id": "jTr3UUzxtsvg"
      },
      "execution_count": 142,
      "outputs": []
    },
    {
      "cell_type": "code",
      "source": [
        "import os\n",
        "cwd = os.getcwd()\n",
        "cwd"
      ],
      "metadata": {
        "colab": {
          "base_uri": "https://localhost:8080/",
          "height": 35
        },
        "id": "BXjVw2SaXUyM",
        "outputId": "17ee0dbe-8dbb-4113-ddd4-558525091559"
      },
      "execution_count": null,
      "outputs": [
        {
          "output_type": "execute_result",
          "data": {
            "text/plain": [
              "'/content/drive/MyDrive/Deep_Learning_Project'"
            ],
            "application/vnd.google.colaboratory.intrinsic+json": {
              "type": "string"
            }
          },
          "metadata": {},
          "execution_count": 19
        }
      ]
    },
    {
      "cell_type": "code",
      "source": [
        "!ls"
      ],
      "metadata": {
        "colab": {
          "base_uri": "https://localhost:8080/"
        },
        "id": "2gfwuILFYWAK",
        "outputId": "675058f1-6864-4d49-b84e-c39ad6de110e"
      },
      "execution_count": null,
      "outputs": [
        {
          "output_type": "stream",
          "name": "stdout",
          "text": [
            "algebra__linear_1d  datasets  mathematics_dataset-v1.0\tmodules.txt\n"
          ]
        }
      ]
    },
    {
      "cell_type": "code",
      "source": [
        "d = Mathematics_Dataset(['./mathematics_dataset-v1.0/train-easy/algebra__linear_1d.txt'], v)"
      ],
      "metadata": {
        "id": "r0Dw7JW2Tdfk"
      },
      "execution_count": 143,
      "outputs": []
    },
    {
      "cell_type": "code",
      "source": [
        "q, a = d.__getitem__(8)"
      ],
      "metadata": {
        "id": "AjWNU26hVsrj"
      },
      "execution_count": 151,
      "outputs": []
    },
    {
      "cell_type": "code",
      "source": [
        "q, a"
      ],
      "metadata": {
        "id": "ghYwlKD0hZBf",
        "outputId": "69c60af8-36af-423c-8025-c8b0d2d619b7",
        "colab": {
          "base_uri": "https://localhost:8080/"
        }
      },
      "execution_count": 150,
      "outputs": [
        {
          "output_type": "execute_result",
          "data": {
            "text/plain": [
              "(tensor([ 0, 48, 55, 32, 39, 13, 12, 42, 18, 40, 47, 36, 12, 34, 12, 42, 40, 47,\n",
              "         36, 12, 42, 12, 18, 46, 12,  6, 55, 10, 12, 36, 56,  3,  3,  3,  3,  3,\n",
              "          3,  3,  3,  3,  3,  3,  3,  3,  3,  3,  3,  3,  3,  3,  3,  3,  3,  3,\n",
              "          3,  3,  3,  3,  3,  3,  3,  3,  3,  3,  3,  3,  3,  3,  3,  3,  3,  3,\n",
              "          3,  3,  3,  3,  3,  3,  3,  3,  3,  3,  3,  3,  3,  3,  3,  3,  3,  3,\n",
              "          3,  3,  3,  3,  3,  3,  3,  3,  3,  3,  3,  3,  3,  3,  3,  3,  3,  3,\n",
              "          3,  3,  3,  3,  3,  3,  3,  3,  3,  3,  3,  3,  3,  3,  3,  3,  3,  3,\n",
              "          3,  3,  3,  3,  3,  3,  3,  3,  3,  3,  3,  3,  3,  3,  3,  3,  3,  3,\n",
              "          3,  3,  3,  3,  3,  3,  3,  3,  3,  3,  3,  3,  3,  3,  3,  3,  3,  1]),\n",
              " tensor([ 0, 18,  3,  3,  3,  3,  3,  3,  3,  3,  3,  3,  3,  3,  3,  3,  3,  3,\n",
              "          3,  3,  3,  3,  3,  3,  3,  3,  3,  3,  3,  3,  3,  1,  3,  3,  3,  3,\n",
              "          3,  3,  3,  3,  3,  3,  3,  3,  3,  3,  3,  3,  3,  3,  3,  3,  3,  3,\n",
              "          3,  3,  3,  3,  3,  3,  3,  3,  3,  3,  3,  3,  3,  3,  3,  3,  3,  3,\n",
              "          3,  3,  3,  3,  3,  3,  3,  3,  3,  3,  3,  3,  3,  3,  3,  3,  3,  3,\n",
              "          3,  3,  3,  3,  3,  3,  3,  3,  3,  3,  3,  3,  3,  3,  3,  3,  3,  3,\n",
              "          3,  3,  3,  3,  3,  3,  3,  3,  3,  3,  3,  3,  3,  3,  3,  3,  3,  3,\n",
              "          3,  3,  3,  3,  3,  3,  3,  3,  3,  3,  3,  3,  3,  3,  3,  3,  3,  3,\n",
              "          3,  3,  3,  3,  3,  3,  3,  3,  3,  3,  3,  3,  3,  3,  3,  3,  3,  3]))"
            ]
          },
          "metadata": {},
          "execution_count": 150
        }
      ]
    },
    {
      "cell_type": "code",
      "source": [
        "q.shape"
      ],
      "metadata": {
        "id": "MwmQpGQHdVX9",
        "outputId": "5e22e11c-bc89-4d17-a035-81c89fe5f9cf",
        "colab": {
          "base_uri": "https://localhost:8080/"
        }
      },
      "execution_count": null,
      "outputs": [
        {
          "output_type": "execute_result",
          "data": {
            "text/plain": [
              "torch.Size([162])"
            ]
          },
          "metadata": {},
          "execution_count": 63
        }
      ]
    },
    {
      "cell_type": "code",
      "source": [
        "!ls"
      ],
      "metadata": {
        "colab": {
          "base_uri": "https://localhost:8080/"
        },
        "id": "zld9x_OvUxLh",
        "outputId": "afb7c099-1c48-4a16-c390-f110bef7ef3d"
      },
      "execution_count": null,
      "outputs": [
        {
          "output_type": "stream",
          "name": "stdout",
          "text": [
            "algebra__linear_1d  datasets  mathematics_dataset-v1.0\tmodules.txt\n"
          ]
        }
      ]
    },
    {
      "cell_type": "code",
      "source": [
        "class Mathematics_DataModule(pl.LightningDataModule):\n",
        "    def __init__(self, modules: List[str], batch_size: int = 32):\n",
        "        super().__init__()\n",
        "        self.modules = modules\n",
        "        self.batch_size = batch_size\n",
        "        self.load_vocabulary()\n",
        "    \n",
        "    def load_vocabulary(self):\n",
        "        with open('./datasets/vocabulary.pkl', 'rb') as f:\n",
        "            v = pickle.load(f)\n",
        "        self.vocabulary = create_vocabulary_from_set(v)\n",
        "\n",
        "    def setup(self):\n",
        "        self.math = Mathematics_Dataset(self.modules, self.vocabulary)\n",
        "        self.math_train, self.math_val, self.math_test = random_split(self.math, [0.75, 0.05, 0.20])\n",
        "    \n",
        "    def train_dataloader(self):\n",
        "        return DataLoader(self.math_train, batch_size=self.batch_size, shuffle=True)\n",
        "\n",
        "    def val_dataloader(self):                                                              \n",
        "        return DataLoader(self.math_val, batch_size=self.batch_size, shuffle=True)\n",
        "\n",
        "    def test_dataloader(self):\n",
        "        return DataLoader(self.math_test, batch_size=self.batch_size, shuffle=True)\n",
        "\n",
        "    def teardown(self, stage: str):\n",
        "        # Used to clean-up when the run is finished\n",
        "        pass"
      ],
      "metadata": {
        "id": "vTNe-ysc94gb"
      },
      "execution_count": 153,
      "outputs": []
    },
    {
      "cell_type": "code",
      "source": [
        "dm = Mathematics_DataModule(['./mathematics_dataset-v1.0/train-easy/algebra__linear_1d.txt'], batch_size = 64)"
      ],
      "metadata": {
        "id": "WmwPwXV6cnWm"
      },
      "execution_count": null,
      "outputs": []
    },
    {
      "cell_type": "code",
      "source": [
        "dm.setup()"
      ],
      "metadata": {
        "id": "TUnTxKp_diid"
      },
      "execution_count": null,
      "outputs": []
    },
    {
      "cell_type": "code",
      "source": [
        "dm.train_dataloader()"
      ],
      "metadata": {
        "id": "4n0CtcAxdoiz",
        "outputId": "19a684bd-8b21-481b-d612-58b207d2113f",
        "colab": {
          "base_uri": "https://localhost:8080/"
        }
      },
      "execution_count": null,
      "outputs": [
        {
          "output_type": "execute_result",
          "data": {
            "text/plain": [
              "<torch.utils.data.dataloader.DataLoader at 0x7fd150387a30>"
            ]
          },
          "metadata": {},
          "execution_count": 69
        }
      ]
    },
    {
      "cell_type": "code",
      "source": [
        "i = 0\n",
        "for s in dm.train_dataloader():\n",
        "    print(s)\n",
        "    i += 1\n",
        "    if i == 2:\n",
        "        break"
      ],
      "metadata": {
        "id": "tTFoTRdndxNG",
        "colab": {
          "base_uri": "https://localhost:8080/"
        },
        "outputId": "1528fbd7-0e2b-4b31-9d02-218103844833"
      },
      "execution_count": null,
      "outputs": [
        {
          "output_type": "stream",
          "name": "stdout",
          "text": [
            "[tensor([[ 0., 43., 21.,  ...,  3.,  3.,  1.],\n",
            "        [ 0., 43., 21.,  ...,  3.,  3.,  1.],\n",
            "        [ 0., 43., 21.,  ...,  3.,  3.,  1.],\n",
            "        ...,\n",
            "        [ 0., 43., 21.,  ...,  3.,  3.,  1.],\n",
            "        [ 0., 43., 21.,  ...,  3.,  3.,  1.],\n",
            "        [ 0., 43., 21.,  ...,  3.,  3.,  1.]], dtype=torch.float64), tensor([[ 0., 12., 37.,  ...,  3.,  3.,  1.],\n",
            "        [ 0., 12., 40.,  ...,  3.,  3.,  1.],\n",
            "        [ 0., 12., 51.,  ...,  3.,  3.,  1.],\n",
            "        ...,\n",
            "        [ 0., 18.,  3.,  ...,  3.,  3.,  1.],\n",
            "        [ 0., 12., 51.,  ...,  3.,  3.,  1.],\n",
            "        [ 0., 12., 36.,  ...,  3.,  3.,  1.]], dtype=torch.float64)]\n",
            "[tensor([[ 0., 43., 21.,  ...,  3.,  3.,  1.],\n",
            "        [ 0., 43., 21.,  ...,  3.,  3.,  1.],\n",
            "        [ 0., 43., 21.,  ...,  3.,  3.,  1.],\n",
            "        ...,\n",
            "        [ 0., 43., 21.,  ...,  3.,  3.,  1.],\n",
            "        [ 0., 43., 21.,  ...,  3.,  3.,  1.],\n",
            "        [ 0., 43., 21.,  ...,  3.,  3.,  1.]], dtype=torch.float64), tensor([[ 0., 40.,  3.,  ...,  3.,  3.,  1.],\n",
            "        [ 0., 33.,  3.,  ...,  3.,  3.,  1.],\n",
            "        [ 0., 37.,  3.,  ...,  3.,  3.,  1.],\n",
            "        ...,\n",
            "        [ 0., 12., 18.,  ...,  3.,  3.,  1.],\n",
            "        [ 0., 12., 33.,  ...,  3.,  3.,  1.],\n",
            "        [ 0., 12., 24.,  ...,  3.,  3.,  1.]], dtype=torch.float64)]\n"
          ]
        }
      ]
    },
    {
      "cell_type": "markdown",
      "source": [
        "# Modules"
      ],
      "metadata": {
        "id": "ho9Tk3GctrvH"
      }
    },
    {
      "cell_type": "code",
      "source": [
        "#forse meglio definire una stable softmax\n",
        "\"\"\"\n",
        "la x emb_d @ emb_d x lq\n",
        "la x lq (forse errore perché la maschera è la x la)\n",
        "\"\"\""
      ],
      "metadata": {
        "id": "tg6p4Y4ZXAyU"
      },
      "execution_count": null,
      "outputs": []
    },
    {
      "cell_type": "code",
      "source": [
        "def dot_product_attention(query, key, value, sqrt_q, mask):\n",
        "    t = torch.matmul(query, key.transpose(-2, -1))/sqrt_q\n",
        "    print(f\"query shape: {query.shape}\")\n",
        "    print(f\"key.T shape: {key.transpose(-2, -1).shape}\")\n",
        "    print(f\"t shape: {t.shape}\")\n",
        "    print(f\"mask shape: {mask.shape}\")\n",
        "    if mask is not None:\n",
        "      t = t.masked_fill_(mask == False, -1e-10) #-1e-10 acts like -infinity, so that the softmax will consider these tokens less important\n",
        "    return torch.matmul(F.softmax(t, dim = -1), value)"
      ],
      "metadata": {
        "id": "9JbWbeOJtt02"
      },
      "execution_count": 119,
      "outputs": []
    },
    {
      "cell_type": "code",
      "source": [
        "class MultiHeadAttention(nn.Module): \n",
        "    def __init__(self, embedding_dim, num_heads, batch_size, tp_attention = False):\n",
        "        super(MultiHeadAttention, self).__init__()\n",
        "        assert embedding_dim % num_heads == 0\n",
        "        self.tp_attention = tp_attention\n",
        "        self.dim_head = embedding_dim // num_heads #single head dimension\n",
        "        self.sqrt_q = sqrt(self.dim_head)\n",
        "        self.num_heads = num_heads\n",
        "        self.batch_size = batch_size\n",
        "        self.W_q = nn.Linear(embedding_dim, embedding_dim, bias = True) #stack of num_heads matrices of dimension (d, dim_head), one for each head\n",
        "        self.W_k = nn.Linear(embedding_dim, embedding_dim, bias = True)\n",
        "        self.W_v = nn.Linear(embedding_dim, embedding_dim, bias = True)\n",
        "        self.W_o = nn.Linear(embedding_dim, embedding_dim, bias = True)\n",
        "        if self.tp_attention:\n",
        "            self.W_r = nn.Linear(embedding_dim, embedding_dim, bias = True) #ruolo\n",
        "\n",
        "    def forward(self, query, key, value, mask): #query, key, value\n",
        "        q = self.W_q(query).view(self.batch_size, -1, self.num_heads, self.dim_head).transpose(1, 2)\n",
        "        k = self.W_k(key).view(self.batch_size, -1, self.num_heads, self.dim_head).transpose(1, 2)\n",
        "        v = self.W_v(value).view(self.batch_size, -1, self.num_heads, self.dim_head).transpose(1, 2)\n",
        "        attention_value = dot_product_attention(q, k, v, self.sqrt_q, mask)\n",
        "        if self.tp_attention:\n",
        "            role = self.W_r(query).view(self.batch_size, -1, self.num_heads, self.dim_head).transpose(1, 2)\n",
        "            attention_value *= role  #element-wise product between attention value and role before the final projection\n",
        "        return self.W_o(attention_value.transpose(1, 2).contiguous().view(self.batch_size, -1, self.num_heads*self.dim_head))"
      ],
      "metadata": {
        "id": "cdtptdthS6Td"
      },
      "execution_count": 120,
      "outputs": []
    },
    {
      "cell_type": "code",
      "source": [
        "\"\"\"\n",
        "class TP_MultiHeadAttention(nn.Module):\n",
        "    def __init__(self, embedding_dim, num_heads, batch_size):\n",
        "        super(TP_MultiHeadAttention, self).__init__()\n",
        "        assert embedding_dim % num_heads == 0\n",
        "        self.dim_head = embedding_dim // num_heads #single head dimension\n",
        "        self.sqrt_q = sqrt(self.dim_head)\n",
        "        self.num_heads = num_heads\n",
        "        self.batch_size = batch_size\n",
        "        self.W_q = nn.Linear(embedding_dim, embedding_dim, bias = True) #stack of num_heads matrices of dimension (d, dim_head), one for each head\n",
        "        self.W_k = nn.Linear(embedding_dim, embedding_dim, bias = True)\n",
        "        self.W_v = nn.Linear(embedding_dim, embedding_dim, bias = True)\n",
        "        self.W_o = nn.Linear(embedding_dim, embedding_dim, bias = True)\n",
        "\n",
        "    def forward(self, query, key, value, mask = None): #query, key, value\n",
        "        q = self.W_q(query).view(self.batch_size, -1, self.num_heads, self.dim_head).transpose(1, 2)\n",
        "        k = self.W_k(key).view(self.batch_size, -1, self.num_heads, self.dim_head).transpose(1, 2)\n",
        "        v = self.W_v(value).view(self.batch_size, -1, self.num_heads, self.dim_head).transpose(1, 2)\n",
        "        role = self.W_r(query).view(self.batch_size, -1, self.num_heads, self.dim_head).transpose(1, 2)\n",
        "        attention_value = dot_product_attention(q, k, v, self.sqrt_q, mask).transpose(1, 2) \n",
        "        return self.W_o((attention_value * role).contiguous().view(self.batch_size, -1, self.num_heads*self.dim_head)) #element-wise product between attention value and role before the final projection\n",
        "\"\"\""
      ],
      "metadata": {
        "id": "lEUjRO5EURve"
      },
      "execution_count": null,
      "outputs": []
    },
    {
      "cell_type": "code",
      "source": [
        "class TransformerBlock(nn.Module):\n",
        "    def __init__(self, embedding_dim, num_heads, batch_size, hidden_size = None, dropout=0.2, tp_attention = False):\n",
        "        super(TransformerBlock, self).__init__()\n",
        "        self.embedding_dim = embedding_dim\n",
        "        self.num_heads = num_heads\n",
        "        self.batch_size = batch_size\n",
        "        self.attention = MultiHeadAttention(embedding_dim, num_heads, batch_size, tp_attention)\n",
        "        self.norm1 = nn.LayerNorm(embedding_dim)\n",
        "        self.dropout1 = nn.Dropout(dropout)\n",
        "        self.norm2 = nn.LayerNorm(embedding_dim)\n",
        "        self.dropout2 = nn.Dropout(dropout)\n",
        "        hidden_size = 4*embedding_dim if hidden_size is None else hidden_size\n",
        "        self.ff = nn.Sequential(nn.Linear(embedding_dim, hidden_size, bias = True), \n",
        "                                nn.ReLU(inplace = True),\n",
        "                                nn.Linear(hidden_size, embedding_dim, bias = True))\n",
        "\n",
        "    def forward(self, query, key, value, mask): #query, key, value\n",
        "        x = query + self.attention(query, key, value, mask) #query as res conn because the decoder block requires it and it doesn't matter for encoder blocks\n",
        "        x = self.dropout1(self.norm1(x))\n",
        "        x = x + self.ff(x)\n",
        "        x = self.dropout2(self.norm2(x))\n",
        "        return x"
      ],
      "metadata": {
        "id": "GhrmQH8sUHwE"
      },
      "execution_count": 121,
      "outputs": []
    },
    {
      "cell_type": "code",
      "source": [
        "class DecoderBlock(nn.Module):\n",
        "    def __init__(self, embedding_dim, num_heads, batch_size, hidden_size, dropout = 0.2, tp_attention = False):\n",
        "        super(DecoderBlock, self).__init__()\n",
        "        self.masked_attention = MultiHeadAttention(embedding_dim, num_heads, batch_size, tp_attention)\n",
        "        self.norm = nn.LayerNorm(embedding_dim)\n",
        "        self.dropout = nn.Dropout(dropout)\n",
        "        self.transformer_block = TransformerBlock(embedding_dim, num_heads, batch_size, hidden_size, dropout, tp_attention)\n",
        "\n",
        "    def forward(self, output_encoder, src_mask, y, trg_mask):\n",
        "        y = y + self.masked_attention(y, y, y, trg_mask) #masked attention (y = query = key = value) + residual connection\n",
        "        y = self.dropout(self.norm(y))\n",
        "        return self.transformer_block(y, output_encoder, output_encoder, src_mask)#query from the masked mha and key and value from the encoder"
      ],
      "metadata": {
        "id": "w0MIvv-ZWL-M"
      },
      "execution_count": 122,
      "outputs": []
    },
    {
      "cell_type": "code",
      "source": [
        "class PositionalEncoding(nn.Module):\n",
        "    def __init__(self, embedding_dim, max_len = 5000):\n",
        "        super(PositionalEncoding, self).__init__()\n",
        "        pe = torch.zeros(max_len, embedding_dim)\n",
        "        position = torch.arange(0, max_len).unsqueeze(1)\n",
        "        div_term = torch.exp(torch.arange(0, embedding_dim, 2) * -(math.log(10000.0) / embedding_dim))\n",
        "        pe[:, 0::2] = torch.sin(position * div_term)\n",
        "        pe[:, 1::2] = torch.cos(position * div_term)\n",
        "        pe = pe.unsqueeze(0)\n",
        "        self.register_buffer('pe', pe)\n",
        "        \n",
        "    def forward(self, x):\n",
        "        return x + Variable(self.pe[:, :x.size(1)], requires_grad = False)"
      ],
      "metadata": {
        "id": "qrsDFyoyUF0D"
      },
      "execution_count": 123,
      "outputs": []
    },
    {
      "cell_type": "code",
      "source": [
        "class TransformerEncoder(nn.Module):\n",
        "    def __init__(self, embedding_dim, num_heads, batch_size, hidden_size, dropout, num_blocks = 6, tp_attention = False):\n",
        "        super(TransformerEncoder, self).__init__()\n",
        "        self.embedding_dim = embedding_dim\n",
        "        self.num_heads = num_heads\n",
        "        self.batch_size = batch_size\n",
        "        self.encoder = nn.ModuleList(\n",
        "            [TransformerBlock(embedding_dim, num_heads, batch_size, hidden_size, dropout, tp_attention) for _ in range(num_blocks)]\n",
        "            )\n",
        "\n",
        "    def forward(self, x, mask): \n",
        "        for block in self.encoder:\n",
        "            x = block(x, x, x, mask)\n",
        "        return x"
      ],
      "metadata": {
        "id": "bgNDRuG5YIWz"
      },
      "execution_count": 124,
      "outputs": []
    },
    {
      "cell_type": "code",
      "source": [
        "class TransformerDecoder(nn.Module):\n",
        "    def __init__(self, embedding_dim, num_heads, batch_size, hidden_size, dropout = 0.2, num_blocks = 6, tp_attention = False):\n",
        "        super(TransformerDecoder, self).__init__()\n",
        "        self.embedding_dim = embedding_dim\n",
        "        self.num_heads = num_heads\n",
        "        self.batch_size = batch_size\n",
        "        self.decoder = nn.ModuleList(\n",
        "            [DecoderBlock(embedding_dim, num_heads, batch_size, hidden_size, dropout, tp_attention) for _ in range(num_blocks)]\n",
        "            )\n",
        "\n",
        "    def forward(self, output_encoder, src_mask, y, trg_mask): \n",
        "        for block in self.decoder:\n",
        "            y = block(output_encoder, src_mask, y, trg_mask)\n",
        "        return y"
      ],
      "metadata": {
        "id": "Aybtz4uUY8vQ"
      },
      "execution_count": 125,
      "outputs": []
    },
    {
      "cell_type": "code",
      "source": [
        "class Transformer(pl.LightningModule):\n",
        "    def __init__(self, embedding_dim, num_heads, batch_size, hidden_size, dropout, vocabulary_size, pad_id = 3, num_blocks_encoder = 6, num_blocks_decoder = 6, tp_attention = False):\n",
        "        super(Transformer, self).__init__()\n",
        "        self.embedding_dim = embedding_dim\n",
        "        self.num_heads = num_heads\n",
        "        self.batch_size = batch_size\n",
        "        self.pad_id = pad_id\n",
        "        self.token_embedding = nn.Embedding(vocabulary_size, embedding_dim, padding_idx = self.pad_id)\n",
        "        self.positional_embedding = PositionalEncoding(embedding_dim)\n",
        "        self.encoder = TransformerEncoder(embedding_dim, num_heads, batch_size, hidden_size, dropout, num_blocks_encoder, tp_attention)\n",
        "        self.decoder = TransformerDecoder(embedding_dim, num_heads, batch_size, hidden_size, dropout, num_blocks_decoder, tp_attention)\n",
        "        self.to_logits = nn.Linear(embedding_dim, vocabulary_size)\n",
        "        \n",
        "        self.max_len_answer = 32\n",
        "        self.accuracy = torchmetrics.Accuracy(task=\"multiclass\", num_classes=vocabulary_size, ignore_index = self.pad_id)\n",
        "\n",
        "    def create_trg_mask(self, y): #compute a mask so that the prediction of the next token can only depend on the previous tokens\n",
        "        batch_size, seq_len = y.shape\n",
        "        mask = torch.tril(torch.ones((seq_len, seq_len), dtype = torch.bool)).expand(\n",
        "            batch_size, 1, seq_len, seq_len)\n",
        "        return mask & self.create_padding_mask(y)\n",
        "\n",
        "    def create_padding_mask(self, x):\n",
        "        batch_size, seq_len = x.shape #FAI UN CHECK PER VEDERE SE FA COSE SENSATE\n",
        "        mask = (x != self.pad_id).unsqueeze(-2).unsqueeze(-2).expand(\n",
        "                batch_size, 1, seq_len, seq_len)\n",
        "        return mask\n",
        "\n",
        "    def inference(self, x):\n",
        "        #encode and then generate the output token by token greedily\n",
        "        self.eval()\n",
        "        with torch.no_grad():\n",
        "            src_mask = self.create_padding_mask(x)\n",
        "            x = self.token_embedding(x)\n",
        "            x = self.positional_embedding(x)\n",
        "            output_encoder = self.encoder(x)\n",
        "            output = torch.ones(x.shape[0], 1).fill_(0).type_as(x) #0 is the <bos> index in the vocabulary\n",
        "            for _ in range(self.max_len_answer): #CONTROLLA PERCHÉ ORA \n",
        "                trg_mask = self.create_trg_mask(output)\n",
        "                output_embedding = self.token_embedding(output)\n",
        "                output_embedding = self.positional_embedding(output_embedding)\n",
        "                out = self.decoder(output_encoder, src_mask, output_embedding, trg_mask)\n",
        "                out = self.to_logits(out) \n",
        "                argmax = 0                         #DA FARE PRESTO\n",
        "                output = output.cat([output, argmax], dim = -1)\n",
        "            return output\n",
        "\n",
        "    def forward(self, x, y):\n",
        "        src_mask = self.create_padding_mask(x)\n",
        "        trg_mask = self.create_trg_mask(y)\n",
        "\n",
        "        x = self.token_embedding(x)\n",
        "        x = self.positional_embedding(x)\n",
        "        y = self.token_embedding(y)\n",
        "        y = self.positional_embedding(y)\n",
        "\n",
        "        output_encoder = self.encoder(x, src_mask)\n",
        "        return self.to_logits(self.decoder(output_encoder, src_mask, y, trg_mask))\n",
        "    \n",
        "    def configure_optimizers(self):# learning rate = 1x10^-4; beta1 =0.9; beta2 = 0.995 dal paper\n",
        "        return torch.optim.Adam(self.parameters(), lr=1e-4, betas=(0.9, 0.995))\n",
        "\n",
        "    def training_step(self, batch, batch_idx): #aggiungi gradient clipping nel Trainer\n",
        "        x, y = batch\n",
        "        y_pred = self(x, y)\n",
        "        loss = F.cross_entropy(y_pred, y, ignore_index = self.pad_id)\n",
        "        self.log(\"train_loss\", loss, on_step=True, on_epoch=True, prog_bar=True, logger=True)\n",
        "        return loss\n",
        "\n",
        "    def validation_step(self, batch, batch_idx):\n",
        "        x, y = batch\n",
        "        y_pred = self.inference(x)\n",
        "        self.accuracy.update(y_pred, y)\n",
        "\n",
        "    def validation_epoch_end(self, outputs):\n",
        "        self.log('accuracy_epoch', self.accuracy.compute())\n",
        "        self.accuracy.reset()\n"
      ],
      "metadata": {
        "id": "qiPC8tqNY8wN"
      },
      "execution_count": 126,
      "outputs": []
    },
    {
      "cell_type": "code",
      "source": [
        "dm = Mathematics_DataModule(['./mathematics_dataset-v1.0/train-easy/algebra__linear_1d.txt'], batch_size = 8)"
      ],
      "metadata": {
        "id": "56kHXNBlOAWW"
      },
      "execution_count": 134,
      "outputs": []
    },
    {
      "cell_type": "code",
      "source": [
        "dm.setup()\n",
        "dl = dm.train_dataloader()"
      ],
      "metadata": {
        "id": "tToexCz3OQb8"
      },
      "execution_count": 135,
      "outputs": []
    },
    {
      "cell_type": "code",
      "source": [
        "x, y = next(iter(dl))\n",
        "(x.shape, y.shape)"
      ],
      "metadata": {
        "id": "7azh03qfFifN",
        "colab": {
          "base_uri": "https://localhost:8080/"
        },
        "outputId": "f1196a6d-97b3-4d89-84f4-a789f16abbda"
      },
      "execution_count": 136,
      "outputs": [
        {
          "output_type": "execute_result",
          "data": {
            "text/plain": [
              "(torch.Size([8, 162]), torch.Size([8, 162]))"
            ]
          },
          "metadata": {},
          "execution_count": 136
        }
      ]
    },
    {
      "cell_type": "code",
      "source": [
        "t1 = Transformer(256, 4, 8, 256, 0.2, 58, num_blocks_encoder = 2, num_blocks_decoder = 2)"
      ],
      "metadata": {
        "id": "4_Enun2AOfOp"
      },
      "execution_count": 137,
      "outputs": []
    },
    {
      "cell_type": "code",
      "source": [
        "t1(x, y)"
      ],
      "metadata": {
        "colab": {
          "base_uri": "https://localhost:8080/"
        },
        "id": "756pOhA-O8bg",
        "outputId": "0be951b7-9910-4e83-f7b4-c05320834103"
      },
      "execution_count": 138,
      "outputs": [
        {
          "output_type": "stream",
          "name": "stdout",
          "text": [
            "query shape: torch.Size([8, 4, 162, 64])\n",
            "key.T shape: torch.Size([8, 4, 64, 162])\n",
            "t shape: torch.Size([8, 4, 162, 162])\n",
            "mask shape: torch.Size([8, 1, 162, 162])\n",
            "query shape: torch.Size([8, 4, 162, 64])\n",
            "key.T shape: torch.Size([8, 4, 64, 162])\n",
            "t shape: torch.Size([8, 4, 162, 162])\n",
            "mask shape: torch.Size([8, 1, 162, 162])\n",
            "query shape: torch.Size([8, 4, 162, 64])\n",
            "key.T shape: torch.Size([8, 4, 64, 162])\n",
            "t shape: torch.Size([8, 4, 162, 162])\n",
            "mask shape: torch.Size([8, 1, 162, 162])\n",
            "query shape: torch.Size([8, 4, 162, 64])\n",
            "key.T shape: torch.Size([8, 4, 64, 162])\n",
            "t shape: torch.Size([8, 4, 162, 162])\n",
            "mask shape: torch.Size([8, 1, 162, 162])\n",
            "query shape: torch.Size([8, 4, 162, 64])\n",
            "key.T shape: torch.Size([8, 4, 64, 162])\n",
            "t shape: torch.Size([8, 4, 162, 162])\n",
            "mask shape: torch.Size([8, 1, 162, 162])\n",
            "query shape: torch.Size([8, 4, 162, 64])\n",
            "key.T shape: torch.Size([8, 4, 64, 162])\n",
            "t shape: torch.Size([8, 4, 162, 162])\n",
            "mask shape: torch.Size([8, 1, 162, 162])\n"
          ]
        },
        {
          "output_type": "execute_result",
          "data": {
            "text/plain": [
              "tensor([[[-8.6860e-01, -8.8100e-01, -1.6803e-01,  ...,  4.1720e-01,\n",
              "          -1.0204e+00, -8.1162e-01],\n",
              "         [-3.6909e-01,  3.4496e-01,  2.8782e-01,  ...,  5.5593e-01,\n",
              "           6.8619e-02, -1.0308e+00],\n",
              "         [-6.7411e-01,  9.0704e-02, -5.3082e-01,  ...,  6.1977e-01,\n",
              "          -9.8281e-01, -7.6199e-01],\n",
              "         ...,\n",
              "         [-3.7489e-01, -2.1241e-01, -1.5496e+00,  ..., -7.4588e-01,\n",
              "          -8.5844e-01, -1.4641e-01],\n",
              "         [-1.6210e+00, -4.2117e-02,  1.0024e-01,  ...,  2.8651e-01,\n",
              "           2.9545e-01,  3.8468e-01],\n",
              "         [-8.5258e-01, -1.6422e-01,  2.2411e-01,  ...,  2.1928e-01,\n",
              "          -6.6220e-01, -5.0163e-01]],\n",
              "\n",
              "        [[ 1.9412e-01,  1.2836e-02,  8.7129e-01,  ...,  7.8262e-01,\n",
              "           5.0171e-02, -3.1992e-01],\n",
              "         [ 3.1201e-01,  3.7068e-01,  8.1923e-02,  ..., -6.4538e-01,\n",
              "          -6.0072e-01, -6.0429e-01],\n",
              "         [ 6.4408e-01,  1.1403e+00,  4.1847e-02,  ...,  3.8696e-02,\n",
              "          -4.4704e-02,  1.3026e-01],\n",
              "         ...,\n",
              "         [-7.3716e-01, -9.6429e-02, -9.9490e-01,  ...,  5.3312e-01,\n",
              "          -7.6380e-01, -4.6613e-01],\n",
              "         [-4.1515e-01, -1.0668e-01, -9.3409e-01,  ..., -5.3472e-01,\n",
              "          -8.6843e-01, -7.2924e-02],\n",
              "         [ 1.1967e-01,  8.6500e-01, -2.9065e-01,  ..., -4.5002e-01,\n",
              "          -5.4115e-01,  9.9213e-02]],\n",
              "\n",
              "        [[-2.4889e-01, -5.9001e-01, -7.1963e-02,  ..., -1.1185e-01,\n",
              "          -8.7879e-02,  4.8019e-02],\n",
              "         [-3.2828e-02, -4.0208e-01, -9.1926e-02,  ..., -7.8140e-01,\n",
              "           3.7487e-01, -4.1430e-01],\n",
              "         [ 6.7627e-05,  6.6779e-02, -4.4065e-02,  ..., -6.2137e-01,\n",
              "          -7.3521e-01, -2.3190e-01],\n",
              "         ...,\n",
              "         [ 5.9818e-02, -1.4159e+00, -1.2086e+00,  ..., -3.9935e-01,\n",
              "           5.3878e-01,  8.4223e-01],\n",
              "         [-4.9851e-01, -7.6278e-01, -2.9341e-01,  ...,  6.6891e-01,\n",
              "          -7.3662e-02, -7.3466e-01],\n",
              "         [ 1.1630e+00,  1.9402e-01,  1.1915e+00,  ...,  1.4272e+00,\n",
              "           2.0293e-01,  8.2490e-01]],\n",
              "\n",
              "        ...,\n",
              "\n",
              "        [[ 5.8684e-01, -5.9073e-01,  1.8070e-01,  ...,  7.8881e-01,\n",
              "           2.5215e-02,  4.6421e-01],\n",
              "         [-6.2190e-01, -2.0280e-01,  4.0690e-01,  ..., -6.1418e-01,\n",
              "          -1.6642e-01, -4.2213e-01],\n",
              "         [-5.8161e-01, -6.6270e-01, -5.6691e-01,  ..., -6.9916e-01,\n",
              "          -2.6122e-01, -6.0946e-01],\n",
              "         ...,\n",
              "         [-1.0035e+00, -9.7562e-01, -3.6338e-01,  ...,  2.2046e-01,\n",
              "          -2.2282e-01,  3.2324e-01],\n",
              "         [-7.2058e-01, -7.9994e-01, -1.3494e+00,  ..., -3.9518e-01,\n",
              "          -1.6140e+00, -7.3806e-01],\n",
              "         [-3.2697e-01, -4.7255e-01, -8.1318e-01,  ...,  3.8601e-01,\n",
              "           1.7503e-01,  2.1791e-01]],\n",
              "\n",
              "        [[-1.0047e+00,  5.7403e-01,  4.8844e-01,  ...,  1.8438e-01,\n",
              "          -5.3398e-01, -6.4971e-01],\n",
              "         [ 1.0343e+00, -8.2856e-01, -4.0949e-01,  ..., -1.1101e+00,\n",
              "          -4.0835e-01, -1.2948e-01],\n",
              "         [-4.5459e-01, -2.9492e-01, -4.1544e-01,  ..., -1.4261e-01,\n",
              "          -1.7180e-01, -1.0876e+00],\n",
              "         ...,\n",
              "         [-4.0132e-01, -5.1243e-01, -5.9437e-01,  ...,  1.7684e-01,\n",
              "          -1.3384e-01,  7.8782e-01],\n",
              "         [-7.3096e-01, -5.6962e-02,  1.1653e-01,  ...,  1.0441e+00,\n",
              "           9.6696e-03,  1.4785e-01],\n",
              "         [ 6.5962e-02, -8.8385e-01,  1.0805e+00,  ...,  8.3549e-01,\n",
              "           1.5787e-01, -1.2541e-01]],\n",
              "\n",
              "        [[-3.7140e-01,  7.2634e-01,  8.8216e-02,  ..., -6.7497e-02,\n",
              "          -7.6521e-01,  5.5244e-01],\n",
              "         [-4.1340e-02,  1.1845e+00,  1.0814e+00,  ..., -5.1656e-02,\n",
              "          -3.8471e-01,  8.5132e-01],\n",
              "         [-8.5118e-02,  3.5996e-01, -8.9169e-01,  ..., -4.6732e-01,\n",
              "           2.4797e-02, -5.1202e-01],\n",
              "         ...,\n",
              "         [-9.1282e-01, -7.7690e-01, -1.0518e+00,  ...,  1.8171e-01,\n",
              "          -1.0406e+00, -5.5080e-01],\n",
              "         [-4.1131e-01, -4.0923e-01,  3.3495e-01,  ...,  5.7841e-02,\n",
              "          -1.2650e-01,  1.9942e-01],\n",
              "         [-4.6762e-01, -9.4956e-02, -9.2273e-01,  ...,  9.0798e-01,\n",
              "          -1.0167e+00, -7.6254e-01]]], grad_fn=<ViewBackward0>)"
            ]
          },
          "metadata": {},
          "execution_count": 138
        }
      ]
    },
    {
      "cell_type": "code",
      "source": [
        "t2 = Transformer(128, 4, 8, 256, 0.2, 58, num_blocks_encoder = 2, num_blocks_decoder = 2, tp_attention = True)"
      ],
      "metadata": {
        "id": "nsAWmtgiO8f5"
      },
      "execution_count": 84,
      "outputs": []
    },
    {
      "cell_type": "code",
      "source": [
        "t2(x,y)"
      ],
      "metadata": {
        "colab": {
          "base_uri": "https://localhost:8080/"
        },
        "id": "9Fsh86VfUenO",
        "outputId": "a15209a6-c114-4fd2-d9d0-1ab373993d67"
      },
      "execution_count": 85,
      "outputs": [
        {
          "output_type": "stream",
          "name": "stdout",
          "text": [
            "mask after unsqueeze: torch.Size([8, 1, 1, 162])\n",
            "mask after unsqueeze: torch.Size([8, 1, 1, 32])\n",
            "at value shape: torch.Size([8, 4, 162, 32])\n",
            "role shape: torch.Size([8, 4, 162, 32])\n",
            "at value shape: torch.Size([8, 4, 162, 32])\n",
            "role shape: torch.Size([8, 4, 162, 32])\n",
            "at value shape: torch.Size([8, 4, 32, 32])\n",
            "role shape: torch.Size([8, 4, 32, 32])\n",
            "at value shape: torch.Size([8, 4, 32, 32])\n",
            "role shape: torch.Size([8, 4, 32, 32])\n",
            "at value shape: torch.Size([8, 4, 32, 32])\n",
            "role shape: torch.Size([8, 4, 32, 32])\n",
            "at value shape: torch.Size([8, 4, 32, 32])\n",
            "role shape: torch.Size([8, 4, 32, 32])\n"
          ]
        },
        {
          "output_type": "execute_result",
          "data": {
            "text/plain": [
              "tensor([[[-8.6346e-02, -9.4784e-01,  4.2047e-01,  ...,  2.6463e-01,\n",
              "           8.3313e-01, -1.4773e+00],\n",
              "         [ 5.1860e-01,  2.8757e-02,  2.5992e-01,  ..., -2.5352e-01,\n",
              "          -3.6327e-01, -1.6211e-01],\n",
              "         [ 1.3191e+00, -5.0016e-01,  1.2975e-01,  ...,  3.6880e-01,\n",
              "           1.1554e-01,  6.0056e-01],\n",
              "         ...,\n",
              "         [ 3.0647e-01,  7.5897e-01, -2.1815e-01,  ..., -1.6927e-01,\n",
              "          -1.3067e-01,  9.0310e-01],\n",
              "         [ 8.8128e-01, -5.7365e-01,  9.1345e-01,  ...,  2.4984e-01,\n",
              "           1.3463e+00,  5.1418e-01],\n",
              "         [-7.0717e-02, -9.1214e-01,  1.3559e+00,  ...,  1.1616e-01,\n",
              "          -2.7784e-01,  8.5368e-01]],\n",
              "\n",
              "        [[-2.3930e-01, -1.4695e+00,  1.4561e-01,  ...,  1.0363e+00,\n",
              "           3.3070e-01, -5.3704e-01],\n",
              "         [ 2.2137e-01,  6.0087e-01, -4.7695e-02,  ..., -1.8453e+00,\n",
              "           1.5709e-01, -6.2129e-02],\n",
              "         [ 2.4720e-01, -9.7772e-02,  2.3021e-01,  ..., -3.1716e-01,\n",
              "           3.1636e-01,  2.8233e-02],\n",
              "         ...,\n",
              "         [ 1.8542e+00, -5.9702e-01,  5.1012e-01,  ..., -1.6596e-01,\n",
              "           1.6307e+00,  2.8640e-01],\n",
              "         [ 2.5011e-01,  4.3150e-01,  5.4698e-01,  ...,  4.0438e-01,\n",
              "          -3.8302e-01,  4.3851e-01],\n",
              "         [ 1.5405e+00,  2.3573e-01,  1.1143e+00,  ...,  1.3555e+00,\n",
              "           1.1435e+00,  2.7629e-01]],\n",
              "\n",
              "        [[ 9.1336e-01, -8.3107e-01,  1.0238e+00,  ..., -1.7944e-01,\n",
              "           4.4814e-01, -5.0016e-01],\n",
              "         [-1.9466e-03, -3.2709e-01, -1.6910e-01,  ..., -8.8333e-01,\n",
              "          -9.6832e-01, -3.9697e-01],\n",
              "         [-3.1820e-01, -5.0431e-01,  1.4036e-01,  ..., -7.2725e-01,\n",
              "           1.0699e+00, -3.6881e-01],\n",
              "         ...,\n",
              "         [-8.5459e-01, -3.6908e-01,  1.1522e-01,  ...,  1.0376e+00,\n",
              "           7.0647e-01,  3.6829e-01],\n",
              "         [ 4.4829e-02,  1.2788e-01,  9.4202e-01,  ...,  4.9566e-01,\n",
              "           3.1439e-01,  2.8670e-01],\n",
              "         [ 2.4043e-04, -2.4175e-01,  2.0825e-02,  ..., -3.9608e-01,\n",
              "           6.6078e-01,  4.4662e-01]],\n",
              "\n",
              "        ...,\n",
              "\n",
              "        [[-2.5281e-01, -7.8254e-01, -2.2925e-01,  ..., -2.4620e-01,\n",
              "          -1.6881e-01, -6.4889e-01],\n",
              "         [ 3.1235e-02, -5.3568e-01,  2.1022e-01,  ..., -3.9265e-01,\n",
              "           6.2897e-01,  8.2141e-01],\n",
              "         [ 2.9797e-01, -3.8222e-01,  4.0331e-01,  ...,  1.0052e+00,\n",
              "           5.4105e-01, -7.4013e-01],\n",
              "         ...,\n",
              "         [ 5.1431e-01, -9.9902e-01, -2.3874e-02,  ...,  2.9613e-01,\n",
              "           3.2874e-01,  1.8577e-01],\n",
              "         [-6.0311e-01,  5.4976e-01,  3.1069e-01,  ...,  2.1079e-01,\n",
              "           2.5692e-02,  1.2799e-01],\n",
              "         [ 4.5410e-01, -1.2417e+00,  1.5327e+00,  ...,  7.5857e-01,\n",
              "           2.0651e-01,  1.8217e-01]],\n",
              "\n",
              "        [[ 6.2830e-02, -6.1779e-01,  1.4035e-01,  ...,  1.1356e-01,\n",
              "           5.6352e-01, -7.1153e-01],\n",
              "         [ 3.2074e-01, -3.6961e-02, -9.2044e-01,  ..., -5.7548e-01,\n",
              "           1.2164e+00, -8.4604e-01],\n",
              "         [-3.2226e-01, -7.9428e-01, -7.7501e-02,  ...,  1.2429e+00,\n",
              "           7.3340e-01, -3.1008e-01],\n",
              "         ...,\n",
              "         [ 1.1992e-01, -4.5141e-02,  4.5215e-01,  ...,  4.8257e-01,\n",
              "           7.3500e-01,  4.9747e-01],\n",
              "         [ 9.2003e-01,  9.4671e-01,  4.7209e-02,  ...,  1.2767e+00,\n",
              "           6.7971e-01,  8.9081e-01],\n",
              "         [ 3.3828e-01,  4.0383e-01,  9.5004e-01,  ...,  2.7096e-01,\n",
              "           2.6292e-01,  2.7172e-01]],\n",
              "\n",
              "        [[ 9.4144e-01, -2.4494e+00, -8.4046e-01,  ..., -3.9351e-02,\n",
              "           7.4371e-01, -2.3014e-01],\n",
              "         [-1.6486e-01, -6.5073e-01, -1.4045e+00,  ..., -3.4530e-01,\n",
              "          -4.2656e-01,  7.2877e-01],\n",
              "         [ 1.7768e-01, -1.0674e+00, -8.6152e-01,  ..., -8.1834e-02,\n",
              "           5.4840e-01, -2.0788e-01],\n",
              "         ...,\n",
              "         [ 2.3369e-01, -1.6143e-01,  1.0065e-01,  ..., -4.4025e-01,\n",
              "           1.7050e+00, -4.3864e-01],\n",
              "         [ 5.0932e-01, -9.9808e-01,  6.1047e-01,  ..., -4.2903e-01,\n",
              "           7.1398e-01,  6.0297e-01],\n",
              "         [ 1.5658e-01, -3.7474e-01,  1.5167e+00,  ...,  2.4089e-01,\n",
              "          -2.2356e-01,  3.7635e-01]]], grad_fn=<ViewBackward0>)"
            ]
          },
          "metadata": {},
          "execution_count": 85
        }
      ]
    },
    {
      "cell_type": "markdown",
      "source": [
        "# SOTA"
      ],
      "metadata": {
        "id": "sEka3B3Eq69g"
      }
    },
    {
      "cell_type": "code",
      "source": [],
      "metadata": {
        "id": "Uf3QJeF-q-AW"
      },
      "execution_count": null,
      "outputs": []
    },
    {
      "cell_type": "markdown",
      "source": [
        "# NON-SOTA"
      ],
      "metadata": {
        "id": "0b4LEKhjtizS"
      }
    },
    {
      "cell_type": "code",
      "source": [],
      "metadata": {
        "id": "mm-mxAgbtmPO"
      },
      "execution_count": null,
      "outputs": []
    }
  ]
}